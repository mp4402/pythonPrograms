{
 "cells": [
  {
   "cell_type": "code",
   "execution_count": null,
   "metadata": {},
   "outputs": [],
   "source": [
    "import matplotlib.pyplot as plt\n",
    "import numpy as np\n",
    "import cv2 as cv\n",
    "import errno\n",
    "import cvlib\n",
    "import io\n",
    "\n",
    "\n",
    "%matplotlib inline\n",
    "#plt.style.use('dark_background') \n",
    "PATH = 'C:/GitHub/pythonPrograms/computerVision2023/proyectos/LicencePlates/'"
   ]
  }
 ],
 "metadata": {
  "language_info": {
   "name": "python"
  },
  "orig_nbformat": 4
 },
 "nbformat": 4,
 "nbformat_minor": 2
}
