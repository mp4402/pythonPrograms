{
 "cells": [
  {
   "cell_type": "code",
   "execution_count": 1,
   "metadata": {},
   "outputs": [],
   "source": [
    "from pyspark.sql import SparkSession\n"
   ]
  },
  {
   "cell_type": "code",
   "execution_count": 2,
   "metadata": {},
   "outputs": [],
   "source": [
    "spark = SparkSession.builder.appName(\"My App\").getOrCreate()"
   ]
  },
  {
   "cell_type": "code",
   "execution_count": 20,
   "metadata": {},
   "outputs": [
    {
     "name": "stdout",
     "output_type": "stream",
     "text": [
      "+------+-----+-------------+--------------------+------------------+-------------------+------------+---------+-----------+----------+------------+-----------------+--------+---------+----------+---------+--------------+--------+\n",
      "|    id|ident|         type|                name|      latitude_deg|      longitude_deg|elevation_ft|continent|iso_country|iso_region|municipality|scheduled_service|gps_code|iata_code|local_code|home_link|wikipedia_link|keywords|\n",
      "+------+-----+-------------+--------------------+------------------+-------------------+------------+---------+-----------+----------+------------+-----------------+--------+---------+----------+---------+--------------+--------+\n",
      "|  6523|  00A|     heliport|   Total Rf Heliport|    40.07080078125| -74.93360137939453|          11|       NA|         US|     US-PA|    Bensalem|               no|     00A|     null|       00A|     null|          null|    null|\n",
      "|323361| 00AA|small_airport|Aero B Ranch Airport|         38.704022|        -101.473911|        3435|       NA|         US|     US-KS|       Leoti|               no|    00AA|     null|      00AA|     null|          null|    null|\n",
      "|  6524| 00AK|small_airport|        Lowell Field|         59.947733|        -151.692524|         450|       NA|         US|     US-AK|Anchor Point|               no|    00AK|     null|      00AK|     null|          null|    null|\n",
      "|  6525| 00AL|small_airport|        Epps Airpark| 34.86479949951172| -86.77030181884766|         820|       NA|         US|     US-AL|     Harvest|               no|    00AL|     null|      00AL|     null|          null|    null|\n",
      "|  6526| 00AR|       closed|Newport Hospital ...|           35.6087|         -91.254898|         237|       NA|         US|     US-AR|     Newport|               no|    null|     null|      null|     null|          null|    00AR|\n",
      "|322127| 00AS|small_airport|      Fulton Airport|        34.9428028|        -97.8180194|        1100|       NA|         US|     US-OK|        Alex|               no|    00AS|     null|      00AS|     null|          null|    null|\n",
      "|  6527| 00AZ|small_airport|      Cordes Airport|34.305599212646484|-112.16500091552734|        3810|       NA|         US|     US-AZ|      Cordes|               no|    00AZ|     null|      00AZ|     null|          null|    null|\n",
      "|  6528| 00CA|small_airport|Goldstone (GTS) A...|          35.35474|        -116.885329|        3038|       NA|         US|     US-CA|     Barstow|               no|    00CA|     null|      00CA|     null|          null|    null|\n",
      "|324424| 00CL|small_airport| Williams Ag Airport|         39.427188|        -121.763427|          87|       NA|         US|     US-CA|       Biggs|               no|    00CL|     null|      00CL|     null|          null|    null|\n",
      "|322658| 00CN|     heliport|Kitchen Creek Hel...|        32.7273736|       -116.4597417|        3350|       NA|         US|     US-CA| Pine Valley|               no|    00CN|     null|      00CN|     null|          null|    null|\n",
      "|  6529| 00CO|       closed|          Cass Field|         40.622202|        -104.344002|        4830|       NA|         US|     US-CO|  Briggsdale|               no|    null|     null|      null|     null|          null|    00CO|\n",
      "|  6531| 00FA|small_airport| Grass Patch Airport| 28.64550018310547| -82.21900177001953|          53|       NA|         US|     US-FL|    Bushnell|               no|    00FA|     null|      00FA|     null|          null|    null|\n",
      "|  6532| 00FD|       closed|  Ringhaver Heliport|           28.8466|         -82.345398|          25|       NA|         US|     US-FL|   Riverview|               no|    null|     null|      null|     null|          null|    00FD|\n",
      "|  6533| 00FL|small_airport|   River Oak Airport|27.230899810791016| -80.96920013427734|          35|       NA|         US|     US-FL|  Okeechobee|               no|    00FL|     null|      00FL|     null|          null|    null|\n",
      "|  6534| 00GA|small_airport|    Lt World Airport| 33.76750183105469| -84.06829833984375|         700|       NA|         US|     US-GA|    Lithonia|               no|    00GA|     null|      00GA|     null|          null|    null|\n",
      "|  6535| 00GE|     heliport|    Caffrey Heliport|         33.887982|         -84.736983|         957|       NA|         US|     US-GA|       Hiram|               no|    00GE|     null|      00GE|     null|          null|    null|\n",
      "|  6536| 00HI|     heliport|  Kaupulehu Heliport|         19.832881|        -155.978347|          43|       OC|         US|     US-HI| Kailua-Kona|               no|    00HI|     null|      00HI|     null|          null|    null|\n",
      "|  6537| 00ID|small_airport|Delta Shores Airport|48.145301818847656|-116.21399688720703|        2064|       NA|         US|     US-ID|  Clark Fork|               no|    00ID|     null|      00ID|     null|          null|    null|\n",
      "|322581| 00IG|small_airport|       Goltl Airport|         39.724028|        -101.395994|        3359|       NA|         US|     US-KS|    McDonald|               no|    00IG|     null|      00IG|     null|          null|    null|\n",
      "|  6538| 00II|       closed|Bailey Generation...|         41.644501|         -87.122803|         600|       NA|         US|     US-IN|  Chesterton|               no|    null|     null|      null|     null|          null|    00II|\n",
      "+------+-----+-------------+--------------------+------------------+-------------------+------------+---------+-----------+----------+------------+-----------------+--------+---------+----------+---------+--------------+--------+\n",
      "only showing top 20 rows\n",
      "\n"
     ]
    },
    {
     "data": {
      "text/plain": [
       "{None}"
      ]
     },
     "execution_count": 20,
     "metadata": {},
     "output_type": "execute_result"
    }
   ],
   "source": [
    "(spark\n",
    ".read\n",
    ".option('header',True)\n",
    ".csv('airports.csv')\n",
    ".show()\n",
    ")"
   ]
  },
  {
   "cell_type": "code",
   "execution_count": 3,
   "metadata": {},
   "outputs": [],
   "source": [
    "df_airports = (spark\n",
    "                .read\n",
    "                .option('header',True)\n",
    "                .csv('airports.csv')\n",
    "                #.show()\n",
    "                )\n",
    "df_airport_freq = (spark\n",
    "                .read\n",
    "                .option('header',True)\n",
    "                .csv('airport-frequencies.csv')\n",
    "                #.show\n",
    "                )\n",
    "df_runways = (spark\n",
    "                .read\n",
    "                .option('header',True)\n",
    "                .csv('runways.csv')\n",
    "                #.show()\n",
    "                )"
   ]
  },
  {
   "cell_type": "code",
   "execution_count": 8,
   "metadata": {},
   "outputs": [
    {
     "name": "stdout",
     "output_type": "stream",
     "text": [
      "+----+-----+\n",
      "|  id|ident|\n",
      "+----+-----+\n",
      "|3632| KLAX|\n",
      "+----+-----+\n",
      "\n"
     ]
    },
    {
     "data": {
      "text/plain": [
       "{None}"
      ]
     },
     "execution_count": 8,
     "metadata": {},
     "output_type": "execute_result"
    }
   ],
   "source": [
    "from pyspark.sql.functions import col \n",
    "\n",
    "{df_airports\n",
    ".filter(col(\"ident\")==\"KLAX\")\n",
    ".select('id','ident')\n",
    ".show()\n",
    "}"
   ]
  },
  {
   "cell_type": "code",
   "execution_count": 24,
   "metadata": {},
   "outputs": [
    {
     "name": "stdout",
     "output_type": "stream",
     "text": [
      "+--------------+\n",
      "|          type|\n",
      "+--------------+\n",
      "| large_airport|\n",
      "|   balloonport|\n",
      "| seaplane_base|\n",
      "|      heliport|\n",
      "|        closed|\n",
      "|medium_airport|\n",
      "| small_airport|\n",
      "+--------------+\n",
      "\n"
     ]
    }
   ],
   "source": [
    "(df_airports\n",
    ".select('type')\n",
    ".distinct()\n",
    ".show()\n",
    ")"
   ]
  },
  {
   "cell_type": "code",
   "execution_count": 26,
   "metadata": {},
   "outputs": [
    {
     "name": "stdout",
     "output_type": "stream",
     "text": [
      "+------+-------+-------------+--------------------+------------------+-------------------+------------+---------+-----------+----------+------------+-----------------+--------+---------+----------+---------+--------------+--------+\n",
      "|    id|  ident|         type|                name|      latitude_deg|      longitude_deg|elevation_ft|continent|iso_country|iso_region|municipality|scheduled_service|gps_code|iata_code|local_code|home_link|wikipedia_link|keywords|\n",
      "+------+-------+-------------+--------------------+------------------+-------------------+------------+---------+-----------+----------+------------+-----------------+--------+---------+----------+---------+--------------+--------+\n",
      "|  7436|    0O0|seaplane_base|San Luis Reservoi...| 37.05830001831055| -121.1259994506836|         544|       NA|         US|     US-CA|   Los Banos|               no|     0O0|     null|       0O0|     null|          null|    null|\n",
      "|  8877|   22CA|seaplane_base|Commodore Center ...|         37.878893|        -122.512697|        null|       NA|         US|     US-CA| Mill Valley|               no|    22CA|     null|      22CA|     null|          null|    null|\n",
      "| 12298|   5CA9|seaplane_base|Konocti  - Clear ...|         38.977699|        -122.718002|        1326|       NA|         US|     US-CA| Kelseyville|               no|    5CA9|     null|      5CA9|     null|          null|    null|\n",
      "| 16514|    C39|seaplane_base|Folsom Lake Seapl...| 38.70719909667969|-121.13300323486328|         466|       NA|         US|     US-CA|      Folsom|               no|     C39|     null|       C39|     null|          null|    null|\n",
      "| 16830|   CN20|seaplane_base|Ferndale Resort S...| 39.00299835205078| -122.7969970703125|        1326|       NA|         US|     US-CA| Kelseyville|               no|    CN20|     null|      CN20|     null|          null|    null|\n",
      "| 17157|    E20|seaplane_base|Lake Berryessa Se...|         38.550979|        -122.227682|         440|       NA|         US|     US-CA|        Napa|               no|    null|     null|       E20|     null|          null|    null|\n",
      "| 17613|    H77|seaplane_base|Bridge Bay Resort...|40.757598876953125|  -122.322998046875|        1065|       NA|         US|     US-CA|     Redding|               no|     H77|     null|       H77|     null|          null|    null|\n",
      "| 21444|    L11|seaplane_base|Pebbly Beach Seap...|         33.338402|        -118.311996|        null|       NA|         US|     US-CA|      Avalon|               no|    KL11|     null|       L11|     null|          null|    null|\n",
      "| 23479|    O06|seaplane_base|Lake Oroville Lan...| 39.56660079956055|-121.46800231933594|         900|       NA|         US|     US-CA|    Oroville|               no|     O06|     null|       O06|     null|          null|    null|\n",
      "| 24384|    S74|seaplane_base|Lost Isle Seaplan...| 38.00410079956055|-121.45700073242188|        null|       NA|         US|     US-CA|    Stockton|               no|     S74|     null|       S74|     null|          null|    null|\n",
      "|300312|    TWH|seaplane_base|Two Harbors Amphi...|33.432222222200004|     -118.508611111|        null|       NA|         US|     US-CA| Two Harbors|               no|    null|      TWH|      null|     null|          null|    null|\n",
      "|342286|US-3338|seaplane_base|Avalon Port Seapl...|          33.34526|        -118.324329|        null|       NA|         US|     US-CA|      Avalon|               no|    null|     null|      null|     null|          null|    null|\n",
      "+------+-------+-------------+--------------------+------------------+-------------------+------------+---------+-----------+----------+------------+-----------------+--------+---------+----------+---------+--------------+--------+\n",
      "\n"
     ]
    }
   ],
   "source": [
    "(\n",
    "df_airports\n",
    ".filter((df_airports.iso_region=='US-CA') & (df_airports.type=='seaplane_base'))\n",
    ".show()\n",
    ")"
   ]
  },
  {
   "cell_type": "code",
   "execution_count": 27,
   "metadata": {},
   "outputs": [
    {
     "name": "stdout",
     "output_type": "stream",
     "text": [
      "+----------+------------+\n",
      "|iso_region|municipality|\n",
      "+----------+------------+\n",
      "|     US-CA|   Los Banos|\n",
      "|     US-CA| Mill Valley|\n",
      "|     US-CA| Kelseyville|\n",
      "|     US-CA|      Folsom|\n",
      "|     US-CA| Kelseyville|\n",
      "|     US-CA|        Napa|\n",
      "|     US-CA|     Redding|\n",
      "|     US-CA|      Avalon|\n",
      "|     US-CA|    Oroville|\n",
      "|     US-CA|    Stockton|\n",
      "|     US-CA| Two Harbors|\n",
      "|     US-CA|      Avalon|\n",
      "+----------+------------+\n",
      "\n"
     ]
    }
   ],
   "source": [
    "(\n",
    "df_airports\n",
    ".filter((df_airports.iso_region=='US-CA') & (df_airports.type=='seaplane_base'))\n",
    ".select('iso_region','municipality')\n",
    ".show()\n",
    ")"
   ]
  },
  {
   "cell_type": "code",
   "execution_count": 36,
   "metadata": {},
   "outputs": [
    {
     "name": "stdout",
     "output_type": "stream",
     "text": [
      "+-----+-----------+-------------+----+-----------+-------------+\n",
      "|   id|airport_ref|airport_ident|type|description|frequency_mhz|\n",
      "+-----+-----------+-------------+----+-----------+-------------+\n",
      "|60776|       3632|         KLAX|UNIC|     UNICOM|       122.95|\n",
      "|60775|       3632|         KLAX| TWR|        TWR|        119.8|\n",
      "|60774|       3632|         KLAX| OPS|         AF|        37.22|\n",
      "|60772|       3632|         KLAX|MISC|         CG|         34.5|\n",
      "|60773|       3632|         KLAX|MISC|         CG|        898.4|\n",
      "|60771|       3632|         KLAX| GND|        GND|       121.65|\n",
      "|60770|       3632|         KLAX| DEP|  SOCAL DEP|        124.3|\n",
      "|60769|       3632|         KLAX| CLD|   CLNC DEL|        121.4|\n",
      "|60768|       3632|         KLAX|ATIS|       ATIS|        133.8|\n",
      "|60767|       3632|         KLAX| APP|  SOCAL APP|        36.07|\n",
      "|60766|       3632|         KLAX| APP|  SOCAL APP|        124.3|\n",
      "+-----+-----------+-------------+----+-----------+-------------+\n",
      "\n"
     ]
    }
   ],
   "source": [
    "(\n",
    "df_airport_freq\n",
    ".filter(col(\"airport_ident\")==\"KLAX\")\n",
    ".orderBy(col(\"type\").desc())\n",
    ".show()\n",
    ")"
   ]
  },
  {
   "cell_type": "code",
   "execution_count": 38,
   "metadata": {},
   "outputs": [
    {
     "name": "stdout",
     "output_type": "stream",
     "text": [
      "+------+-----+--------+--------------------+------------------+-------------------+------------+---------+-----------+----------+-------------+-----------------+--------+---------+----------+---------+--------------+--------------------+\n",
      "|    id|ident|    type|                name|      latitude_deg|      longitude_deg|elevation_ft|continent|iso_country|iso_region| municipality|scheduled_service|gps_code|iata_code|local_code|home_link|wikipedia_link|            keywords|\n",
      "+------+-----+--------+--------------------+------------------+-------------------+------------+---------+-----------+----------+-------------+-----------------+--------+---------+----------+---------+--------------+--------------------+\n",
      "|  6523|  00A|heliport|   Total Rf Heliport|    40.07080078125| -74.93360137939453|          11|       NA|         US|     US-PA|     Bensalem|               no|     00A|     null|       00A|     null|          null|                null|\n",
      "|322658| 00CN|heliport|Kitchen Creek Hel...|        32.7273736|       -116.4597417|        3350|       NA|         US|     US-CA|  Pine Valley|               no|    00CN|     null|      00CN|     null|          null|                null|\n",
      "|  6535| 00GE|heliport|    Caffrey Heliport|         33.887982|         -84.736983|         957|       NA|         US|     US-GA|        Hiram|               no|    00GE|     null|      00GE|     null|          null|                null|\n",
      "|  6536| 00HI|heliport|  Kaupulehu Heliport|         19.832881|        -155.978347|          43|       OC|         US|     US-HI|  Kailua-Kona|               no|    00HI|     null|      00HI|     null|          null|                null|\n",
      "|  6540| 00IN|heliport|St Mary Medical C...| 41.51139831542969|  -87.2605972290039|         634|       NA|         US|     US-IN|       Hobart|               no|    00IN|     null|      00IN|     null|          null|                null|\n",
      "| 45437| 00LA|heliport|Shell Chemical Ea...|         30.191944|         -90.980833|          15|       NA|         US|     US-LA|     Gonzales|               no|    00LA|     null|      00LA|     null|          null|                null|\n",
      "|  6544| 00LL|heliport|Ac & R Components...| 39.66529846191406| -89.70559692382812|         600|       NA|         US|     US-IL|      Chatham|               no|    00LL|     null|      00LL|     null|          null|                null|\n",
      "|  6547| 00MI|heliport|Dow Chemical Heli...| 43.94940185546875| -86.41670227050781|         588|       NA|         US|     US-MI|    Ludington|               no|    00MI|     null|      00MI|     null|          null|                null|\n",
      "|324642| 00MT|heliport|Livingston Health...|            45.675|         -110.52515|        4465|       NA|         US|     US-MT|   Livingston|               no|    00MT|     null|      00MT|     null|          null|                null|\n",
      "|  6553| 00NJ|heliport|Colgate-Piscatawa...| 40.52090072631836| -74.47460174560547|          78|       NA|         US|     US-NJ|New Brunswick|               no|    00NJ|     null|      00NJ|     null|          null|                null|\n",
      "|506039| 00NR|heliport|Rodanthe Dare Cou...|         35.594729|         -75.470002|           8|       NA|         US|     US-NC|     Rodanthe|               no|    00NR|     null|      00NR|     null|          null|                null|\n",
      "|  6556| 00OI|heliport|Miami Valley Hosp...|         39.745091|         -84.187278|         905|       NA|         US|     US-OH|       Dayton|               no|    00OI|     null|      00OI|     null|          null|                null|\n",
      "|  6557| 00OR|heliport|Steel Systems Hel...|44.932899475097656|-123.12999725341797|         195|       NA|         US|     US-OR|        Salem|               no|    00OR|     null|      00OR|     null|          null|                null|\n",
      "|  6558| 00PA|heliport|      R J D Heliport| 39.94889831542969| -75.74690246582031|         402|       NA|         US|     US-PA|  Coatesville|               no|    00PA|     null|      00PA|     null|          null|                null|\n",
      "|  6563| 00TE|heliport|Tcjc-Northeast Ca...|32.847599029541016| -97.18949890136719|         600|       NA|         US|     US-TX|   Fort Worth|               no|    00TE|     null|      00TE|     null|          null|                null|\n",
      "|322300| 00WY|heliport|Mountain View Reg...|         42.840361|        -106.224443|        5210|       NA|         US|     US-WY|       Casper|               no|    00WY|     null|      00WY|     null|          null|                null|\n",
      "|  6577| 01AK|heliport|Providence Seward...|60.105873975399994|     -149.446249008|         120|       NA|         US|     US-AK|       Seward|               no|    01AK|     null|      01AK|     null|          null|                null|\n",
      "|  6579| 01AR|heliport|DeQueen Medical C...|         34.047456|         -94.354023|         440|       NA|         US|     US-AR|      DeQueen|               no|    01AR|     null|      01AR|     null|          null|Community Hospita...|\n",
      "|  6580| 01AZ|heliport|        Yat Heliport|         34.607406|          -111.8609|        3300|       NA|         US|     US-AZ|   Camp Verde|               no|    01AZ|     null|      01AZ|     null|          null|                null|\n",
      "|  6582| 01CA|heliport|SCE Lugo Substati...|         34.368241|        -117.370059|        3733|       NA|         US|     US-CA|     Hesperia|               no|    01CA|     null|      01CA|     null|          null|                null|\n",
      "+------+-----+--------+--------------------+------------------+-------------------+------------+---------+-----------+----------+-------------+-----------------+--------+---------+----------+---------+--------------+--------------------+\n",
      "only showing top 20 rows\n",
      "\n"
     ]
    }
   ],
   "source": [
    "(\n",
    "df_airports\n",
    ".filter(col(\"type\").isin(\"heliport\", \"balloonport\"))\n",
    ".show()\n",
    ")"
   ]
  },
  {
   "cell_type": "code",
   "execution_count": 39,
   "metadata": {},
   "outputs": [
    {
     "name": "stdout",
     "output_type": "stream",
     "text": [
      "+------+-----+-------------+--------------------+------------------+-------------------+------------+---------+-----------+----------+------------+-----------------+--------+---------+----------+---------+--------------+-----------+\n",
      "|    id|ident|         type|                name|      latitude_deg|      longitude_deg|elevation_ft|continent|iso_country|iso_region|municipality|scheduled_service|gps_code|iata_code|local_code|home_link|wikipedia_link|   keywords|\n",
      "+------+-----+-------------+--------------------+------------------+-------------------+------------+---------+-----------+----------+------------+-----------------+--------+---------+----------+---------+--------------+-----------+\n",
      "|323361| 00AA|small_airport|Aero B Ranch Airport|         38.704022|        -101.473911|        3435|       NA|         US|     US-KS|       Leoti|               no|    00AA|     null|      00AA|     null|          null|       null|\n",
      "|  6524| 00AK|small_airport|        Lowell Field|         59.947733|        -151.692524|         450|       NA|         US|     US-AK|Anchor Point|               no|    00AK|     null|      00AK|     null|          null|       null|\n",
      "|  6525| 00AL|small_airport|        Epps Airpark| 34.86479949951172| -86.77030181884766|         820|       NA|         US|     US-AL|     Harvest|               no|    00AL|     null|      00AL|     null|          null|       null|\n",
      "|  6526| 00AR|       closed|Newport Hospital ...|           35.6087|         -91.254898|         237|       NA|         US|     US-AR|     Newport|               no|    null|     null|      null|     null|          null|       00AR|\n",
      "|322127| 00AS|small_airport|      Fulton Airport|        34.9428028|        -97.8180194|        1100|       NA|         US|     US-OK|        Alex|               no|    00AS|     null|      00AS|     null|          null|       null|\n",
      "|  6527| 00AZ|small_airport|      Cordes Airport|34.305599212646484|-112.16500091552734|        3810|       NA|         US|     US-AZ|      Cordes|               no|    00AZ|     null|      00AZ|     null|          null|       null|\n",
      "|  6528| 00CA|small_airport|Goldstone (GTS) A...|          35.35474|        -116.885329|        3038|       NA|         US|     US-CA|     Barstow|               no|    00CA|     null|      00CA|     null|          null|       null|\n",
      "|324424| 00CL|small_airport| Williams Ag Airport|         39.427188|        -121.763427|          87|       NA|         US|     US-CA|       Biggs|               no|    00CL|     null|      00CL|     null|          null|       null|\n",
      "|  6529| 00CO|       closed|          Cass Field|         40.622202|        -104.344002|        4830|       NA|         US|     US-CO|  Briggsdale|               no|    null|     null|      null|     null|          null|       00CO|\n",
      "|  6531| 00FA|small_airport| Grass Patch Airport| 28.64550018310547| -82.21900177001953|          53|       NA|         US|     US-FL|    Bushnell|               no|    00FA|     null|      00FA|     null|          null|       null|\n",
      "|  6532| 00FD|       closed|  Ringhaver Heliport|           28.8466|         -82.345398|          25|       NA|         US|     US-FL|   Riverview|               no|    null|     null|      null|     null|          null|       00FD|\n",
      "|  6533| 00FL|small_airport|   River Oak Airport|27.230899810791016| -80.96920013427734|          35|       NA|         US|     US-FL|  Okeechobee|               no|    00FL|     null|      00FL|     null|          null|       null|\n",
      "|  6534| 00GA|small_airport|    Lt World Airport| 33.76750183105469| -84.06829833984375|         700|       NA|         US|     US-GA|    Lithonia|               no|    00GA|     null|      00GA|     null|          null|       null|\n",
      "|  6537| 00ID|small_airport|Delta Shores Airport|48.145301818847656|-116.21399688720703|        2064|       NA|         US|     US-ID|  Clark Fork|               no|    00ID|     null|      00ID|     null|          null|       null|\n",
      "|322581| 00IG|small_airport|       Goltl Airport|         39.724028|        -101.395994|        3359|       NA|         US|     US-KS|    McDonald|               no|    00IG|     null|      00IG|     null|          null|       null|\n",
      "|  6538| 00II|       closed|Bailey Generation...|         41.644501|         -87.122803|         600|       NA|         US|     US-IN|  Chesterton|               no|    null|     null|      null|     null|          null|       00II|\n",
      "|  6539| 00IL|small_airport|      Hammer Airport|         41.978401|         -89.560402|         840|       NA|         US|     US-IL|        Polo|               no|    00IL|     null|      00IL|     null|          null|Radio Ranch|\n",
      "|  6541| 00IS|small_airport|Hayenga's Cant Fi...| 40.02560043334961|  -89.1229019165039|         820|       NA|         US|     US-IL|       Kings|               no|    00IS|     null|      00IS|     null|          null|       null|\n",
      "|  6542| 00KS|small_airport| Hayden Farm Airport| 38.72779846191406| -94.93049621582031|        1100|       NA|         US|     US-KS|     Gardner|               no|    00KS|     null|      00KS|     null|          null|       null|\n",
      "|  6543| 00KY|small_airport|Robbins Roost Air...|37.409400939941406| -84.61969757080078|        1265|       NA|         US|     US-KY|    Stanford|               no|    00KY|     null|      00KY|     null|          null|       null|\n",
      "+------+-----+-------------+--------------------+------------------+-------------------+------------+---------+-----------+----------+------------+-----------------+--------+---------+----------+---------+--------------+-----------+\n",
      "only showing top 20 rows\n",
      "\n"
     ]
    }
   ],
   "source": [
    "(\n",
    "df_airports\n",
    ".filter(~col(\"type\").isin(\"heliport\", \"balloonport\"))\n",
    ".show()\n",
    ")"
   ]
  },
  {
   "cell_type": "code",
   "execution_count": 10,
   "metadata": {},
   "outputs": [
    {
     "name": "stdout",
     "output_type": "stream",
     "text": [
      "+-----------+--------------+---------+\n",
      "|iso_country|          type|count(id)|\n",
      "+-----------+--------------+---------+\n",
      "|         PG|medium_airport|       20|\n",
      "|         LR| small_airport|       17|\n",
      "|         NA|medium_airport|       11|\n",
      "|         CL|medium_airport|       32|\n",
      "|         NR|medium_airport|        1|\n",
      "|         LT|      heliport|        2|\n",
      "|         MV| small_airport|       10|\n",
      "|         CD|medium_airport|       21|\n",
      "|         ID|medium_airport|       66|\n",
      "|         SN| small_airport|        9|\n",
      "|         SL|medium_airport|        3|\n",
      "|         DK| small_airport|       82|\n",
      "|         FR|   balloonport|        1|\n",
      "|         GP| seaplane_base|        2|\n",
      "|         GU| small_airport|        1|\n",
      "|         DK|medium_airport|       15|\n",
      "|         MG| small_airport|       67|\n",
      "|         AQ|      heliport|        5|\n",
      "|         TN| small_airport|        2|\n",
      "|         EE|      heliport|        2|\n",
      "+-----------+--------------+---------+\n",
      "only showing top 20 rows\n",
      "\n"
     ]
    }
   ],
   "source": [
    "import pyspark.sql.functions as f\n",
    "(\n",
    "df_airports\n",
    ".groupBy('iso_country','type')\n",
    ".agg(f.count('id'))\n",
    ".show()\n",
    ")"
   ]
  },
  {
   "cell_type": "code",
   "execution_count": 23,
   "metadata": {},
   "outputs": [
    {
     "name": "stdout",
     "output_type": "stream",
     "text": [
      "+-----------+--------------+----+\n",
      "|iso_country|          type|size|\n",
      "+-----------+--------------+----+\n",
      "|         AD|      heliport|   2|\n",
      "|         AD|        closed|   1|\n",
      "|         AE| small_airport|  30|\n",
      "|         AE| seaplane_base|   4|\n",
      "|         AE|medium_airport|   7|\n",
      "|         AE| large_airport|   4|\n",
      "|         AE|      heliport| 200|\n",
      "|         AE|        closed|   3|\n",
      "|         AF| small_airport|  58|\n",
      "|         AF|medium_airport|   9|\n",
      "|         AF|      heliport|   8|\n",
      "|         AF|        closed|   3|\n",
      "|         AG| small_airport|   1|\n",
      "|         AG|medium_airport|   2|\n",
      "|         AG|      heliport|   2|\n",
      "|         AG|        closed|   1|\n",
      "|         AI|medium_airport|   1|\n",
      "|         AI|        closed|   1|\n",
      "|         AL| small_airport|   1|\n",
      "|         AL|medium_airport|   2|\n",
      "+-----------+--------------+----+\n",
      "only showing top 20 rows\n",
      "\n"
     ]
    }
   ],
   "source": [
    "(\n",
    "df_airports\n",
    ".groupby(['iso_country', 'type'])\n",
    ".agg(f.count('id').alias('size'))\n",
    ".orderBy(f.col('iso_country').asc(), f.col('type').desc())\n",
    ".show()\n",
    ")"
   ]
  },
  {
   "cell_type": "code",
   "execution_count": 25,
   "metadata": {},
   "outputs": [
    {
     "name": "stdout",
     "output_type": "stream",
     "text": [
      "+-------------+-----+\n",
      "|         type| size|\n",
      "+-------------+-----+\n",
      "|       closed| 5754|\n",
      "|     heliport| 7796|\n",
      "|small_airport|14863|\n",
      "+-------------+-----+\n",
      "\n"
     ]
    }
   ],
   "source": [
    "(\n",
    "df_airports\n",
    ".filter(f.col('iso_country') == 'US')\n",
    ".groupBy('type')\n",
    ".agg(f.count('id').alias('size'))\n",
    ".filter(f.col('size') > 1000)\n",
    ".orderBy(f.col('size').asc())\n",
    ".show()\n",
    ")"
   ]
  },
  {
   "cell_type": "code",
   "execution_count": 35,
   "metadata": {},
   "outputs": [
    {
     "name": "stdout",
     "output_type": "stream",
     "text": [
      "+--------------+--------------+------------------+\n",
      "|max(length_ft)|min(length_ft)|    avg(length_ft)|\n",
      "+--------------+--------------+------------------+\n",
      "|          9999|             0|3239.3122162702016|\n",
      "+--------------+--------------+------------------+\n",
      "\n"
     ]
    }
   ],
   "source": [
    "(\n",
    "df_runways\n",
    ".agg(f.max('length_ft'), f.min('length_ft'), f.mean('length_ft'))\n",
    ".show()\n",
    ")"
   ]
  },
  {
   "cell_type": "code",
   "execution_count": 36,
   "metadata": {},
   "outputs": [
    {
     "name": "stdout",
     "output_type": "stream",
     "text": [
      "+-------------+----+-----------+-------------+\n",
      "|airport_ident|type|description|frequency_mhz|\n",
      "+-------------+----+-----------+-------------+\n",
      "|         KLAX| APP|  SOCAL APP|        36.07|\n",
      "|         KLAX| APP|  SOCAL APP|        124.3|\n",
      "|         KLAX|ATIS|       ATIS|        133.8|\n",
      "|         KLAX| CLD|   CLNC DEL|        121.4|\n",
      "|         KLAX| DEP|  SOCAL DEP|        124.3|\n",
      "|         KLAX| GND|        GND|       121.65|\n",
      "|         KLAX|MISC|         CG|         34.5|\n",
      "|         KLAX|MISC|         CG|        898.4|\n",
      "|         KLAX| OPS|         AF|        37.22|\n",
      "|         KLAX| TWR|        TWR|        119.8|\n",
      "|         KLAX|UNIC|     UNICOM|       122.95|\n",
      "+-------------+----+-----------+-------------+\n",
      "\n"
     ]
    }
   ],
   "source": [
    "(\n",
    "df_airport_freq\n",
    ".join(\n",
    "    df_airports\n",
    "    .filter(f.col('ident')=='KLAX')\n",
    "    .select(f.col('id').alias('id_airports')),\n",
    "    f.col('airport_ref') ==f.col('id_airports')\n",
    ")\n",
    ".select('airport_ident', 'type', 'description', 'frequency_mhz')\n",
    ".show()\n",
    ")"
   ]
  },
  {
   "cell_type": "code",
   "execution_count": null,
   "metadata": {},
   "outputs": [],
   "source": [
    "(\n",
    "df_airports\n",
    ".filter(f.col('ident') == 'KLAX')\n",
    "\n",
    ".show()\n",
    ")"
   ]
  },
  {
   "cell_type": "code",
   "execution_count": null,
   "metadata": {},
   "outputs": [],
   "source": []
  }
 ],
 "metadata": {
  "kernelspec": {
   "display_name": "Python 3",
   "language": "python",
   "name": "python3"
  },
  "language_info": {
   "codemirror_mode": {
    "name": "ipython",
    "version": 3
   },
   "file_extension": ".py",
   "mimetype": "text/x-python",
   "name": "python",
   "nbconvert_exporter": "python",
   "pygments_lexer": "ipython3",
   "version": "3.9.15"
  },
  "orig_nbformat": 4,
  "vscode": {
   "interpreter": {
    "hash": "2ad80127e814209d9578ab6188c04c59d123574a2b99f4136493746111eb2983"
   }
  }
 },
 "nbformat": 4,
 "nbformat_minor": 2
}
