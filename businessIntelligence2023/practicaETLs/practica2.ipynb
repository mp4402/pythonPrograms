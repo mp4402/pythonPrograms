{
 "cells": [
  {
   "attachments": {},
   "cell_type": "markdown",
   "metadata": {},
   "source": [
    "# Practica 2: ETLs\n",
    "## Mario Pisquiy\n",
    "### 20200399"
   ]
  },
  {
   "cell_type": "code",
   "execution_count": null,
   "metadata": {},
   "outputs": [],
   "source": []
  }
 ],
 "metadata": {
  "kernelspec": {
   "display_name": "Python 3",
   "language": "python",
   "name": "python3"
  },
  "language_info": {
   "name": "python",
   "version": "3.9.15"
  },
  "orig_nbformat": 4,
  "vscode": {
   "interpreter": {
    "hash": "2ad80127e814209d9578ab6188c04c59d123574a2b99f4136493746111eb2983"
   }
  }
 },
 "nbformat": 4,
 "nbformat_minor": 2
}
