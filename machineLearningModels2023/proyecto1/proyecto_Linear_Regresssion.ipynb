{
 "cells": [
  {
   "cell_type": "markdown",
   "metadata": {},
   "source": [
    "### Importar Librerías"
   ]
  },
  {
   "cell_type": "code",
   "execution_count": 270,
   "metadata": {},
   "outputs": [],
   "source": [
    "import pandas as pd\n",
    "import numpy as np\n",
    "import matplotlib.pyplot as plt\n",
    "import seaborn as sns\n"
   ]
  },
  {
   "cell_type": "markdown",
   "metadata": {},
   "source": [
    "### Importar el dataset"
   ]
  },
  {
   "cell_type": "code",
   "execution_count": 271,
   "metadata": {},
   "outputs": [
    {
     "data": {
      "text/plain": [
       "(36194, 18)"
      ]
     },
     "execution_count": 271,
     "metadata": {},
     "output_type": "execute_result"
    }
   ],
   "source": [
    "data = pd.read_csv('Train.csv', header = 0, skiprows=[2376])\n",
    "data.shape"
   ]
  },
  {
   "cell_type": "code",
   "execution_count": 272,
   "metadata": {},
   "outputs": [
    {
     "data": {
      "text/html": [
       "<div>\n",
       "<style scoped>\n",
       "    .dataframe tbody tr th:only-of-type {\n",
       "        vertical-align: middle;\n",
       "    }\n",
       "\n",
       "    .dataframe tbody tr th {\n",
       "        vertical-align: top;\n",
       "    }\n",
       "\n",
       "    .dataframe thead th {\n",
       "        text-align: right;\n",
       "    }\n",
       "</style>\n",
       "<table border=\"1\" class=\"dataframe\">\n",
       "  <thead>\n",
       "    <tr style=\"text-align: right;\">\n",
       "      <th></th>\n",
       "      <th>id</th>\n",
       "      <th>realSum</th>\n",
       "      <th>room_type</th>\n",
       "      <th>room_shared</th>\n",
       "      <th>room_private</th>\n",
       "      <th>person_capacity</th>\n",
       "      <th>host_is_superhost</th>\n",
       "      <th>multi</th>\n",
       "      <th>biz</th>\n",
       "      <th>cleanliness_rating</th>\n",
       "      <th>guest_satisfaction_overall</th>\n",
       "      <th>bedrooms</th>\n",
       "      <th>dist</th>\n",
       "      <th>metro_dist</th>\n",
       "      <th>lng</th>\n",
       "      <th>lat</th>\n",
       "      <th>city</th>\n",
       "      <th>day_type</th>\n",
       "    </tr>\n",
       "  </thead>\n",
       "  <tbody>\n",
       "    <tr>\n",
       "      <th>0</th>\n",
       "      <td>1</td>\n",
       "      <td>210.365854</td>\n",
       "      <td>Entire home/apt</td>\n",
       "      <td>False</td>\n",
       "      <td>False</td>\n",
       "      <td>2</td>\n",
       "      <td>False</td>\n",
       "      <td>0</td>\n",
       "      <td>1</td>\n",
       "      <td>9</td>\n",
       "      <td>91</td>\n",
       "      <td>0</td>\n",
       "      <td>0.541022</td>\n",
       "      <td>0.427919</td>\n",
       "      <td>-9.13395</td>\n",
       "      <td>38.71038</td>\n",
       "      <td>lisbon</td>\n",
       "      <td>weekday</td>\n",
       "    </tr>\n",
       "    <tr>\n",
       "      <th>1</th>\n",
       "      <td>2</td>\n",
       "      <td>176.181721</td>\n",
       "      <td>Private room</td>\n",
       "      <td>False</td>\n",
       "      <td>True</td>\n",
       "      <td>2</td>\n",
       "      <td>False</td>\n",
       "      <td>1</td>\n",
       "      <td>0</td>\n",
       "      <td>9</td>\n",
       "      <td>89</td>\n",
       "      <td>1</td>\n",
       "      <td>3.032839</td>\n",
       "      <td>0.343492</td>\n",
       "      <td>2.14165</td>\n",
       "      <td>41.37011</td>\n",
       "      <td>barcelona</td>\n",
       "      <td>weekday</td>\n",
       "    </tr>\n",
       "    <tr>\n",
       "      <th>2</th>\n",
       "      <td>3</td>\n",
       "      <td>142.054140</td>\n",
       "      <td>Private room</td>\n",
       "      <td>False</td>\n",
       "      <td>True</td>\n",
       "      <td>2</td>\n",
       "      <td>True</td>\n",
       "      <td>0</td>\n",
       "      <td>0</td>\n",
       "      <td>10</td>\n",
       "      <td>98</td>\n",
       "      <td>1</td>\n",
       "      <td>11.909712</td>\n",
       "      <td>6.710909</td>\n",
       "      <td>0.00475</td>\n",
       "      <td>51.44025</td>\n",
       "      <td>london</td>\n",
       "      <td>weekend</td>\n",
       "    </tr>\n",
       "    <tr>\n",
       "      <th>3</th>\n",
       "      <td>4</td>\n",
       "      <td>428.744524</td>\n",
       "      <td>Entire home/apt</td>\n",
       "      <td>False</td>\n",
       "      <td>False</td>\n",
       "      <td>4</td>\n",
       "      <td>False</td>\n",
       "      <td>0</td>\n",
       "      <td>0</td>\n",
       "      <td>9</td>\n",
       "      <td>94</td>\n",
       "      <td>0</td>\n",
       "      <td>4.158390</td>\n",
       "      <td>0.145570</td>\n",
       "      <td>2.30179</td>\n",
       "      <td>48.87297</td>\n",
       "      <td>paris</td>\n",
       "      <td>weekend</td>\n",
       "    </tr>\n",
       "    <tr>\n",
       "      <th>4</th>\n",
       "      <td>5</td>\n",
       "      <td>220.279802</td>\n",
       "      <td>Entire home/apt</td>\n",
       "      <td>False</td>\n",
       "      <td>False</td>\n",
       "      <td>6</td>\n",
       "      <td>True</td>\n",
       "      <td>0</td>\n",
       "      <td>1</td>\n",
       "      <td>10</td>\n",
       "      <td>93</td>\n",
       "      <td>2</td>\n",
       "      <td>1.302190</td>\n",
       "      <td>0.369475</td>\n",
       "      <td>23.72468</td>\n",
       "      <td>37.96746</td>\n",
       "      <td>athens</td>\n",
       "      <td>weekend</td>\n",
       "    </tr>\n",
       "  </tbody>\n",
       "</table>\n",
       "</div>"
      ],
      "text/plain": [
       "   id     realSum        room_type  room_shared  room_private  \\\n",
       "0   1  210.365854  Entire home/apt        False         False   \n",
       "1   2  176.181721     Private room        False          True   \n",
       "2   3  142.054140     Private room        False          True   \n",
       "3   4  428.744524  Entire home/apt        False         False   \n",
       "4   5  220.279802  Entire home/apt        False         False   \n",
       "\n",
       "   person_capacity  host_is_superhost  multi  biz  cleanliness_rating  \\\n",
       "0                2              False      0    1                   9   \n",
       "1                2              False      1    0                   9   \n",
       "2                2               True      0    0                  10   \n",
       "3                4              False      0    0                   9   \n",
       "4                6               True      0    1                  10   \n",
       "\n",
       "   guest_satisfaction_overall  bedrooms       dist  metro_dist       lng  \\\n",
       "0                          91         0   0.541022    0.427919  -9.13395   \n",
       "1                          89         1   3.032839    0.343492   2.14165   \n",
       "2                          98         1  11.909712    6.710909   0.00475   \n",
       "3                          94         0   4.158390    0.145570   2.30179   \n",
       "4                          93         2   1.302190    0.369475  23.72468   \n",
       "\n",
       "        lat       city day_type  \n",
       "0  38.71038     lisbon  weekday  \n",
       "1  41.37011  barcelona  weekday  \n",
       "2  51.44025     london  weekend  \n",
       "3  48.87297      paris  weekend  \n",
       "4  37.96746     athens  weekend  "
      ]
     },
     "execution_count": 272,
     "metadata": {},
     "output_type": "execute_result"
    }
   ],
   "source": [
    "data.head()"
   ]
  },
  {
   "cell_type": "code",
   "execution_count": 273,
   "metadata": {},
   "outputs": [
    {
     "data": {
      "text/plain": [
       "id                            0\n",
       "realSum                       0\n",
       "room_type                     0\n",
       "room_shared                   0\n",
       "room_private                  0\n",
       "person_capacity               0\n",
       "host_is_superhost             0\n",
       "multi                         0\n",
       "biz                           0\n",
       "cleanliness_rating            0\n",
       "guest_satisfaction_overall    0\n",
       "bedrooms                      0\n",
       "dist                          0\n",
       "metro_dist                    0\n",
       "lng                           0\n",
       "lat                           0\n",
       "city                          0\n",
       "day_type                      0\n",
       "dtype: int64"
      ]
     },
     "execution_count": 273,
     "metadata": {},
     "output_type": "execute_result"
    }
   ],
   "source": [
    "data.isna().sum()"
   ]
  },
  {
   "cell_type": "code",
   "execution_count": 274,
   "metadata": {},
   "outputs": [
    {
     "data": {
      "text/plain": [
       "id                              int64\n",
       "realSum                       float64\n",
       "room_type                      object\n",
       "room_shared                      bool\n",
       "room_private                     bool\n",
       "person_capacity                 int64\n",
       "host_is_superhost                bool\n",
       "multi                           int64\n",
       "biz                             int64\n",
       "cleanliness_rating              int64\n",
       "guest_satisfaction_overall      int64\n",
       "bedrooms                        int64\n",
       "dist                          float64\n",
       "metro_dist                    float64\n",
       "lng                           float64\n",
       "lat                           float64\n",
       "city                           object\n",
       "day_type                       object\n",
       "dtype: object"
      ]
     },
     "execution_count": 274,
     "metadata": {},
     "output_type": "execute_result"
    }
   ],
   "source": [
    "data.dtypes"
   ]
  },
  {
   "cell_type": "code",
   "execution_count": 275,
   "metadata": {},
   "outputs": [
    {
     "data": {
      "text/html": [
       "<div>\n",
       "<style scoped>\n",
       "    .dataframe tbody tr th:only-of-type {\n",
       "        vertical-align: middle;\n",
       "    }\n",
       "\n",
       "    .dataframe tbody tr th {\n",
       "        vertical-align: top;\n",
       "    }\n",
       "\n",
       "    .dataframe thead th {\n",
       "        text-align: right;\n",
       "    }\n",
       "</style>\n",
       "<table border=\"1\" class=\"dataframe\">\n",
       "  <thead>\n",
       "    <tr style=\"text-align: right;\">\n",
       "      <th></th>\n",
       "      <th>id</th>\n",
       "      <th>realSum</th>\n",
       "      <th>person_capacity</th>\n",
       "      <th>multi</th>\n",
       "      <th>biz</th>\n",
       "      <th>cleanliness_rating</th>\n",
       "      <th>guest_satisfaction_overall</th>\n",
       "      <th>bedrooms</th>\n",
       "      <th>dist</th>\n",
       "      <th>metro_dist</th>\n",
       "      <th>lng</th>\n",
       "      <th>lat</th>\n",
       "    </tr>\n",
       "  </thead>\n",
       "  <tbody>\n",
       "    <tr>\n",
       "      <th>count</th>\n",
       "      <td>36194.000000</td>\n",
       "      <td>36194.000000</td>\n",
       "      <td>36194.000000</td>\n",
       "      <td>36194.000000</td>\n",
       "      <td>36194.000000</td>\n",
       "      <td>36194.000000</td>\n",
       "      <td>36194.000000</td>\n",
       "      <td>36194.000000</td>\n",
       "      <td>36194.000000</td>\n",
       "      <td>36194.000000</td>\n",
       "      <td>36194.000000</td>\n",
       "      <td>36194.000000</td>\n",
       "    </tr>\n",
       "    <tr>\n",
       "      <th>mean</th>\n",
       "      <td>18098.434381</td>\n",
       "      <td>279.386846</td>\n",
       "      <td>3.159391</td>\n",
       "      <td>0.293612</td>\n",
       "      <td>0.348980</td>\n",
       "      <td>9.389761</td>\n",
       "      <td>92.614218</td>\n",
       "      <td>1.157595</td>\n",
       "      <td>3.183128</td>\n",
       "      <td>0.676998</td>\n",
       "      <td>7.434832</td>\n",
       "      <td>45.659390</td>\n",
       "    </tr>\n",
       "    <tr>\n",
       "      <th>std</th>\n",
       "      <td>10448.558359</td>\n",
       "      <td>328.042369</td>\n",
       "      <td>1.294476</td>\n",
       "      <td>0.455423</td>\n",
       "      <td>0.476654</td>\n",
       "      <td>0.954591</td>\n",
       "      <td>8.917921</td>\n",
       "      <td>0.631141</td>\n",
       "      <td>2.383785</td>\n",
       "      <td>0.848039</td>\n",
       "      <td>9.810969</td>\n",
       "      <td>5.250253</td>\n",
       "    </tr>\n",
       "    <tr>\n",
       "      <th>min</th>\n",
       "      <td>1.000000</td>\n",
       "      <td>39.009259</td>\n",
       "      <td>2.000000</td>\n",
       "      <td>0.000000</td>\n",
       "      <td>0.000000</td>\n",
       "      <td>2.000000</td>\n",
       "      <td>20.000000</td>\n",
       "      <td>0.000000</td>\n",
       "      <td>0.015045</td>\n",
       "      <td>0.003220</td>\n",
       "      <td>-9.225990</td>\n",
       "      <td>37.953000</td>\n",
       "    </tr>\n",
       "    <tr>\n",
       "      <th>25%</th>\n",
       "      <td>9050.250000</td>\n",
       "      <td>148.645200</td>\n",
       "      <td>2.000000</td>\n",
       "      <td>0.000000</td>\n",
       "      <td>0.000000</td>\n",
       "      <td>9.000000</td>\n",
       "      <td>90.000000</td>\n",
       "      <td>1.000000</td>\n",
       "      <td>1.452918</td>\n",
       "      <td>0.247775</td>\n",
       "      <td>-0.071540</td>\n",
       "      <td>41.398830</td>\n",
       "    </tr>\n",
       "    <tr>\n",
       "      <th>50%</th>\n",
       "      <td>18098.500000</td>\n",
       "      <td>211.230343</td>\n",
       "      <td>3.000000</td>\n",
       "      <td>0.000000</td>\n",
       "      <td>0.000000</td>\n",
       "      <td>10.000000</td>\n",
       "      <td>95.000000</td>\n",
       "      <td>1.000000</td>\n",
       "      <td>2.607930</td>\n",
       "      <td>0.412522</td>\n",
       "      <td>4.874190</td>\n",
       "      <td>47.506315</td>\n",
       "    </tr>\n",
       "    <tr>\n",
       "      <th>75%</th>\n",
       "      <td>27146.750000</td>\n",
       "      <td>319.051960</td>\n",
       "      <td>4.000000</td>\n",
       "      <td>1.000000</td>\n",
       "      <td>1.000000</td>\n",
       "      <td>10.000000</td>\n",
       "      <td>99.000000</td>\n",
       "      <td>1.000000</td>\n",
       "      <td>4.251491</td>\n",
       "      <td>0.732341</td>\n",
       "      <td>13.533010</td>\n",
       "      <td>51.469975</td>\n",
       "    </tr>\n",
       "    <tr>\n",
       "      <th>max</th>\n",
       "      <td>36195.000000</td>\n",
       "      <td>16445.614690</td>\n",
       "      <td>6.000000</td>\n",
       "      <td>1.000000</td>\n",
       "      <td>1.000000</td>\n",
       "      <td>10.000000</td>\n",
       "      <td>100.000000</td>\n",
       "      <td>10.000000</td>\n",
       "      <td>22.617458</td>\n",
       "      <td>13.314115</td>\n",
       "      <td>23.786020</td>\n",
       "      <td>52.641410</td>\n",
       "    </tr>\n",
       "  </tbody>\n",
       "</table>\n",
       "</div>"
      ],
      "text/plain": [
       "                 id       realSum  person_capacity         multi  \\\n",
       "count  36194.000000  36194.000000     36194.000000  36194.000000   \n",
       "mean   18098.434381    279.386846         3.159391      0.293612   \n",
       "std    10448.558359    328.042369         1.294476      0.455423   \n",
       "min        1.000000     39.009259         2.000000      0.000000   \n",
       "25%     9050.250000    148.645200         2.000000      0.000000   \n",
       "50%    18098.500000    211.230343         3.000000      0.000000   \n",
       "75%    27146.750000    319.051960         4.000000      1.000000   \n",
       "max    36195.000000  16445.614690         6.000000      1.000000   \n",
       "\n",
       "                biz  cleanliness_rating  guest_satisfaction_overall  \\\n",
       "count  36194.000000        36194.000000                36194.000000   \n",
       "mean       0.348980            9.389761                   92.614218   \n",
       "std        0.476654            0.954591                    8.917921   \n",
       "min        0.000000            2.000000                   20.000000   \n",
       "25%        0.000000            9.000000                   90.000000   \n",
       "50%        0.000000           10.000000                   95.000000   \n",
       "75%        1.000000           10.000000                   99.000000   \n",
       "max        1.000000           10.000000                  100.000000   \n",
       "\n",
       "           bedrooms          dist    metro_dist           lng           lat  \n",
       "count  36194.000000  36194.000000  36194.000000  36194.000000  36194.000000  \n",
       "mean       1.157595      3.183128      0.676998      7.434832     45.659390  \n",
       "std        0.631141      2.383785      0.848039      9.810969      5.250253  \n",
       "min        0.000000      0.015045      0.003220     -9.225990     37.953000  \n",
       "25%        1.000000      1.452918      0.247775     -0.071540     41.398830  \n",
       "50%        1.000000      2.607930      0.412522      4.874190     47.506315  \n",
       "75%        1.000000      4.251491      0.732341     13.533010     51.469975  \n",
       "max       10.000000     22.617458     13.314115     23.786020     52.641410  "
      ]
     },
     "execution_count": 275,
     "metadata": {},
     "output_type": "execute_result"
    }
   ],
   "source": [
    "data.describe()"
   ]
  },
  {
   "cell_type": "markdown",
   "metadata": {},
   "source": [
    "### Separar el dataset"
   ]
  },
  {
   "cell_type": "code",
   "execution_count": 276,
   "metadata": {},
   "outputs": [],
   "source": [
    "y = data.loc[:,'realSum']\n",
    "data.drop(['realSum'],axis=1,inplace=True)\n",
    "data.drop(['id'],axis=1,inplace=True)\n",
    "# data.drop(['room_private'],axis=1,inplace=True)\n",
    "# data.drop(['city'],axis = 1, inplace=True)\n",
    "# data.drop(['lng'],axis=1,inplace=True)\n",
    "# data.drop(['lat'],axis = 1, inplace=True)\n",
    "# data.drop(['dist'],axis=1,inplace=True)\n",
    "# data.drop(['metro_dist'],axis = 1, inplace=True)"
   ]
  },
  {
   "cell_type": "code",
   "execution_count": 277,
   "metadata": {},
   "outputs": [],
   "source": [
    "from sklearn.model_selection import train_test_split\n",
    "X_train, X_valid, y_train, y_valid = train_test_split(data, y, test_size=0.3, random_state=20)"
   ]
  },
  {
   "attachments": {},
   "cell_type": "markdown",
   "metadata": {},
   "source": [
    "### Pipeline "
   ]
  },
  {
   "cell_type": "markdown",
   "metadata": {},
   "source": [
    "#### Variables Numericas"
   ]
  },
  {
   "cell_type": "code",
   "execution_count": 278,
   "metadata": {},
   "outputs": [],
   "source": [
    "from sklearn.pipeline import Pipeline\n",
    "from sklearn.preprocessing import StandardScaler\n",
    "from sklearn.impute import SimpleImputer\n",
    "\n",
    "\n",
    "num_pipeline = Pipeline([\n",
    "                            #('imputer', SimpleImputer(strategy=\"median\")),\n",
    "                            ('std_scaler', StandardScaler()),\n",
    "                        ])"
   ]
  },
  {
   "cell_type": "code",
   "execution_count": 279,
   "metadata": {},
   "outputs": [
    {
     "data": {
      "text/plain": [
       "array([-0.89433219, -0.64546835,  1.36647269, -0.40940374,  0.04198122,\n",
       "       -0.24700926, -0.79763954, -0.32299744, -1.69119915, -1.31987981])"
      ]
     },
     "execution_count": 279,
     "metadata": {},
     "output_type": "execute_result"
    }
   ],
   "source": [
    "df_num_tr = num_pipeline.fit_transform(X_train.select_dtypes(include='number'))\n",
    "df_num_tr[0,:]"
   ]
  },
  {
   "cell_type": "markdown",
   "metadata": {},
   "source": [
    "#### Variables categoricas"
   ]
  },
  {
   "cell_type": "code",
   "execution_count": 280,
   "metadata": {},
   "outputs": [],
   "source": [
    "cat_pipeline = Pipeline([\n",
    "                        #('imputer', SimpleImputer(strategy=\"most_frequent\")),\n",
    "                        ('oh_enc', OneHotEncoder())\n",
    "                        ])"
   ]
  },
  {
   "cell_type": "code",
   "execution_count": 281,
   "metadata": {},
   "outputs": [
    {
     "data": {
      "text/plain": [
       "array([1., 0., 0., 1., 0., 1., 0., 1., 0., 0., 0., 0., 0., 0., 1., 0., 0.,\n",
       "       0., 0., 1., 0.])"
      ]
     },
     "execution_count": 281,
     "metadata": {},
     "output_type": "execute_result"
    }
   ],
   "source": [
    "# test categorical pipeline\n",
    "# --------------------------\n",
    "df_cat_tr = cat_pipeline.fit_transform(data.select_dtypes(exclude='number'))\n",
    "\n",
    "# review output from pipeline\n",
    "df_cat_tr.toarray()[0,:]"
   ]
  },
  {
   "cell_type": "markdown",
   "metadata": {},
   "source": [
    "#### Pipeline Completo"
   ]
  },
  {
   "cell_type": "code",
   "execution_count": 282,
   "metadata": {},
   "outputs": [],
   "source": [
    "from sklearn.compose import ColumnTransformer\n",
    "\n",
    "num_attribs = data.select_dtypes(include='number').columns\n",
    "cat_attribs = data.select_dtypes(exclude='number').columns\n",
    "\n",
    "full_pipeline = ColumnTransformer([\n",
    "        (\"num\", num_pipeline, num_attribs),\n",
    "        (\"cat\", cat_pipeline, cat_attribs),\n",
    "    ])"
   ]
  },
  {
   "cell_type": "code",
   "execution_count": 283,
   "metadata": {},
   "outputs": [
    {
     "name": "stdout",
     "output_type": "stream",
     "text": [
      "(25335, 31)\n"
     ]
    },
    {
     "data": {
      "text/plain": [
       "array([-0.89433219, -0.64546835,  1.36647269, -0.40940374,  0.04198122,\n",
       "       -0.24700926, -0.79763954, -0.32299744, -1.69119915, -1.31987981,\n",
       "        0.        ,  1.        ,  0.        ,  1.        ,  0.        ,\n",
       "        0.        ,  1.        ,  1.        ,  0.        ,  0.        ,\n",
       "        0.        ,  0.        ,  0.        ,  0.        ,  1.        ,\n",
       "        0.        ,  0.        ,  0.        ,  0.        ,  1.        ,\n",
       "        0.        ])"
      ]
     },
     "execution_count": 283,
     "metadata": {},
     "output_type": "execute_result"
    }
   ],
   "source": [
    "full_pipeline.fit(X_train)\n",
    "X_train_processed = full_pipeline.transform(X_train)\n",
    "#X_train_processed = full_pipeline.fit_transform(X_train)\n",
    "\n",
    "print(X_train_processed.shape)\n",
    "\n",
    "X_train_processed[0,:]"
   ]
  },
  {
   "cell_type": "code",
   "execution_count": 284,
   "metadata": {},
   "outputs": [],
   "source": [
    "import statsmodels.api as sm\n",
    "from statsmodels.sandbox.regression.predstd import wls_prediction_std\n",
    "\n",
    "X = sm.add_constant(X_train_processed)\n",
    "\n",
    "simple_model = sm.OLS(y_train, X)\n",
    "\n",
    "simple_result = simple_model.fit();\n",
    "\n",
    "# create instance\n",
    "#forest_clf = RandomForestClassifier(random_state=42)\n",
    "\n",
    "#forest_clf.fit(X_train_processed[:6000], y_train[:6000])"
   ]
  },
  {
   "cell_type": "code",
   "execution_count": 285,
   "metadata": {},
   "outputs": [
    {
     "name": "stdout",
     "output_type": "stream",
     "text": [
      "                            OLS Regression Results                            \n",
      "==============================================================================\n",
      "Dep. Variable:                realSum   R-squared:                       0.254\n",
      "Model:                            OLS   Adj. R-squared:                  0.254\n",
      "Method:                 Least Squares   F-statistic:                     375.7\n",
      "Date:                Sat, 01 Apr 2023   Prob (F-statistic):               0.00\n",
      "Time:                        00:22:02   Log-Likelihood:            -1.7757e+05\n",
      "No. Observations:               25335   AIC:                         3.552e+05\n",
      "Df Residuals:                   25311   BIC:                         3.554e+05\n",
      "Df Model:                          23                                         \n",
      "Covariance Type:            nonrobust                                         \n",
      "==============================================================================\n",
      "                 coef    std err          t      P>|t|      [0.025      0.975]\n",
      "------------------------------------------------------------------------------\n",
      "const      -2.708e+12   1.42e+14     -0.019      0.985   -2.81e+14    2.76e+14\n",
      "x1            31.0705      2.385     13.025      0.000      26.395      35.746\n",
      "x2             9.1066      1.974      4.614      0.000       5.238      12.975\n",
      "x3            21.2997      2.080     10.243      0.000      17.224      25.376\n",
      "x4             5.0341      2.445      2.059      0.039       0.242       9.826\n",
      "x5             7.4976      2.493      3.007      0.003       2.610      12.385\n",
      "x6            54.3896      2.082     26.126      0.000      50.309      58.470\n",
      "x7           -40.4774      2.469    -16.397      0.000     -45.316     -35.639\n",
      "x8             1.5639      2.248      0.696      0.487      -2.842       5.970\n",
      "x9         -4282.2191    418.464    -10.233      0.000   -5102.433   -3462.005\n",
      "x10          435.2523    421.663      1.032      0.302    -391.231    1261.736\n",
      "x11        -5.497e+11   2.89e+13     -0.019      0.985   -5.71e+13     5.6e+13\n",
      "x12        -1.317e+11   6.92e+12     -0.019      0.985   -1.37e+13    1.34e+13\n",
      "x13         7.979e+11   4.19e+13      0.019      0.985   -8.13e+13    8.29e+13\n",
      "x14         2.154e+12   1.13e+14      0.019      0.985    -2.2e+14    2.24e+14\n",
      "x15         8.061e+11   4.23e+13      0.019      0.985   -8.22e+13    8.38e+13\n",
      "x16         2.785e+11   1.46e+13      0.019      0.985   -2.84e+13    2.89e+13\n",
      "x17        -1.396e+11   7.33e+12     -0.019      0.985   -1.45e+13    1.42e+13\n",
      "x18         3.603e+11   1.89e+13      0.019      0.985   -3.67e+13    3.74e+13\n",
      "x19         3.603e+11   1.89e+13      0.019      0.985   -3.67e+13    3.74e+13\n",
      "x20         -2.99e+11   1.57e+13     -0.019      0.985   -3.11e+13    3.05e+13\n",
      "x21         -2.99e+11   1.57e+13     -0.019      0.985   -3.11e+13    3.05e+13\n",
      "x22         -2.99e+11   1.57e+13     -0.019      0.985   -3.11e+13    3.05e+13\n",
      "x23         -2.99e+11   1.57e+13     -0.019      0.985   -3.11e+13    3.05e+13\n",
      "x24         -2.99e+11   1.57e+13     -0.019      0.985   -3.11e+13    3.05e+13\n",
      "x25         -2.99e+11   1.57e+13     -0.019      0.985   -3.11e+13    3.05e+13\n",
      "x26         -2.99e+11   1.57e+13     -0.019      0.985   -3.11e+13    3.05e+13\n",
      "x27         -2.99e+11   1.57e+13     -0.019      0.985   -3.11e+13    3.05e+13\n",
      "x28         -2.99e+11   1.57e+13     -0.019      0.985   -3.11e+13    3.05e+13\n",
      "x29         -2.99e+11   1.57e+13     -0.019      0.985   -3.11e+13    3.05e+13\n",
      "x30         7.645e+11   4.02e+13      0.019      0.985   -7.79e+13    7.95e+13\n",
      "x31         7.645e+11   4.02e+13      0.019      0.985   -7.79e+13    7.95e+13\n",
      "==============================================================================\n",
      "Omnibus:                    62772.053   Durbin-Watson:                   2.003\n",
      "Prob(Omnibus):                  0.000   Jarque-Bera (JB):       1541626238.876\n",
      "Skew:                          26.569   Prob(JB):                         0.00\n",
      "Kurtosis:                    1210.298   Cond. No.                     1.15e+16\n",
      "==============================================================================\n",
      "\n",
      "Notes:\n",
      "[1] Standard Errors assume that the covariance matrix of the errors is correctly specified.\n",
      "[2] The smallest eigenvalue is 8.34e-28. This might indicate that there are\n",
      "strong multicollinearity problems or that the design matrix is singular.\n"
     ]
    }
   ],
   "source": [
    "print(simple_result.summary())"
   ]
  },
  {
   "cell_type": "code",
   "execution_count": 286,
   "metadata": {},
   "outputs": [],
   "source": [
    "data_test = pd.read_csv('Test.csv')"
   ]
  },
  {
   "cell_type": "code",
   "execution_count": 288,
   "metadata": {},
   "outputs": [],
   "source": [
    "ids_solution = data_test.id\n",
    "data_test.drop('id',axis=1,inplace=True)"
   ]
  },
  {
   "cell_type": "code",
   "execution_count": 290,
   "metadata": {},
   "outputs": [
    {
     "name": "stdout",
     "output_type": "stream",
     "text": [
      "(15513, 31)\n"
     ]
    },
    {
     "data": {
      "text/plain": [
       "array([-0.89218643, -0.63302634, -0.73873903,  0.63563945,  0.59260232,\n",
       "       -0.26103253,  0.82991213, -0.61290559, -0.52392141,  0.6046628 ,\n",
       "        1.        ,  0.        ,  0.        ,  1.        ,  0.        ,\n",
       "        1.        ,  0.        ,  1.        ,  0.        ,  0.        ,\n",
       "        0.        ,  0.        ,  0.        ,  0.        ,  0.        ,\n",
       "        0.        ,  1.        ,  0.        ,  0.        ,  1.        ,\n",
       "        0.        ])"
      ]
     },
     "execution_count": 290,
     "metadata": {},
     "output_type": "execute_result"
    }
   ],
   "source": [
    "full_pipeline.fit(data_test)\n",
    "X_test_processed = full_pipeline.fit_transform(data_test)\n",
    "#X_train_processed = full_pipeline.fit_transform(X_train)\n",
    "\n",
    "print(X_test_processed.shape)\n",
    "\n",
    "X_test_processed[0,:]"
   ]
  },
  {
   "cell_type": "code",
   "execution_count": 291,
   "metadata": {},
   "outputs": [],
   "source": [
    "#preds_solution = simple_model.predict(X_test_processed)\n",
    "preds_solution = simple_result.predict(sm.add_constant(X_test_processed))"
   ]
  },
  {
   "cell_type": "code",
   "execution_count": 295,
   "metadata": {},
   "outputs": [],
   "source": [
    "solution_array = []\n",
    "\n",
    "for i in range(0, len(ids_solution)):\n",
    "    solution_array1 = [ids_solution[i],preds_solution[i]]\n",
    "    solution_array.append(solution_array1)"
   ]
  },
  {
   "cell_type": "code",
   "execution_count": 296,
   "metadata": {},
   "outputs": [
    {
     "data": {
      "text/html": [
       "<div>\n",
       "<style scoped>\n",
       "    .dataframe tbody tr th:only-of-type {\n",
       "        vertical-align: middle;\n",
       "    }\n",
       "\n",
       "    .dataframe tbody tr th {\n",
       "        vertical-align: top;\n",
       "    }\n",
       "\n",
       "    .dataframe thead th {\n",
       "        text-align: right;\n",
       "    }\n",
       "</style>\n",
       "<table border=\"1\" class=\"dataframe\">\n",
       "  <thead>\n",
       "    <tr style=\"text-align: right;\">\n",
       "      <th></th>\n",
       "      <th>id</th>\n",
       "      <th>realSum</th>\n",
       "    </tr>\n",
       "  </thead>\n",
       "  <tbody>\n",
       "    <tr>\n",
       "      <th>0</th>\n",
       "      <td>36196</td>\n",
       "      <td>377.504028</td>\n",
       "    </tr>\n",
       "    <tr>\n",
       "      <th>1</th>\n",
       "      <td>36197</td>\n",
       "      <td>456.759888</td>\n",
       "    </tr>\n",
       "    <tr>\n",
       "      <th>2</th>\n",
       "      <td>36198</td>\n",
       "      <td>713.254181</td>\n",
       "    </tr>\n",
       "  </tbody>\n",
       "</table>\n",
       "</div>"
      ],
      "text/plain": [
       "      id     realSum\n",
       "0  36196  377.504028\n",
       "1  36197  456.759888\n",
       "2  36198  713.254181"
      ]
     },
     "execution_count": 296,
     "metadata": {},
     "output_type": "execute_result"
    }
   ],
   "source": [
    "solution = pd.DataFrame(solution_array, columns = ['id','realSum'])\n",
    "solution.head(3)"
   ]
  },
  {
   "cell_type": "code",
   "execution_count": 297,
   "metadata": {},
   "outputs": [],
   "source": [
    "solution.to_csv('solutions.csv', index=False)"
   ]
  }
 ],
 "metadata": {
  "kernelspec": {
   "display_name": "Python 3",
   "language": "python",
   "name": "python3"
  },
  "language_info": {
   "codemirror_mode": {
    "name": "ipython",
    "version": 3
   },
   "file_extension": ".py",
   "mimetype": "text/x-python",
   "name": "python",
   "nbconvert_exporter": "python",
   "pygments_lexer": "ipython3",
   "version": "3.9.15"
  },
  "orig_nbformat": 4
 },
 "nbformat": 4,
 "nbformat_minor": 2
}
