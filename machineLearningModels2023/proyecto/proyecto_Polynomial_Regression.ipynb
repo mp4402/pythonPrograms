{
 "cells": [
  {
   "cell_type": "markdown",
   "metadata": {},
   "source": [
    "### Importar Librerías"
   ]
  },
  {
   "cell_type": "code",
   "execution_count": 19,
   "metadata": {},
   "outputs": [],
   "source": [
    "import pandas as pd\n",
    "import numpy as np\n",
    "import matplotlib.pyplot as plt\n",
    "import seaborn as sns\n",
    "from sklearn.preprocessing import PolynomialFeatures"
   ]
  },
  {
   "cell_type": "markdown",
   "metadata": {},
   "source": [
    "### Importar el dataset"
   ]
  },
  {
   "cell_type": "code",
   "execution_count": 20,
   "metadata": {},
   "outputs": [
    {
     "data": {
      "text/plain": [
       "(36194, 17)"
      ]
     },
     "execution_count": 20,
     "metadata": {},
     "output_type": "execute_result"
    }
   ],
   "source": [
    "data = pd.read_csv('airbnb_bookings.csv', header = 0, skiprows=[2376])\n",
    "data.shape"
   ]
  },
  {
   "cell_type": "code",
   "execution_count": 21,
   "metadata": {},
   "outputs": [
    {
     "name": "stderr",
     "output_type": "stream",
     "text": [
      "C:\\Users\\Usuario\\AppData\\Local\\Temp\\ipykernel_9924\\1039001425.py:1: UserWarning: \n",
      "\n",
      "`distplot` is a deprecated function and will be removed in seaborn v0.14.0.\n",
      "\n",
      "Please adapt your code to use either `displot` (a figure-level function with\n",
      "similar flexibility) or `histplot` (an axes-level function for histograms).\n",
      "\n",
      "For a guide to updating your code to use the new functions, please see\n",
      "https://gist.github.com/mwaskom/de44147ed2974457ad6372750bbe5751\n",
      "\n",
      "  sns.distplot(data['realSum'])\n"
     ]
    },
    {
     "data": {
      "text/plain": [
       "<AxesSubplot: xlabel='realSum', ylabel='Density'>"
      ]
     },
     "execution_count": 21,
     "metadata": {},
     "output_type": "execute_result"
    },
    {
     "data": {
      "image/png": "[encoded data removed]",
      "text/plain": [
       "<Figure size 640x480 with 1 Axes>"
      ]
     },
     "metadata": {},
     "output_type": "display_data"
    }
   ],
   "source": [
    "sns.distplot(data['realSum'])"
   ]
  },
  {
   "cell_type": "code",
   "execution_count": 22,
   "metadata": {},
   "outputs": [
    {
     "data": {
      "text/html": [
       "<div>\n",
       "<style scoped>\n",
       "    .dataframe tbody tr th:only-of-type {\n",
       "        vertical-align: middle;\n",
       "    }\n",
       "\n",
       "    .dataframe tbody tr th {\n",
       "        vertical-align: top;\n",
       "    }\n",
       "\n",
       "    .dataframe thead th {\n",
       "        text-align: right;\n",
       "    }\n",
       "</style>\n",
       "<table border=\"1\" class=\"dataframe\">\n",
       "  <thead>\n",
       "    <tr style=\"text-align: right;\">\n",
       "      <th></th>\n",
       "      <th>realSum</th>\n",
       "      <th>room_type</th>\n",
       "      <th>room_shared</th>\n",
       "      <th>room_private</th>\n",
       "      <th>person_capacity</th>\n",
       "      <th>host_is_superhost</th>\n",
       "      <th>multi</th>\n",
       "      <th>biz</th>\n",
       "      <th>cleanliness_rating</th>\n",
       "      <th>guest_satisfaction_overall</th>\n",
       "      <th>bedrooms</th>\n",
       "      <th>dist</th>\n",
       "      <th>metro_dist</th>\n",
       "      <th>lng</th>\n",
       "      <th>lat</th>\n",
       "      <th>city</th>\n",
       "      <th>day_type</th>\n",
       "    </tr>\n",
       "  </thead>\n",
       "  <tbody>\n",
       "    <tr>\n",
       "      <th>0</th>\n",
       "      <td>210.365854</td>\n",
       "      <td>Entire home/apt</td>\n",
       "      <td>False</td>\n",
       "      <td>False</td>\n",
       "      <td>2</td>\n",
       "      <td>False</td>\n",
       "      <td>0</td>\n",
       "      <td>1</td>\n",
       "      <td>9</td>\n",
       "      <td>91</td>\n",
       "      <td>0</td>\n",
       "      <td>0.541022</td>\n",
       "      <td>0.427919</td>\n",
       "      <td>-9.13395</td>\n",
       "      <td>38.71038</td>\n",
       "      <td>lisbon</td>\n",
       "      <td>weekday</td>\n",
       "    </tr>\n",
       "    <tr>\n",
       "      <th>1</th>\n",
       "      <td>176.181721</td>\n",
       "      <td>Private room</td>\n",
       "      <td>False</td>\n",
       "      <td>True</td>\n",
       "      <td>2</td>\n",
       "      <td>False</td>\n",
       "      <td>1</td>\n",
       "      <td>0</td>\n",
       "      <td>9</td>\n",
       "      <td>89</td>\n",
       "      <td>1</td>\n",
       "      <td>3.032839</td>\n",
       "      <td>0.343492</td>\n",
       "      <td>2.14165</td>\n",
       "      <td>41.37011</td>\n",
       "      <td>barcelona</td>\n",
       "      <td>weekday</td>\n",
       "    </tr>\n",
       "    <tr>\n",
       "      <th>2</th>\n",
       "      <td>142.054140</td>\n",
       "      <td>Private room</td>\n",
       "      <td>False</td>\n",
       "      <td>True</td>\n",
       "      <td>2</td>\n",
       "      <td>True</td>\n",
       "      <td>0</td>\n",
       "      <td>0</td>\n",
       "      <td>10</td>\n",
       "      <td>98</td>\n",
       "      <td>1</td>\n",
       "      <td>11.909712</td>\n",
       "      <td>6.710909</td>\n",
       "      <td>0.00475</td>\n",
       "      <td>51.44025</td>\n",
       "      <td>london</td>\n",
       "      <td>weekend</td>\n",
       "    </tr>\n",
       "    <tr>\n",
       "      <th>3</th>\n",
       "      <td>428.744524</td>\n",
       "      <td>Entire home/apt</td>\n",
       "      <td>False</td>\n",
       "      <td>False</td>\n",
       "      <td>4</td>\n",
       "      <td>False</td>\n",
       "      <td>0</td>\n",
       "      <td>0</td>\n",
       "      <td>9</td>\n",
       "      <td>94</td>\n",
       "      <td>0</td>\n",
       "      <td>4.158390</td>\n",
       "      <td>0.145570</td>\n",
       "      <td>2.30179</td>\n",
       "      <td>48.87297</td>\n",
       "      <td>paris</td>\n",
       "      <td>weekend</td>\n",
       "    </tr>\n",
       "    <tr>\n",
       "      <th>4</th>\n",
       "      <td>220.279802</td>\n",
       "      <td>Entire home/apt</td>\n",
       "      <td>False</td>\n",
       "      <td>False</td>\n",
       "      <td>6</td>\n",
       "      <td>True</td>\n",
       "      <td>0</td>\n",
       "      <td>1</td>\n",
       "      <td>10</td>\n",
       "      <td>93</td>\n",
       "      <td>2</td>\n",
       "      <td>1.302190</td>\n",
       "      <td>0.369475</td>\n",
       "      <td>23.72468</td>\n",
       "      <td>37.96746</td>\n",
       "      <td>athens</td>\n",
       "      <td>weekend</td>\n",
       "    </tr>\n",
       "  </tbody>\n",
       "</table>\n",
       "</div>"
      ],
      "text/plain": [
       "      realSum        room_type  room_shared  room_private  person_capacity  \\\n",
       "0  210.365854  Entire home/apt        False         False                2   \n",
       "1  176.181721     Private room        False          True                2   \n",
       "2  142.054140     Private room        False          True                2   \n",
       "3  428.744524  Entire home/apt        False         False                4   \n",
       "4  220.279802  Entire home/apt        False         False                6   \n",
       "\n",
       "   host_is_superhost  multi  biz  cleanliness_rating  \\\n",
       "0              False      0    1                   9   \n",
       "1              False      1    0                   9   \n",
       "2               True      0    0                  10   \n",
       "3              False      0    0                   9   \n",
       "4               True      0    1                  10   \n",
       "\n",
       "   guest_satisfaction_overall  bedrooms       dist  metro_dist       lng  \\\n",
       "0                          91         0   0.541022    0.427919  -9.13395   \n",
       "1                          89         1   3.032839    0.343492   2.14165   \n",
       "2                          98         1  11.909712    6.710909   0.00475   \n",
       "3                          94         0   4.158390    0.145570   2.30179   \n",
       "4                          93         2   1.302190    0.369475  23.72468   \n",
       "\n",
       "        lat       city day_type  \n",
       "0  38.71038     lisbon  weekday  \n",
       "1  41.37011  barcelona  weekday  \n",
       "2  51.44025     london  weekend  \n",
       "3  48.87297      paris  weekend  \n",
       "4  37.96746     athens  weekend  "
      ]
     },
     "execution_count": 22,
     "metadata": {},
     "output_type": "execute_result"
    }
   ],
   "source": [
    "data.head()"
   ]
  },
  {
   "cell_type": "code",
   "execution_count": 23,
   "metadata": {},
   "outputs": [
    {
     "data": {
      "text/plain": [
       "realSum                       0\n",
       "room_type                     0\n",
       "room_shared                   0\n",
       "room_private                  0\n",
       "person_capacity               0\n",
       "host_is_superhost             0\n",
       "multi                         0\n",
       "biz                           0\n",
       "cleanliness_rating            0\n",
       "guest_satisfaction_overall    0\n",
       "bedrooms                      0\n",
       "dist                          0\n",
       "metro_dist                    0\n",
       "lng                           0\n",
       "lat                           0\n",
       "city                          0\n",
       "day_type                      0\n",
       "dtype: int64"
      ]
     },
     "execution_count": 23,
     "metadata": {},
     "output_type": "execute_result"
    }
   ],
   "source": [
    "data.isna().sum()"
   ]
  },
  {
   "cell_type": "code",
   "execution_count": 24,
   "metadata": {},
   "outputs": [
    {
     "data": {
      "text/plain": [
       "realSum                       float64\n",
       "room_type                      object\n",
       "room_shared                      bool\n",
       "room_private                     bool\n",
       "person_capacity                 int64\n",
       "host_is_superhost                bool\n",
       "multi                           int64\n",
       "biz                             int64\n",
       "cleanliness_rating              int64\n",
       "guest_satisfaction_overall      int64\n",
       "bedrooms                        int64\n",
       "dist                          float64\n",
       "metro_dist                    float64\n",
       "lng                           float64\n",
       "lat                           float64\n",
       "city                           object\n",
       "day_type                       object\n",
       "dtype: object"
      ]
     },
     "execution_count": 24,
     "metadata": {},
     "output_type": "execute_result"
    }
   ],
   "source": [
    "data.dtypes"
   ]
  },
  {
   "cell_type": "code",
   "execution_count": 25,
   "metadata": {},
   "outputs": [
    {
     "data": {
      "text/html": [
       "<div>\n",
       "<style scoped>\n",
       "    .dataframe tbody tr th:only-of-type {\n",
       "        vertical-align: middle;\n",
       "    }\n",
       "\n",
       "    .dataframe tbody tr th {\n",
       "        vertical-align: top;\n",
       "    }\n",
       "\n",
       "    .dataframe thead th {\n",
       "        text-align: right;\n",
       "    }\n",
       "</style>\n",
       "<table border=\"1\" class=\"dataframe\">\n",
       "  <thead>\n",
       "    <tr style=\"text-align: right;\">\n",
       "      <th></th>\n",
       "      <th>realSum</th>\n",
       "      <th>person_capacity</th>\n",
       "      <th>multi</th>\n",
       "      <th>biz</th>\n",
       "      <th>cleanliness_rating</th>\n",
       "      <th>guest_satisfaction_overall</th>\n",
       "      <th>bedrooms</th>\n",
       "      <th>dist</th>\n",
       "      <th>metro_dist</th>\n",
       "      <th>lng</th>\n",
       "      <th>lat</th>\n",
       "    </tr>\n",
       "  </thead>\n",
       "  <tbody>\n",
       "    <tr>\n",
       "      <th>count</th>\n",
       "      <td>36194.000000</td>\n",
       "      <td>36194.000000</td>\n",
       "      <td>36194.000000</td>\n",
       "      <td>36194.000000</td>\n",
       "      <td>36194.000000</td>\n",
       "      <td>36194.000000</td>\n",
       "      <td>36194.000000</td>\n",
       "      <td>36194.000000</td>\n",
       "      <td>36194.000000</td>\n",
       "      <td>36194.000000</td>\n",
       "      <td>36194.000000</td>\n",
       "    </tr>\n",
       "    <tr>\n",
       "      <th>mean</th>\n",
       "      <td>279.386846</td>\n",
       "      <td>3.159391</td>\n",
       "      <td>0.293612</td>\n",
       "      <td>0.348980</td>\n",
       "      <td>9.389761</td>\n",
       "      <td>92.614218</td>\n",
       "      <td>1.157595</td>\n",
       "      <td>3.183128</td>\n",
       "      <td>0.676998</td>\n",
       "      <td>7.434832</td>\n",
       "      <td>45.659390</td>\n",
       "    </tr>\n",
       "    <tr>\n",
       "      <th>std</th>\n",
       "      <td>328.042369</td>\n",
       "      <td>1.294476</td>\n",
       "      <td>0.455423</td>\n",
       "      <td>0.476654</td>\n",
       "      <td>0.954591</td>\n",
       "      <td>8.917921</td>\n",
       "      <td>0.631141</td>\n",
       "      <td>2.383785</td>\n",
       "      <td>0.848039</td>\n",
       "      <td>9.810969</td>\n",
       "      <td>5.250253</td>\n",
       "    </tr>\n",
       "    <tr>\n",
       "      <th>min</th>\n",
       "      <td>39.009259</td>\n",
       "      <td>2.000000</td>\n",
       "      <td>0.000000</td>\n",
       "      <td>0.000000</td>\n",
       "      <td>2.000000</td>\n",
       "      <td>20.000000</td>\n",
       "      <td>0.000000</td>\n",
       "      <td>0.015045</td>\n",
       "      <td>0.003220</td>\n",
       "      <td>-9.225990</td>\n",
       "      <td>37.953000</td>\n",
       "    </tr>\n",
       "    <tr>\n",
       "      <th>25%</th>\n",
       "      <td>148.645200</td>\n",
       "      <td>2.000000</td>\n",
       "      <td>0.000000</td>\n",
       "      <td>0.000000</td>\n",
       "      <td>9.000000</td>\n",
       "      <td>90.000000</td>\n",
       "      <td>1.000000</td>\n",
       "      <td>1.452918</td>\n",
       "      <td>0.247775</td>\n",
       "      <td>-0.071540</td>\n",
       "      <td>41.398830</td>\n",
       "    </tr>\n",
       "    <tr>\n",
       "      <th>50%</th>\n",
       "      <td>211.230343</td>\n",
       "      <td>3.000000</td>\n",
       "      <td>0.000000</td>\n",
       "      <td>0.000000</td>\n",
       "      <td>10.000000</td>\n",
       "      <td>95.000000</td>\n",
       "      <td>1.000000</td>\n",
       "      <td>2.607930</td>\n",
       "      <td>0.412522</td>\n",
       "      <td>4.874190</td>\n",
       "      <td>47.506315</td>\n",
       "    </tr>\n",
       "    <tr>\n",
       "      <th>75%</th>\n",
       "      <td>319.051960</td>\n",
       "      <td>4.000000</td>\n",
       "      <td>1.000000</td>\n",
       "      <td>1.000000</td>\n",
       "      <td>10.000000</td>\n",
       "      <td>99.000000</td>\n",
       "      <td>1.000000</td>\n",
       "      <td>4.251491</td>\n",
       "      <td>0.732341</td>\n",
       "      <td>13.533010</td>\n",
       "      <td>51.469975</td>\n",
       "    </tr>\n",
       "    <tr>\n",
       "      <th>max</th>\n",
       "      <td>16445.614690</td>\n",
       "      <td>6.000000</td>\n",
       "      <td>1.000000</td>\n",
       "      <td>1.000000</td>\n",
       "      <td>10.000000</td>\n",
       "      <td>100.000000</td>\n",
       "      <td>10.000000</td>\n",
       "      <td>22.617458</td>\n",
       "      <td>13.314115</td>\n",
       "      <td>23.786020</td>\n",
       "      <td>52.641410</td>\n",
       "    </tr>\n",
       "  </tbody>\n",
       "</table>\n",
       "</div>"
      ],
      "text/plain": [
       "            realSum  person_capacity         multi           biz  \\\n",
       "count  36194.000000     36194.000000  36194.000000  36194.000000   \n",
       "mean     279.386846         3.159391      0.293612      0.348980   \n",
       "std      328.042369         1.294476      0.455423      0.476654   \n",
       "min       39.009259         2.000000      0.000000      0.000000   \n",
       "25%      148.645200         2.000000      0.000000      0.000000   \n",
       "50%      211.230343         3.000000      0.000000      0.000000   \n",
       "75%      319.051960         4.000000      1.000000      1.000000   \n",
       "max    16445.614690         6.000000      1.000000      1.000000   \n",
       "\n",
       "       cleanliness_rating  guest_satisfaction_overall      bedrooms  \\\n",
       "count        36194.000000                36194.000000  36194.000000   \n",
       "mean             9.389761                   92.614218      1.157595   \n",
       "std              0.954591                    8.917921      0.631141   \n",
       "min              2.000000                   20.000000      0.000000   \n",
       "25%              9.000000                   90.000000      1.000000   \n",
       "50%             10.000000                   95.000000      1.000000   \n",
       "75%             10.000000                   99.000000      1.000000   \n",
       "max             10.000000                  100.000000     10.000000   \n",
       "\n",
       "               dist    metro_dist           lng           lat  \n",
       "count  36194.000000  36194.000000  36194.000000  36194.000000  \n",
       "mean       3.183128      0.676998      7.434832     45.659390  \n",
       "std        2.383785      0.848039      9.810969      5.250253  \n",
       "min        0.015045      0.003220     -9.225990     37.953000  \n",
       "25%        1.452918      0.247775     -0.071540     41.398830  \n",
       "50%        2.607930      0.412522      4.874190     47.506315  \n",
       "75%        4.251491      0.732341     13.533010     51.469975  \n",
       "max       22.617458     13.314115     23.786020     52.641410  "
      ]
     },
     "execution_count": 25,
     "metadata": {},
     "output_type": "execute_result"
    }
   ],
   "source": [
    "data.describe()"
   ]
  },
  {
   "cell_type": "code",
   "execution_count": 26,
   "metadata": {},
   "outputs": [
    {
     "data": {
      "text/plain": [
       "array(['Entire home/apt', 'Private room', 'Shared room'], dtype=object)"
      ]
     },
     "execution_count": 26,
     "metadata": {},
     "output_type": "execute_result"
    }
   ],
   "source": [
    "data['room_type'].unique()"
   ]
  },
  {
   "cell_type": "markdown",
   "metadata": {},
   "source": [
    "### Separar el dataset"
   ]
  },
  {
   "cell_type": "code",
   "execution_count": 27,
   "metadata": {},
   "outputs": [],
   "source": [
    "y = data.loc[:,'realSum']\n",
    "data.drop(['realSum'],axis=1,inplace=True)"
   ]
  },
  {
   "cell_type": "code",
   "execution_count": 28,
   "metadata": {},
   "outputs": [],
   "source": [
    "from sklearn.model_selection import train_test_split\n",
    "X_train, X_test, y_train, y_test = train_test_split(data, y, test_size=0.3, random_state=20)"
   ]
  },
  {
   "attachments": {},
   "cell_type": "markdown",
   "metadata": {},
   "source": [
    "### Pipeline "
   ]
  },
  {
   "cell_type": "markdown",
   "metadata": {},
   "source": [
    "#### Variables Numericas"
   ]
  },
  {
   "cell_type": "code",
   "execution_count": 29,
   "metadata": {},
   "outputs": [],
   "source": [
    "from sklearn.pipeline import Pipeline\n",
    "from sklearn.preprocessing import StandardScaler\n",
    "from sklearn.impute import SimpleImputer\n",
    "\n",
    "\n",
    "num_pipeline = Pipeline([\n",
    "                            #('imputer', SimpleImputer(strategy=\"median\")),\n",
    "                            ('std_scaler', StandardScaler()),\n",
    "                        ])"
   ]
  },
  {
   "cell_type": "code",
   "execution_count": 30,
   "metadata": {},
   "outputs": [
    {
     "data": {
      "text/plain": [
       "array([-0.89565733, -0.64471156,  1.3658293 , -0.40830698, -0.18101082,\n",
       "       -1.83415651, -1.10838108, -0.29371493, -1.68882511, -1.32357536])"
      ]
     },
     "execution_count": 30,
     "metadata": {},
     "output_type": "execute_result"
    }
   ],
   "source": [
    "df_num_tr = num_pipeline.fit_transform(data.select_dtypes(include='number'))\n",
    "df_num_tr[0,:]"
   ]
  },
  {
   "cell_type": "markdown",
   "metadata": {},
   "source": [
    "#### Variables categoricas"
   ]
  },
  {
   "cell_type": "code",
   "execution_count": 31,
   "metadata": {},
   "outputs": [],
   "source": [
    "from sklearn.preprocessing import OneHotEncoder\n",
    "\n",
    "cat_pipeline = Pipeline([\n",
    "                        #('imputer', SimpleImputer(strategy=\"most_frequent\")),\n",
    "                        ('oh_enc', OneHotEncoder()),\n",
    "                        ])"
   ]
  },
  {
   "cell_type": "code",
   "execution_count": 32,
   "metadata": {},
   "outputs": [
    {
     "data": {
      "text/plain": [
       "array([1., 0., 0., 1., 0., 1., 0., 1., 0., 0., 0., 0., 0., 0., 1., 0., 0.,\n",
       "       0., 0., 1., 0.])"
      ]
     },
     "execution_count": 32,
     "metadata": {},
     "output_type": "execute_result"
    }
   ],
   "source": [
    "# test categorical pipeline\n",
    "# --------------------------\n",
    "df_cat_tr = cat_pipeline.fit_transform(data.select_dtypes(exclude='number'))\n",
    "\n",
    "# review output from pipeline\n",
    "df_cat_tr.toarray()[0,:]"
   ]
  },
  {
   "cell_type": "markdown",
   "metadata": {},
   "source": [
    "#### Pipeline Completo"
   ]
  },
  {
   "cell_type": "code",
   "execution_count": 33,
   "metadata": {},
   "outputs": [],
   "source": [
    "from sklearn.compose import ColumnTransformer\n",
    "\n",
    "num_attribs = data.select_dtypes(include='number').columns\n",
    "cat_attribs = data.select_dtypes(exclude='number').columns\n",
    "\n",
    "full_pipeline = ColumnTransformer([\n",
    "        (\"num\", num_pipeline, num_attribs),\n",
    "        (\"cat\", cat_pipeline, cat_attribs),\n",
    "    ])"
   ]
  },
  {
   "cell_type": "code",
   "execution_count": 34,
   "metadata": {},
   "outputs": [
    {
     "name": "stdout",
     "output_type": "stream",
     "text": [
      "(25335, 31)\n"
     ]
    },
    {
     "data": {
      "text/plain": [
       "array([-0.89565733, -0.64471156,  1.3658293 , -0.40830698,  0.0432598 ,\n",
       "       -0.24970234, -0.8004245 , -0.32494498, -1.6901828 , -1.32132782,\n",
       "        0.        ,  1.        ,  0.        ,  1.        ,  0.        ,\n",
       "        0.        ,  1.        ,  1.        ,  0.        ,  0.        ,\n",
       "        0.        ,  0.        ,  0.        ,  0.        ,  1.        ,\n",
       "        0.        ,  0.        ,  0.        ,  0.        ,  1.        ,\n",
       "        0.        ])"
      ]
     },
     "execution_count": 34,
     "metadata": {},
     "output_type": "execute_result"
    }
   ],
   "source": [
    "full_pipeline.fit(data)\n",
    "X_train_processed = full_pipeline.transform(X_train)\n",
    "#X_train_processed = full_pipeline.fit_transform(X_train)\n",
    "\n",
    "print(X_train_processed.shape)\n",
    "\n",
    "X_train_processed[0,:]"
   ]
  },
  {
   "cell_type": "code",
   "execution_count": 35,
   "metadata": {},
   "outputs": [
    {
     "ename": "MemoryError",
     "evalue": "Unable to allocate 71.2 GiB for an array with shape (25335, 376992) and data type float64",
     "output_type": "error",
     "traceback": [
      "\u001b[1;31m---------------------------------------------------------------------------\u001b[0m",
      "\u001b[1;31mMemoryError\u001b[0m                               Traceback (most recent call last)",
      "Cell \u001b[1;32mIn[35], line 14\u001b[0m\n\u001b[0;32m      3\u001b[0m \u001b[39m\"\"\"\u001b[39;00m\n\u001b[0;32m      4\u001b[0m \u001b[39mX = sm.add_constant(X_train_processed)\u001b[39;00m\n\u001b[0;32m      5\u001b[0m \n\u001b[1;32m   (...)\u001b[0m\n\u001b[0;32m      8\u001b[0m \u001b[39msimple_result = simple_model.fit();\u001b[39;00m\n\u001b[0;32m      9\u001b[0m \u001b[39m\"\"\"\u001b[39;00m \n\u001b[0;32m     11\u001b[0m poly_reg \u001b[39m=\u001b[39m PolynomialFeatures(degree \u001b[39m=\u001b[39m \u001b[39m5\u001b[39m)\n\u001b[1;32m---> 14\u001b[0m X_poly_train \u001b[39m=\u001b[39m poly_reg\u001b[39m.\u001b[39;49mfit_transform(X_train_processed)\n\u001b[0;32m     15\u001b[0m X_poly_test \u001b[39m=\u001b[39m poly_reg\u001b[39m.\u001b[39mfit_transform(X_train_processed)\n\u001b[0;32m     17\u001b[0m \u001b[39m# create instance\u001b[39;00m\n\u001b[0;32m     18\u001b[0m \u001b[39m#forest_clf = RandomForestClassifier(random_state=42)\u001b[39;00m\n\u001b[0;32m     19\u001b[0m \n\u001b[0;32m     20\u001b[0m \u001b[39m#forest_clf.fit(X_train_processed[:6000], y_train[:6000])\u001b[39;00m\n",
      "File \u001b[1;32mc:\\Users\\Usuario\\miniforge3\\envs\\mlm\\lib\\site-packages\\sklearn\\utils\\_set_output.py:142\u001b[0m, in \u001b[0;36m_wrap_method_output.<locals>.wrapped\u001b[1;34m(self, X, *args, **kwargs)\u001b[0m\n\u001b[0;32m    140\u001b[0m \u001b[39m@wraps\u001b[39m(f)\n\u001b[0;32m    141\u001b[0m \u001b[39mdef\u001b[39;00m \u001b[39mwrapped\u001b[39m(\u001b[39mself\u001b[39m, X, \u001b[39m*\u001b[39margs, \u001b[39m*\u001b[39m\u001b[39m*\u001b[39mkwargs):\n\u001b[1;32m--> 142\u001b[0m     data_to_wrap \u001b[39m=\u001b[39m f(\u001b[39mself\u001b[39m, X, \u001b[39m*\u001b[39margs, \u001b[39m*\u001b[39m\u001b[39m*\u001b[39mkwargs)\n\u001b[0;32m    143\u001b[0m     \u001b[39mif\u001b[39;00m \u001b[39misinstance\u001b[39m(data_to_wrap, \u001b[39mtuple\u001b[39m):\n\u001b[0;32m    144\u001b[0m         \u001b[39m# only wrap the first output for cross decomposition\u001b[39;00m\n\u001b[0;32m    145\u001b[0m         \u001b[39mreturn\u001b[39;00m (\n\u001b[0;32m    146\u001b[0m             _wrap_data_with_container(method, data_to_wrap[\u001b[39m0\u001b[39m], X, \u001b[39mself\u001b[39m),\n\u001b[0;32m    147\u001b[0m             \u001b[39m*\u001b[39mdata_to_wrap[\u001b[39m1\u001b[39m:],\n\u001b[0;32m    148\u001b[0m         )\n",
      "File \u001b[1;32mc:\\Users\\Usuario\\miniforge3\\envs\\mlm\\lib\\site-packages\\sklearn\\base.py:859\u001b[0m, in \u001b[0;36mTransformerMixin.fit_transform\u001b[1;34m(self, X, y, **fit_params)\u001b[0m\n\u001b[0;32m    855\u001b[0m \u001b[39m# non-optimized default implementation; override when a better\u001b[39;00m\n\u001b[0;32m    856\u001b[0m \u001b[39m# method is possible for a given clustering algorithm\u001b[39;00m\n\u001b[0;32m    857\u001b[0m \u001b[39mif\u001b[39;00m y \u001b[39mis\u001b[39;00m \u001b[39mNone\u001b[39;00m:\n\u001b[0;32m    858\u001b[0m     \u001b[39m# fit method of arity 1 (unsupervised transformation)\u001b[39;00m\n\u001b[1;32m--> 859\u001b[0m     \u001b[39mreturn\u001b[39;00m \u001b[39mself\u001b[39;49m\u001b[39m.\u001b[39;49mfit(X, \u001b[39m*\u001b[39;49m\u001b[39m*\u001b[39;49mfit_params)\u001b[39m.\u001b[39;49mtransform(X)\n\u001b[0;32m    860\u001b[0m \u001b[39melse\u001b[39;00m:\n\u001b[0;32m    861\u001b[0m     \u001b[39m# fit method of arity 2 (supervised transformation)\u001b[39;00m\n\u001b[0;32m    862\u001b[0m     \u001b[39mreturn\u001b[39;00m \u001b[39mself\u001b[39m\u001b[39m.\u001b[39mfit(X, y, \u001b[39m*\u001b[39m\u001b[39m*\u001b[39mfit_params)\u001b[39m.\u001b[39mtransform(X)\n",
      "File \u001b[1;32mc:\\Users\\Usuario\\miniforge3\\envs\\mlm\\lib\\site-packages\\sklearn\\utils\\_set_output.py:142\u001b[0m, in \u001b[0;36m_wrap_method_output.<locals>.wrapped\u001b[1;34m(self, X, *args, **kwargs)\u001b[0m\n\u001b[0;32m    140\u001b[0m \u001b[39m@wraps\u001b[39m(f)\n\u001b[0;32m    141\u001b[0m \u001b[39mdef\u001b[39;00m \u001b[39mwrapped\u001b[39m(\u001b[39mself\u001b[39m, X, \u001b[39m*\u001b[39margs, \u001b[39m*\u001b[39m\u001b[39m*\u001b[39mkwargs):\n\u001b[1;32m--> 142\u001b[0m     data_to_wrap \u001b[39m=\u001b[39m f(\u001b[39mself\u001b[39m, X, \u001b[39m*\u001b[39margs, \u001b[39m*\u001b[39m\u001b[39m*\u001b[39mkwargs)\n\u001b[0;32m    143\u001b[0m     \u001b[39mif\u001b[39;00m \u001b[39misinstance\u001b[39m(data_to_wrap, \u001b[39mtuple\u001b[39m):\n\u001b[0;32m    144\u001b[0m         \u001b[39m# only wrap the first output for cross decomposition\u001b[39;00m\n\u001b[0;32m    145\u001b[0m         \u001b[39mreturn\u001b[39;00m (\n\u001b[0;32m    146\u001b[0m             _wrap_data_with_container(method, data_to_wrap[\u001b[39m0\u001b[39m], X, \u001b[39mself\u001b[39m),\n\u001b[0;32m    147\u001b[0m             \u001b[39m*\u001b[39mdata_to_wrap[\u001b[39m1\u001b[39m:],\n\u001b[0;32m    148\u001b[0m         )\n",
      "File \u001b[1;32mc:\\Users\\Usuario\\miniforge3\\envs\\mlm\\lib\\site-packages\\sklearn\\preprocessing\\_polynomial.py:393\u001b[0m, in \u001b[0;36mPolynomialFeatures.transform\u001b[1;34m(self, X)\u001b[0m\n\u001b[0;32m    389\u001b[0m     XP \u001b[39m=\u001b[39m sparse\u001b[39m.\u001b[39mhstack(columns, dtype\u001b[39m=\u001b[39mX\u001b[39m.\u001b[39mdtype)\u001b[39m.\u001b[39mtocsc()\n\u001b[0;32m    390\u001b[0m \u001b[39melse\u001b[39;00m:\n\u001b[0;32m    391\u001b[0m     \u001b[39m# Do as if _min_degree = 0 and cut down array after the\u001b[39;00m\n\u001b[0;32m    392\u001b[0m     \u001b[39m# computation, i.e. use _n_out_full instead of n_output_features_.\u001b[39;00m\n\u001b[1;32m--> 393\u001b[0m     XP \u001b[39m=\u001b[39m np\u001b[39m.\u001b[39;49mempty(\n\u001b[0;32m    394\u001b[0m         shape\u001b[39m=\u001b[39;49m(n_samples, \u001b[39mself\u001b[39;49m\u001b[39m.\u001b[39;49m_n_out_full), dtype\u001b[39m=\u001b[39;49mX\u001b[39m.\u001b[39;49mdtype, order\u001b[39m=\u001b[39;49m\u001b[39mself\u001b[39;49m\u001b[39m.\u001b[39;49morder\n\u001b[0;32m    395\u001b[0m     )\n\u001b[0;32m    397\u001b[0m     \u001b[39m# What follows is a faster implementation of:\u001b[39;00m\n\u001b[0;32m    398\u001b[0m     \u001b[39m# for i, comb in enumerate(combinations):\u001b[39;00m\n\u001b[0;32m    399\u001b[0m     \u001b[39m#     XP[:, i] = X[:, comb].prod(1)\u001b[39;00m\n\u001b[1;32m   (...)\u001b[0m\n\u001b[0;32m    409\u001b[0m \n\u001b[0;32m    410\u001b[0m     \u001b[39m# degree 0 term\u001b[39;00m\n\u001b[0;32m    411\u001b[0m     \u001b[39mif\u001b[39;00m \u001b[39mself\u001b[39m\u001b[39m.\u001b[39minclude_bias:\n",
      "\u001b[1;31mMemoryError\u001b[0m: Unable to allocate 71.2 GiB for an array with shape (25335, 376992) and data type float64"
     ]
    }
   ],
   "source": [
    "import statsmodels.api as sm\n",
    "from statsmodels.sandbox.regression.predstd import wls_prediction_std\n",
    "\"\"\"\n",
    "X = sm.add_constant(X_train_processed)\n",
    "\n",
    "simple_model = sm.OLS(y_train, X)\n",
    "\n",
    "simple_result = simple_model.fit();\n",
    "\"\"\" \n",
    "\n",
    "poly_reg = PolynomialFeatures(degree = 5)\n",
    "\n",
    "\n",
    "X_poly_train = poly_reg.fit_transform(X_train_processed)\n",
    "X_poly_test = poly_reg.fit_transform(X_train_processed)\n",
    "\n",
    "# create instance\n",
    "#forest_clf = RandomForestClassifier(random_state=42)\n",
    "\n",
    "#forest_clf.fit(X_train_processed[:6000], y_train[:6000])"
   ]
  },
  {
   "cell_type": "code",
   "execution_count": 17,
   "metadata": {},
   "outputs": [
    {
     "name": "stdout",
     "output_type": "stream",
     "text": [
      "                            OLS Regression Results                            \n",
      "==============================================================================\n",
      "Dep. Variable:                realSum   R-squared:                       0.254\n",
      "Model:                            OLS   Adj. R-squared:                  0.254\n",
      "Method:                 Least Squares   F-statistic:                     375.7\n",
      "Date:                Thu, 30 Mar 2023   Prob (F-statistic):               0.00\n",
      "Time:                        13:12:34   Log-Likelihood:            -1.7757e+05\n",
      "No. Observations:               25335   AIC:                         3.552e+05\n",
      "Df Residuals:                   25311   BIC:                         3.554e+05\n",
      "Df Model:                          23                                         \n",
      "Covariance Type:            nonrobust                                         \n",
      "==============================================================================\n",
      "                 coef    std err          t      P>|t|      [0.025      0.975]\n",
      "------------------------------------------------------------------------------\n",
      "const       -5.45e+12   1.43e+14     -0.038      0.970   -2.86e+14    2.75e+14\n",
      "x1            31.0578      2.385     13.024      0.000      26.384      35.732\n",
      "x2             9.1031      1.973      4.614      0.000       5.236      12.970\n",
      "x3            21.3044      2.080     10.242      0.000      17.227      25.381\n",
      "x4             5.0386      2.447      2.059      0.039       0.243       9.834\n",
      "x5             7.5148      2.499      3.007      0.003       2.617      12.413\n",
      "x6            54.0559      2.069     26.126      0.000      50.001      58.111\n",
      "x7           -40.4930      2.470    -16.397      0.000     -45.333     -35.653\n",
      "x8             1.5576      2.239      0.696      0.487      -2.830       5.945\n",
      "x9         -4287.0220    418.932    -10.233      0.000   -5108.153   -3465.891\n",
      "x10          435.0653    421.490      1.032      0.302    -391.079    1261.209\n",
      "x11        -1.053e+12   2.76e+13     -0.038      0.970   -5.52e+13    5.31e+13\n",
      "x12        -2.602e+11   6.82e+12     -0.038      0.970   -1.36e+13    1.31e+13\n",
      "x13         1.612e+12   4.23e+13      0.038      0.970   -8.12e+13    8.45e+13\n",
      "x14         4.291e+12   1.13e+14      0.038      0.970   -2.16e+14    2.25e+14\n",
      "x15         1.626e+12   4.26e+13      0.038      0.970   -8.19e+13    8.52e+13\n",
      "x16         5.459e+11   1.43e+13      0.038      0.970   -2.75e+13    2.86e+13\n",
      "x17        -2.472e+11   6.48e+12     -0.038      0.970    -1.3e+13    1.25e+13\n",
      "x18         7.311e+11   1.92e+13      0.038      0.970   -3.69e+13    3.83e+13\n",
      "x19         7.311e+11   1.92e+13      0.038      0.970   -3.69e+13    3.83e+13\n",
      "x20        -6.111e+11    1.6e+13     -0.038      0.970    -3.2e+13    3.08e+13\n",
      "x21        -6.111e+11    1.6e+13     -0.038      0.970    -3.2e+13    3.08e+13\n",
      "x22        -6.111e+11    1.6e+13     -0.038      0.970    -3.2e+13    3.08e+13\n",
      "x23        -6.111e+11    1.6e+13     -0.038      0.970    -3.2e+13    3.08e+13\n",
      "x24        -6.111e+11    1.6e+13     -0.038      0.970    -3.2e+13    3.08e+13\n",
      "x25        -6.111e+11    1.6e+13     -0.038      0.970    -3.2e+13    3.08e+13\n",
      "x26        -6.111e+11    1.6e+13     -0.038      0.970    -3.2e+13    3.08e+13\n",
      "x27        -6.111e+11    1.6e+13     -0.038      0.970    -3.2e+13    3.08e+13\n",
      "x28        -6.111e+11    1.6e+13     -0.038      0.970    -3.2e+13    3.08e+13\n",
      "x29        -6.111e+11    1.6e+13     -0.038      0.970    -3.2e+13    3.08e+13\n",
      "x30         1.546e+12   4.05e+13      0.038      0.970   -7.79e+13     8.1e+13\n",
      "x31         1.546e+12   4.05e+13      0.038      0.970   -7.79e+13     8.1e+13\n",
      "==============================================================================\n",
      "Omnibus:                    62772.121   Durbin-Watson:                   2.003\n",
      "Prob(Omnibus):                  0.000   Jarque-Bera (JB):       1541635816.131\n",
      "Skew:                          26.569   Prob(JB):                         0.00\n",
      "Kurtosis:                    1210.302   Cond. No.                     1.15e+16\n",
      "==============================================================================\n",
      "\n",
      "Notes:\n",
      "[1] Standard Errors assume that the covariance matrix of the errors is correctly specified.\n",
      "[2] The smallest eigenvalue is 8.34e-28. This might indicate that there are\n",
      "strong multicollinearity problems or that the design matrix is singular.\n"
     ]
    }
   ],
   "source": [
    "print(simple_result.summary())"
   ]
  }
 ],
 "metadata": {
  "kernelspec": {
   "display_name": "Python 3",
   "language": "python",
   "name": "python3"
  },
  "language_info": {
   "codemirror_mode": {
    "name": "ipython",
    "version": 3
   },
   "file_extension": ".py",
   "mimetype": "text/x-python",
   "name": "python",
   "nbconvert_exporter": "python",
   "pygments_lexer": "ipython3",
   "version": "3.9.15"
  },
  "orig_nbformat": 4
 },
 "nbformat": 4,
 "nbformat_minor": 2
}
