{
 "cells": [
  {
   "cell_type": "code",
   "execution_count": 1,
   "metadata": {
    "execution": {
     "iopub.execute_input": "2021-02-24T16:03:19.150840Z",
     "iopub.status.busy": "2021-02-24T16:03:19.149862Z",
     "iopub.status.idle": "2021-02-24T16:03:20.210737Z",
     "shell.execute_reply": "2021-02-24T16:03:20.210043Z"
    },
    "papermill": {
     "duration": 1.099029,
     "end_time": "2021-02-24T16:03:20.211019",
     "exception": false,
     "start_time": "2021-02-24T16:03:19.111990",
     "status": "completed"
    },
    "tags": []
   },
   "outputs": [],
   "source": [
    "\n",
    "import os\n",
    "import numpy as np \n",
    "import pandas as pd\n",
    "import matplotlib.pyplot as plt\n",
    "import seaborn as sns\n",
    "\n",
    "\n",
    "import warnings\n",
    "warnings.filterwarnings('ignore')"
   ]
  },
  {
   "cell_type": "markdown",
   "metadata": {
    "papermill": {
     "duration": 0.031013,
     "end_time": "2021-02-24T16:03:20.274899",
     "exception": false,
     "start_time": "2021-02-24T16:03:20.243886",
     "status": "completed"
    },
    "tags": []
   },
   "source": [
    "### Why Do You Need a Pipeline?"
   ]
  },
  {
   "cell_type": "markdown",
   "metadata": {
    "papermill": {
     "duration": 0.030986,
     "end_time": "2021-02-24T16:03:20.337257",
     "exception": false,
     "start_time": "2021-02-24T16:03:20.306271",
     "status": "completed"
    },
    "tags": []
   },
   "source": [
    "Data cleaning and preparation is easily the most time-consuming and boring task in machine learning. All ML algorithms are really fussy, some want normalized or standardized features, some want encoded variables and some want both. Then, there is also the issue of missing values which is always there.\n",
    "\n",
    "Dealing with them is no fun at all, not to mention the added bonus that comes with repeating the same cleaning operations on all training, validation and test sets. Fortunately, Scikit-learn's `Pipeline` is a major productivity tool to facilitate this process, cleaning up code and collapsing all preprocessing and modeling steps into to a single line of code. Here, check this out:"
   ]
  },
  {
   "cell_type": "markdown",
   "metadata": {
    "papermill": {
     "duration": 0.030874,
     "end_time": "2021-02-24T16:03:20.588406",
     "exception": false,
     "start_time": "2021-02-24T16:03:20.557532",
     "status": "completed"
    },
    "tags": []
   },
   "source": [
    "### Intro to Scikit-learn Pipelines"
   ]
  },
  {
   "cell_type": "markdown",
   "metadata": {
    "papermill": {
     "duration": 0.031084,
     "end_time": "2021-02-24T16:03:20.650973",
     "exception": false,
     "start_time": "2021-02-24T16:03:20.619889",
     "status": "completed"
    },
    "tags": []
   },
   "source": [
    "In this and coming sections, we will build the above `pipe_lasso` pipeline together for the [Ames Housing dataset](https://www.kaggle.com/c/home-data-for-ml-course/data) which is used for an [InClass competition](https://www.kaggle.com/c/home-data-for-ml-course/overview) on Kaggle. The dataset contains 81 variables on almost every aspect of a house and using these, you have to predict the house's price. Let's load the training and test sets:"
   ]
  },
  {
   "cell_type": "code",
   "execution_count": 3,
   "metadata": {
    "execution": {
     "iopub.execute_input": "2021-02-24T16:03:20.720428Z",
     "iopub.status.busy": "2021-02-24T16:03:20.719636Z",
     "iopub.status.idle": "2021-02-24T16:03:20.856085Z",
     "shell.execute_reply": "2021-02-24T16:03:20.855377Z"
    },
    "papermill": {
     "duration": 0.173758,
     "end_time": "2021-02-24T16:03:20.856236",
     "exception": false,
     "start_time": "2021-02-24T16:03:20.682478",
     "status": "completed"
    },
    "tags": []
   },
   "outputs": [
    {
     "data": {
      "text/html": [
       "<div>\n",
       "<style scoped>\n",
       "    .dataframe tbody tr th:only-of-type {\n",
       "        vertical-align: middle;\n",
       "    }\n",
       "\n",
       "    .dataframe tbody tr th {\n",
       "        vertical-align: top;\n",
       "    }\n",
       "\n",
       "    .dataframe thead th {\n",
       "        text-align: right;\n",
       "    }\n",
       "</style>\n",
       "<table border=\"1\" class=\"dataframe\">\n",
       "  <thead>\n",
       "    <tr style=\"text-align: right;\">\n",
       "      <th></th>\n",
       "      <th>ScreenPorch</th>\n",
       "      <th>PoolArea</th>\n",
       "      <th>PoolQC</th>\n",
       "      <th>Fence</th>\n",
       "      <th>MiscFeature</th>\n",
       "      <th>MiscVal</th>\n",
       "      <th>MoSold</th>\n",
       "      <th>YrSold</th>\n",
       "      <th>SaleType</th>\n",
       "      <th>SaleCondition</th>\n",
       "      <th>SalePrice</th>\n",
       "    </tr>\n",
       "  </thead>\n",
       "  <tbody>\n",
       "    <tr>\n",
       "      <th>0</th>\n",
       "      <td>0</td>\n",
       "      <td>0</td>\n",
       "      <td>NaN</td>\n",
       "      <td>NaN</td>\n",
       "      <td>NaN</td>\n",
       "      <td>0</td>\n",
       "      <td>2</td>\n",
       "      <td>2008</td>\n",
       "      <td>WD</td>\n",
       "      <td>Normal</td>\n",
       "      <td>208500</td>\n",
       "    </tr>\n",
       "    <tr>\n",
       "      <th>1</th>\n",
       "      <td>0</td>\n",
       "      <td>0</td>\n",
       "      <td>NaN</td>\n",
       "      <td>NaN</td>\n",
       "      <td>NaN</td>\n",
       "      <td>0</td>\n",
       "      <td>5</td>\n",
       "      <td>2007</td>\n",
       "      <td>WD</td>\n",
       "      <td>Normal</td>\n",
       "      <td>181500</td>\n",
       "    </tr>\n",
       "    <tr>\n",
       "      <th>2</th>\n",
       "      <td>0</td>\n",
       "      <td>0</td>\n",
       "      <td>NaN</td>\n",
       "      <td>NaN</td>\n",
       "      <td>NaN</td>\n",
       "      <td>0</td>\n",
       "      <td>9</td>\n",
       "      <td>2008</td>\n",
       "      <td>WD</td>\n",
       "      <td>Normal</td>\n",
       "      <td>223500</td>\n",
       "    </tr>\n",
       "    <tr>\n",
       "      <th>3</th>\n",
       "      <td>0</td>\n",
       "      <td>0</td>\n",
       "      <td>NaN</td>\n",
       "      <td>NaN</td>\n",
       "      <td>NaN</td>\n",
       "      <td>0</td>\n",
       "      <td>2</td>\n",
       "      <td>2006</td>\n",
       "      <td>WD</td>\n",
       "      <td>Abnorml</td>\n",
       "      <td>140000</td>\n",
       "    </tr>\n",
       "    <tr>\n",
       "      <th>4</th>\n",
       "      <td>0</td>\n",
       "      <td>0</td>\n",
       "      <td>NaN</td>\n",
       "      <td>NaN</td>\n",
       "      <td>NaN</td>\n",
       "      <td>0</td>\n",
       "      <td>12</td>\n",
       "      <td>2008</td>\n",
       "      <td>WD</td>\n",
       "      <td>Normal</td>\n",
       "      <td>250000</td>\n",
       "    </tr>\n",
       "    <tr>\n",
       "      <th>...</th>\n",
       "      <td>...</td>\n",
       "      <td>...</td>\n",
       "      <td>...</td>\n",
       "      <td>...</td>\n",
       "      <td>...</td>\n",
       "      <td>...</td>\n",
       "      <td>...</td>\n",
       "      <td>...</td>\n",
       "      <td>...</td>\n",
       "      <td>...</td>\n",
       "      <td>...</td>\n",
       "    </tr>\n",
       "    <tr>\n",
       "      <th>1455</th>\n",
       "      <td>0</td>\n",
       "      <td>0</td>\n",
       "      <td>NaN</td>\n",
       "      <td>NaN</td>\n",
       "      <td>NaN</td>\n",
       "      <td>0</td>\n",
       "      <td>8</td>\n",
       "      <td>2007</td>\n",
       "      <td>WD</td>\n",
       "      <td>Normal</td>\n",
       "      <td>175000</td>\n",
       "    </tr>\n",
       "    <tr>\n",
       "      <th>1456</th>\n",
       "      <td>0</td>\n",
       "      <td>0</td>\n",
       "      <td>NaN</td>\n",
       "      <td>MnPrv</td>\n",
       "      <td>NaN</td>\n",
       "      <td>0</td>\n",
       "      <td>2</td>\n",
       "      <td>2010</td>\n",
       "      <td>WD</td>\n",
       "      <td>Normal</td>\n",
       "      <td>210000</td>\n",
       "    </tr>\n",
       "    <tr>\n",
       "      <th>1457</th>\n",
       "      <td>0</td>\n",
       "      <td>0</td>\n",
       "      <td>NaN</td>\n",
       "      <td>GdPrv</td>\n",
       "      <td>Shed</td>\n",
       "      <td>2500</td>\n",
       "      <td>5</td>\n",
       "      <td>2010</td>\n",
       "      <td>WD</td>\n",
       "      <td>Normal</td>\n",
       "      <td>266500</td>\n",
       "    </tr>\n",
       "    <tr>\n",
       "      <th>1458</th>\n",
       "      <td>0</td>\n",
       "      <td>0</td>\n",
       "      <td>NaN</td>\n",
       "      <td>NaN</td>\n",
       "      <td>NaN</td>\n",
       "      <td>0</td>\n",
       "      <td>4</td>\n",
       "      <td>2010</td>\n",
       "      <td>WD</td>\n",
       "      <td>Normal</td>\n",
       "      <td>142125</td>\n",
       "    </tr>\n",
       "    <tr>\n",
       "      <th>1459</th>\n",
       "      <td>0</td>\n",
       "      <td>0</td>\n",
       "      <td>NaN</td>\n",
       "      <td>NaN</td>\n",
       "      <td>NaN</td>\n",
       "      <td>0</td>\n",
       "      <td>6</td>\n",
       "      <td>2008</td>\n",
       "      <td>WD</td>\n",
       "      <td>Normal</td>\n",
       "      <td>147500</td>\n",
       "    </tr>\n",
       "  </tbody>\n",
       "</table>\n",
       "<p>1460 rows × 11 columns</p>\n",
       "</div>"
      ],
      "text/plain": [
       "      ScreenPorch  PoolArea PoolQC  Fence MiscFeature  MiscVal  MoSold  \\\n",
       "0               0         0    NaN    NaN         NaN        0       2   \n",
       "1               0         0    NaN    NaN         NaN        0       5   \n",
       "2               0         0    NaN    NaN         NaN        0       9   \n",
       "3               0         0    NaN    NaN         NaN        0       2   \n",
       "4               0         0    NaN    NaN         NaN        0      12   \n",
       "...           ...       ...    ...    ...         ...      ...     ...   \n",
       "1455            0         0    NaN    NaN         NaN        0       8   \n",
       "1456            0         0    NaN  MnPrv         NaN        0       2   \n",
       "1457            0         0    NaN  GdPrv        Shed     2500       5   \n",
       "1458            0         0    NaN    NaN         NaN        0       4   \n",
       "1459            0         0    NaN    NaN         NaN        0       6   \n",
       "\n",
       "      YrSold SaleType SaleCondition  SalePrice  \n",
       "0       2008       WD        Normal     208500  \n",
       "1       2007       WD        Normal     181500  \n",
       "2       2008       WD        Normal     223500  \n",
       "3       2006       WD       Abnorml     140000  \n",
       "4       2008       WD        Normal     250000  \n",
       "...      ...      ...           ...        ...  \n",
       "1455    2007       WD        Normal     175000  \n",
       "1456    2010       WD        Normal     210000  \n",
       "1457    2010       WD        Normal     266500  \n",
       "1458    2010       WD        Normal     142125  \n",
       "1459    2008       WD        Normal     147500  \n",
       "\n",
       "[1460 rows x 11 columns]"
      ]
     },
     "execution_count": 3,
     "metadata": {},
     "output_type": "execute_result"
    }
   ],
   "source": [
    "PATH = 'C:\\GitHub\\pythonPrograms\\machineLearningModels2023\\datasets\\Housing_Prices_Competition'\n",
    "\n",
    "train = pd.read_csv(os.path.join(PATH,'train.csv'))\n",
    "train.iloc[:, 70:]"
   ]
  },
  {
   "cell_type": "code",
   "execution_count": 4,
   "metadata": {},
   "outputs": [
    {
     "name": "stdout",
     "output_type": "stream",
     "text": [
      "Id unique values: 1460\n",
      "# on obervations: 1460\n"
     ]
    }
   ],
   "source": [
    "print(f\"Id unique values: {train.loc[:,'Id'].nunique()}\")\n",
    "print(f\"# on obervations: {train.loc[:,'Id'].shape[0]}\")\n",
    "\n",
    "# drop Id \n",
    "train.drop(columns=['Id'],axis=0,inplace=True)"
   ]
  },
  {
   "cell_type": "code",
   "execution_count": 5,
   "metadata": {
    "execution": {
     "iopub.execute_input": "2021-02-24T16:03:21.022922Z",
     "iopub.status.busy": "2021-02-24T16:03:21.021759Z",
     "iopub.status.idle": "2021-02-24T16:03:21.349485Z",
     "shell.execute_reply": "2021-02-24T16:03:21.347705Z"
    },
    "papermill": {
     "duration": 0.381764,
     "end_time": "2021-02-24T16:03:21.349698",
     "exception": false,
     "start_time": "2021-02-24T16:03:20.967934",
     "status": "completed"
    },
    "tags": []
   },
   "outputs": [],
   "source": [
    "\n",
    "from sklearn.model_selection import train_test_split\n",
    "\n",
    "X = train.drop('SalePrice', axis=1)\n",
    "y = train.SalePrice\n",
    "\n",
    "X_train, X_valid, y_train, y_valid = train_test_split(X, y, test_size=.3, random_state=42)"
   ]
  },
  {
   "cell_type": "code",
   "execution_count": 6,
   "metadata": {},
   "outputs": [
    {
     "name": "stdout",
     "output_type": "stream",
     "text": [
      "{'ConLI', 'Con', 'ConLD', 'ConLw', 'WD', 'COD', 'New', 'CWD', 'Oth'}\n",
      "{'ConLI', 'ConLD', 'ConLw', 'WD', 'COD', 'New', 'Oth'}\n"
     ]
    }
   ],
   "source": [
    "col = 'SaleType'\n",
    "print(set(X_train[col]))\n",
    "print(set(X_valid[col]))"
   ]
  },
  {
   "cell_type": "code",
   "execution_count": 7,
   "metadata": {
    "execution": {
     "iopub.execute_input": "2021-02-24T16:03:21.444740Z",
     "iopub.status.busy": "2021-02-24T16:03:21.434265Z",
     "iopub.status.idle": "2021-02-24T16:03:21.449727Z",
     "shell.execute_reply": "2021-02-24T16:03:21.448836Z"
    },
    "papermill": {
     "duration": 0.06654,
     "end_time": "2021-02-24T16:03:21.449914",
     "exception": false,
     "start_time": "2021-02-24T16:03:21.383374",
     "status": "completed"
    },
    "tags": []
   },
   "outputs": [],
   "source": [
    "# All categorical columns\n",
    "object_cols = [col for col in X_train.columns if X_train[col].dtype == \"object\"]\n",
    "\n",
    "# Columns that can be safely label encoded\n",
    "good_label_cols = [col for col in object_cols if set(X_train[col]) == set(X_valid[col])]\n",
    "\n",
    "# Problematic columns that will be dropped from the dataset\n",
    "bad_label_cols = list(set(object_cols)-set(good_label_cols))\n",
    "\n",
    "# Drop categorical columns that will not be encoded\n",
    "X_train = X_train.drop(bad_label_cols, axis=1)\n",
    "X_valid = X_valid.drop(bad_label_cols, axis=1)"
   ]
  },
  {
   "cell_type": "markdown",
   "metadata": {
    "papermill": {
     "duration": 0.032611,
     "end_time": "2021-02-24T16:03:21.515483",
     "exception": false,
     "start_time": "2021-02-24T16:03:21.482872",
     "status": "completed"
    },
    "tags": []
   },
   "source": [
    "Now, let's do basic exploration of the training set:"
   ]
  },
  {
   "cell_type": "code",
   "execution_count": 8,
   "metadata": {
    "execution": {
     "iopub.execute_input": "2021-02-24T16:03:21.594232Z",
     "iopub.status.busy": "2021-02-24T16:03:21.593104Z",
     "iopub.status.idle": "2021-02-24T16:03:21.771398Z",
     "shell.execute_reply": "2021-02-24T16:03:21.770778Z"
    },
    "papermill": {
     "duration": 0.221117,
     "end_time": "2021-02-24T16:03:21.771563",
     "exception": false,
     "start_time": "2021-02-24T16:03:21.550446",
     "status": "completed"
    },
    "tags": []
   },
   "outputs": [
    {
     "data": {
      "text/html": [
       "<div>\n",
       "<style scoped>\n",
       "    .dataframe tbody tr th:only-of-type {\n",
       "        vertical-align: middle;\n",
       "    }\n",
       "\n",
       "    .dataframe tbody tr th {\n",
       "        vertical-align: top;\n",
       "    }\n",
       "\n",
       "    .dataframe thead th {\n",
       "        text-align: right;\n",
       "    }\n",
       "</style>\n",
       "<table border=\"1\" class=\"dataframe\">\n",
       "  <thead>\n",
       "    <tr style=\"text-align: right;\">\n",
       "      <th></th>\n",
       "      <th>count</th>\n",
       "      <th>mean</th>\n",
       "      <th>std</th>\n",
       "      <th>min</th>\n",
       "      <th>25%</th>\n",
       "      <th>50%</th>\n",
       "      <th>75%</th>\n",
       "      <th>max</th>\n",
       "    </tr>\n",
       "  </thead>\n",
       "  <tbody>\n",
       "    <tr>\n",
       "      <th>MSSubClass</th>\n",
       "      <td>1022.0</td>\n",
       "      <td>57.059687</td>\n",
       "      <td>42.669715</td>\n",
       "      <td>20.0</td>\n",
       "      <td>20.00</td>\n",
       "      <td>50.0</td>\n",
       "      <td>70.0</td>\n",
       "      <td>190.0</td>\n",
       "    </tr>\n",
       "    <tr>\n",
       "      <th>LotFrontage</th>\n",
       "      <td>832.0</td>\n",
       "      <td>70.375000</td>\n",
       "      <td>25.533607</td>\n",
       "      <td>21.0</td>\n",
       "      <td>59.00</td>\n",
       "      <td>70.0</td>\n",
       "      <td>80.0</td>\n",
       "      <td>313.0</td>\n",
       "    </tr>\n",
       "    <tr>\n",
       "      <th>LotArea</th>\n",
       "      <td>1022.0</td>\n",
       "      <td>10745.437378</td>\n",
       "      <td>11329.753423</td>\n",
       "      <td>1300.0</td>\n",
       "      <td>7564.25</td>\n",
       "      <td>9600.0</td>\n",
       "      <td>11692.5</td>\n",
       "      <td>215245.0</td>\n",
       "    </tr>\n",
       "    <tr>\n",
       "      <th>OverallQual</th>\n",
       "      <td>1022.0</td>\n",
       "      <td>6.128180</td>\n",
       "      <td>1.371391</td>\n",
       "      <td>1.0</td>\n",
       "      <td>5.00</td>\n",
       "      <td>6.0</td>\n",
       "      <td>7.0</td>\n",
       "      <td>10.0</td>\n",
       "    </tr>\n",
       "    <tr>\n",
       "      <th>OverallCond</th>\n",
       "      <td>1022.0</td>\n",
       "      <td>5.564579</td>\n",
       "      <td>1.110557</td>\n",
       "      <td>1.0</td>\n",
       "      <td>5.00</td>\n",
       "      <td>5.0</td>\n",
       "      <td>6.0</td>\n",
       "      <td>9.0</td>\n",
       "    </tr>\n",
       "    <tr>\n",
       "      <th>YearBuilt</th>\n",
       "      <td>1022.0</td>\n",
       "      <td>1970.995108</td>\n",
       "      <td>30.748816</td>\n",
       "      <td>1872.0</td>\n",
       "      <td>1953.00</td>\n",
       "      <td>1972.0</td>\n",
       "      <td>2001.0</td>\n",
       "      <td>2010.0</td>\n",
       "    </tr>\n",
       "    <tr>\n",
       "      <th>YearRemodAdd</th>\n",
       "      <td>1022.0</td>\n",
       "      <td>1984.757339</td>\n",
       "      <td>20.747109</td>\n",
       "      <td>1950.0</td>\n",
       "      <td>1966.00</td>\n",
       "      <td>1994.0</td>\n",
       "      <td>2004.0</td>\n",
       "      <td>2010.0</td>\n",
       "    </tr>\n",
       "    <tr>\n",
       "      <th>MasVnrArea</th>\n",
       "      <td>1019.0</td>\n",
       "      <td>105.261040</td>\n",
       "      <td>172.707705</td>\n",
       "      <td>0.0</td>\n",
       "      <td>0.00</td>\n",
       "      <td>0.0</td>\n",
       "      <td>170.0</td>\n",
       "      <td>1378.0</td>\n",
       "    </tr>\n",
       "    <tr>\n",
       "      <th>BsmtFinSF1</th>\n",
       "      <td>1022.0</td>\n",
       "      <td>446.176125</td>\n",
       "      <td>459.971174</td>\n",
       "      <td>0.0</td>\n",
       "      <td>0.00</td>\n",
       "      <td>390.0</td>\n",
       "      <td>724.0</td>\n",
       "      <td>5644.0</td>\n",
       "    </tr>\n",
       "    <tr>\n",
       "      <th>BsmtFinSF2</th>\n",
       "      <td>1022.0</td>\n",
       "      <td>42.368885</td>\n",
       "      <td>151.210531</td>\n",
       "      <td>0.0</td>\n",
       "      <td>0.00</td>\n",
       "      <td>0.0</td>\n",
       "      <td>0.0</td>\n",
       "      <td>1127.0</td>\n",
       "    </tr>\n",
       "  </tbody>\n",
       "</table>\n",
       "</div>"
      ],
      "text/plain": [
       "               count          mean           std     min      25%     50%  \\\n",
       "MSSubClass    1022.0     57.059687     42.669715    20.0    20.00    50.0   \n",
       "LotFrontage    832.0     70.375000     25.533607    21.0    59.00    70.0   \n",
       "LotArea       1022.0  10745.437378  11329.753423  1300.0  7564.25  9600.0   \n",
       "OverallQual   1022.0      6.128180      1.371391     1.0     5.00     6.0   \n",
       "OverallCond   1022.0      5.564579      1.110557     1.0     5.00     5.0   \n",
       "YearBuilt     1022.0   1970.995108     30.748816  1872.0  1953.00  1972.0   \n",
       "YearRemodAdd  1022.0   1984.757339     20.747109  1950.0  1966.00  1994.0   \n",
       "MasVnrArea    1019.0    105.261040    172.707705     0.0     0.00     0.0   \n",
       "BsmtFinSF1    1022.0    446.176125    459.971174     0.0     0.00   390.0   \n",
       "BsmtFinSF2    1022.0     42.368885    151.210531     0.0     0.00     0.0   \n",
       "\n",
       "                  75%       max  \n",
       "MSSubClass       70.0     190.0  \n",
       "LotFrontage      80.0     313.0  \n",
       "LotArea       11692.5  215245.0  \n",
       "OverallQual       7.0      10.0  \n",
       "OverallCond       6.0       9.0  \n",
       "YearBuilt      2001.0    2010.0  \n",
       "YearRemodAdd   2004.0    2010.0  \n",
       "MasVnrArea      170.0    1378.0  \n",
       "BsmtFinSF1      724.0    5644.0  \n",
       "BsmtFinSF2        0.0    1127.0  "
      ]
     },
     "execution_count": 8,
     "metadata": {},
     "output_type": "execute_result"
    }
   ],
   "source": [
    "X_train.describe().T.iloc[:10] # All numerical cols"
   ]
  },
  {
   "cell_type": "code",
   "execution_count": 10,
   "metadata": {
    "execution": {
     "iopub.execute_input": "2021-02-24T16:03:21.853131Z",
     "iopub.status.busy": "2021-02-24T16:03:21.849266Z",
     "iopub.status.idle": "2021-02-24T16:03:21.937048Z",
     "shell.execute_reply": "2021-02-24T16:03:21.936158Z"
    },
    "papermill": {
     "duration": 0.131759,
     "end_time": "2021-02-24T16:03:21.937217",
     "exception": false,
     "start_time": "2021-02-24T16:03:21.805458",
     "status": "completed"
    },
    "tags": []
   },
   "outputs": [
    {
     "data": {
      "text/html": [
       "<div>\n",
       "<style scoped>\n",
       "    .dataframe tbody tr th:only-of-type {\n",
       "        vertical-align: middle;\n",
       "    }\n",
       "\n",
       "    .dataframe tbody tr th {\n",
       "        vertical-align: top;\n",
       "    }\n",
       "\n",
       "    .dataframe thead th {\n",
       "        text-align: right;\n",
       "    }\n",
       "</style>\n",
       "<table border=\"1\" class=\"dataframe\">\n",
       "  <thead>\n",
       "    <tr style=\"text-align: right;\">\n",
       "      <th></th>\n",
       "      <th>count</th>\n",
       "      <th>unique</th>\n",
       "      <th>top</th>\n",
       "      <th>freq</th>\n",
       "      <th>mean</th>\n",
       "      <th>std</th>\n",
       "      <th>min</th>\n",
       "      <th>25%</th>\n",
       "      <th>50%</th>\n",
       "      <th>75%</th>\n",
       "      <th>max</th>\n",
       "    </tr>\n",
       "  </thead>\n",
       "  <tbody>\n",
       "    <tr>\n",
       "      <th>MSSubClass</th>\n",
       "      <td>1022.0</td>\n",
       "      <td>NaN</td>\n",
       "      <td>NaN</td>\n",
       "      <td>NaN</td>\n",
       "      <td>57.059687</td>\n",
       "      <td>42.669715</td>\n",
       "      <td>20.0</td>\n",
       "      <td>20.0</td>\n",
       "      <td>50.0</td>\n",
       "      <td>70.0</td>\n",
       "      <td>190.0</td>\n",
       "    </tr>\n",
       "    <tr>\n",
       "      <th>MSZoning</th>\n",
       "      <td>1022</td>\n",
       "      <td>5</td>\n",
       "      <td>RL</td>\n",
       "      <td>807</td>\n",
       "      <td>NaN</td>\n",
       "      <td>NaN</td>\n",
       "      <td>NaN</td>\n",
       "      <td>NaN</td>\n",
       "      <td>NaN</td>\n",
       "      <td>NaN</td>\n",
       "      <td>NaN</td>\n",
       "    </tr>\n",
       "    <tr>\n",
       "      <th>LotFrontage</th>\n",
       "      <td>832.0</td>\n",
       "      <td>NaN</td>\n",
       "      <td>NaN</td>\n",
       "      <td>NaN</td>\n",
       "      <td>70.375</td>\n",
       "      <td>25.533607</td>\n",
       "      <td>21.0</td>\n",
       "      <td>59.0</td>\n",
       "      <td>70.0</td>\n",
       "      <td>80.0</td>\n",
       "      <td>313.0</td>\n",
       "    </tr>\n",
       "    <tr>\n",
       "      <th>LotArea</th>\n",
       "      <td>1022.0</td>\n",
       "      <td>NaN</td>\n",
       "      <td>NaN</td>\n",
       "      <td>NaN</td>\n",
       "      <td>10745.437378</td>\n",
       "      <td>11329.753423</td>\n",
       "      <td>1300.0</td>\n",
       "      <td>7564.25</td>\n",
       "      <td>9600.0</td>\n",
       "      <td>11692.5</td>\n",
       "      <td>215245.0</td>\n",
       "    </tr>\n",
       "    <tr>\n",
       "      <th>Street</th>\n",
       "      <td>1022</td>\n",
       "      <td>2</td>\n",
       "      <td>Pave</td>\n",
       "      <td>1018</td>\n",
       "      <td>NaN</td>\n",
       "      <td>NaN</td>\n",
       "      <td>NaN</td>\n",
       "      <td>NaN</td>\n",
       "      <td>NaN</td>\n",
       "      <td>NaN</td>\n",
       "      <td>NaN</td>\n",
       "    </tr>\n",
       "    <tr>\n",
       "      <th>Alley</th>\n",
       "      <td>66</td>\n",
       "      <td>2</td>\n",
       "      <td>Grvl</td>\n",
       "      <td>42</td>\n",
       "      <td>NaN</td>\n",
       "      <td>NaN</td>\n",
       "      <td>NaN</td>\n",
       "      <td>NaN</td>\n",
       "      <td>NaN</td>\n",
       "      <td>NaN</td>\n",
       "      <td>NaN</td>\n",
       "    </tr>\n",
       "    <tr>\n",
       "      <th>LotShape</th>\n",
       "      <td>1022</td>\n",
       "      <td>4</td>\n",
       "      <td>Reg</td>\n",
       "      <td>638</td>\n",
       "      <td>NaN</td>\n",
       "      <td>NaN</td>\n",
       "      <td>NaN</td>\n",
       "      <td>NaN</td>\n",
       "      <td>NaN</td>\n",
       "      <td>NaN</td>\n",
       "      <td>NaN</td>\n",
       "    </tr>\n",
       "    <tr>\n",
       "      <th>LandContour</th>\n",
       "      <td>1022</td>\n",
       "      <td>4</td>\n",
       "      <td>Lvl</td>\n",
       "      <td>928</td>\n",
       "      <td>NaN</td>\n",
       "      <td>NaN</td>\n",
       "      <td>NaN</td>\n",
       "      <td>NaN</td>\n",
       "      <td>NaN</td>\n",
       "      <td>NaN</td>\n",
       "      <td>NaN</td>\n",
       "    </tr>\n",
       "    <tr>\n",
       "      <th>LotConfig</th>\n",
       "      <td>1022</td>\n",
       "      <td>5</td>\n",
       "      <td>Inside</td>\n",
       "      <td>710</td>\n",
       "      <td>NaN</td>\n",
       "      <td>NaN</td>\n",
       "      <td>NaN</td>\n",
       "      <td>NaN</td>\n",
       "      <td>NaN</td>\n",
       "      <td>NaN</td>\n",
       "      <td>NaN</td>\n",
       "    </tr>\n",
       "    <tr>\n",
       "      <th>LandSlope</th>\n",
       "      <td>1022</td>\n",
       "      <td>3</td>\n",
       "      <td>Gtl</td>\n",
       "      <td>965</td>\n",
       "      <td>NaN</td>\n",
       "      <td>NaN</td>\n",
       "      <td>NaN</td>\n",
       "      <td>NaN</td>\n",
       "      <td>NaN</td>\n",
       "      <td>NaN</td>\n",
       "      <td>NaN</td>\n",
       "    </tr>\n",
       "  </tbody>\n",
       "</table>\n",
       "</div>"
      ],
      "text/plain": [
       "              count unique     top  freq          mean           std     min  \\\n",
       "MSSubClass   1022.0    NaN     NaN   NaN     57.059687     42.669715    20.0   \n",
       "MSZoning       1022      5      RL   807           NaN           NaN     NaN   \n",
       "LotFrontage   832.0    NaN     NaN   NaN        70.375     25.533607    21.0   \n",
       "LotArea      1022.0    NaN     NaN   NaN  10745.437378  11329.753423  1300.0   \n",
       "Street         1022      2    Pave  1018           NaN           NaN     NaN   \n",
       "Alley            66      2    Grvl    42           NaN           NaN     NaN   \n",
       "LotShape       1022      4     Reg   638           NaN           NaN     NaN   \n",
       "LandContour    1022      4     Lvl   928           NaN           NaN     NaN   \n",
       "LotConfig      1022      5  Inside   710           NaN           NaN     NaN   \n",
       "LandSlope      1022      3     Gtl   965           NaN           NaN     NaN   \n",
       "\n",
       "                 25%     50%      75%       max  \n",
       "MSSubClass      20.0    50.0     70.0     190.0  \n",
       "MSZoning         NaN     NaN      NaN       NaN  \n",
       "LotFrontage     59.0    70.0     80.0     313.0  \n",
       "LotArea      7564.25  9600.0  11692.5  215245.0  \n",
       "Street           NaN     NaN      NaN       NaN  \n",
       "Alley            NaN     NaN      NaN       NaN  \n",
       "LotShape         NaN     NaN      NaN       NaN  \n",
       "LandContour      NaN     NaN      NaN       NaN  \n",
       "LotConfig        NaN     NaN      NaN       NaN  \n",
       "LandSlope        NaN     NaN      NaN       NaN  "
      ]
     },
     "execution_count": 10,
     "metadata": {},
     "output_type": "execute_result"
    }
   ],
   "source": [
    "X_train.describe(include=\"all\").T.iloc[:10] # All object cols"
   ]
  },
  {
   "cell_type": "code",
   "execution_count": 11,
   "metadata": {
    "execution": {
     "iopub.execute_input": "2021-02-24T16:03:22.026433Z",
     "iopub.status.busy": "2021-02-24T16:03:22.025348Z",
     "iopub.status.idle": "2021-02-24T16:03:22.031673Z",
     "shell.execute_reply": "2021-02-24T16:03:22.032237Z"
    },
    "papermill": {
     "duration": 0.060311,
     "end_time": "2021-02-24T16:03:22.032462",
     "exception": false,
     "start_time": "2021-02-24T16:03:21.972151",
     "status": "completed"
    },
    "scrolled": true,
    "tags": []
   },
   "outputs": [
    {
     "data": {
      "text/plain": [
       "LotFrontage     190\n",
       "Alley           956\n",
       "MasVnrType        3\n",
       "MasVnrArea        3\n",
       "BsmtQual         26\n",
       "BsmtCond         26\n",
       "BsmtExposure     26\n",
       "BsmtFinType1     26\n",
       "BsmtFinType2     26\n",
       "FireplaceQu     487\n",
       "GarageType       54\n",
       "GarageYrBlt      54\n",
       "GarageFinish     54\n",
       "Fence           820\n",
       "dtype: int64"
      ]
     },
     "execution_count": 11,
     "metadata": {},
     "output_type": "execute_result"
    }
   ],
   "source": [
    "above_0_missing = X_train.isnull().sum() > 0\n",
    "\n",
    "X_train.isnull().sum()[above_0_missing]"
   ]
  },
  {
   "cell_type": "markdown",
   "metadata": {
    "papermill": {
     "duration": 0.034375,
     "end_time": "2021-02-24T16:03:22.103232",
     "exception": false,
     "start_time": "2021-02-24T16:03:22.068857",
     "status": "completed"
    },
    "tags": []
   },
   "source": [
    "19 features have NaNs. "
   ]
  },
  {
   "cell_type": "markdown",
   "metadata": {},
   "source": [
    "# SPLIT NUMERICAL AND CATEGORICAL COLUMNS"
   ]
  },
  {
   "cell_type": "code",
   "execution_count": 12,
   "metadata": {
    "execution": {
     "iopub.execute_input": "2021-02-24T16:03:22.181311Z",
     "iopub.status.busy": "2021-02-24T16:03:22.180421Z",
     "iopub.status.idle": "2021-02-24T16:03:22.185757Z",
     "shell.execute_reply": "2021-02-24T16:03:22.185181Z"
    },
    "papermill": {
     "duration": 0.047906,
     "end_time": "2021-02-24T16:03:22.185950",
     "exception": false,
     "start_time": "2021-02-24T16:03:22.138044",
     "status": "completed"
    },
    "tags": []
   },
   "outputs": [
    {
     "name": "stdout",
     "output_type": "stream",
     "text": [
      "There are 36 numerical features: \n",
      "\n",
      "['MSSubClass', 'LotFrontage', 'LotArea', 'OverallQual', 'OverallCond', 'YearBuilt', 'YearRemodAdd', 'MasVnrArea', 'BsmtFinSF1', 'BsmtFinSF2', 'BsmtUnfSF', 'TotalBsmtSF', '1stFlrSF', '2ndFlrSF', 'LowQualFinSF', 'GrLivArea', 'BsmtFullBath', 'BsmtHalfBath', 'FullBath', 'HalfBath', 'BedroomAbvGr', 'KitchenAbvGr', 'TotRmsAbvGrd', 'Fireplaces', 'GarageYrBlt', 'GarageCars', 'GarageArea', 'WoodDeckSF', 'OpenPorchSF', 'EnclosedPorch', '3SsnPorch', 'ScreenPorch', 'PoolArea', 'MiscVal', 'MoSold', 'YrSold']\n"
     ]
    }
   ],
   "source": [
    "numerical_features = X_train.select_dtypes(include='number').columns.tolist()\n",
    "\n",
    "print(f'There are {len(numerical_features)} numerical features:', '\\n')\n",
    "print(numerical_features)"
   ]
  },
  {
   "cell_type": "code",
   "execution_count": 13,
   "metadata": {
    "execution": {
     "iopub.execute_input": "2021-02-24T16:03:22.266649Z",
     "iopub.status.busy": "2021-02-24T16:03:22.265853Z",
     "iopub.status.idle": "2021-02-24T16:03:22.273383Z",
     "shell.execute_reply": "2021-02-24T16:03:22.272319Z"
    },
    "papermill": {
     "duration": 0.052549,
     "end_time": "2021-02-24T16:03:22.273676",
     "exception": false,
     "start_time": "2021-02-24T16:03:22.221127",
     "status": "completed"
    },
    "tags": []
   },
   "outputs": [
    {
     "name": "stdout",
     "output_type": "stream",
     "text": [
      "There are 24 categorical features: \n",
      "\n",
      "['MSZoning', 'Street', 'Alley', 'LotShape', 'LandContour', 'LotConfig', 'LandSlope', 'Neighborhood', 'BldgType', 'HouseStyle', 'MasVnrType', 'ExterQual', 'BsmtQual', 'BsmtCond', 'BsmtExposure', 'BsmtFinType1', 'BsmtFinType2', 'CentralAir', 'KitchenQual', 'FireplaceQu', 'GarageType', 'GarageFinish', 'PavedDrive', 'Fence']\n"
     ]
    }
   ],
   "source": [
    "categorical_features = X_train.select_dtypes(exclude='number').columns.tolist()\n",
    "\n",
    "print(f'There are {len(categorical_features)} categorical features:', '\\n')\n",
    "print(categorical_features)"
   ]
  },
  {
   "cell_type": "markdown",
   "metadata": {
    "papermill": {
     "duration": 0.04164,
     "end_time": "2021-02-24T16:03:22.356514",
     "exception": false,
     "start_time": "2021-02-24T16:03:22.314874",
     "status": "completed"
    },
    "tags": []
   },
   "source": [
    "Now, on to preprocessing. For numeric columns, we first fill the missing values with `SimpleImputer` using the mean and feature scale using `MinMaxScaler`. For categoricals, we will use `SimpleImputer` to fill the missing values with the mode of each column. Most importantly, we do all of these in a pipeline. Let's import everything:"
   ]
  },
  {
   "cell_type": "code",
   "execution_count": 14,
   "metadata": {
    "execution": {
     "iopub.execute_input": "2021-02-24T16:03:22.447671Z",
     "iopub.status.busy": "2021-02-24T16:03:22.446895Z",
     "iopub.status.idle": "2021-02-24T16:03:22.659489Z",
     "shell.execute_reply": "2021-02-24T16:03:22.658708Z"
    },
    "papermill": {
     "duration": 0.258735,
     "end_time": "2021-02-24T16:03:22.659665",
     "exception": false,
     "start_time": "2021-02-24T16:03:22.400930",
     "status": "completed"
    },
    "tags": []
   },
   "outputs": [],
   "source": [
    "from sklearn.impute import SimpleImputer\n",
    "from sklearn.preprocessing import OneHotEncoder, MinMaxScaler\n",
    "from sklearn.pipeline import Pipeline"
   ]
  },
  {
   "cell_type": "markdown",
   "metadata": {
    "papermill": {
     "duration": 0.035764,
     "end_time": "2021-02-24T16:03:22.731637",
     "exception": false,
     "start_time": "2021-02-24T16:03:22.695873",
     "status": "completed"
    },
    "tags": []
   },
   "source": [
    "We create two small pipelines for both numeric and categorical features:"
   ]
  },
  {
   "cell_type": "code",
   "execution_count": 15,
   "metadata": {
    "execution": {
     "iopub.execute_input": "2021-02-24T16:03:22.813818Z",
     "iopub.status.busy": "2021-02-24T16:03:22.812831Z",
     "iopub.status.idle": "2021-02-24T16:03:22.816453Z",
     "shell.execute_reply": "2021-02-24T16:03:22.815862Z"
    },
    "papermill": {
     "duration": 0.048863,
     "end_time": "2021-02-24T16:03:22.816641",
     "exception": false,
     "start_time": "2021-02-24T16:03:22.767778",
     "status": "completed"
    },
    "tags": []
   },
   "outputs": [],
   "source": [
    "numeric_pipeline = Pipeline(steps=[\n",
    "    ('impute', SimpleImputer(strategy='mean')),\n",
    "    ('scale', MinMaxScaler())\n",
    "])\n",
    "\n",
    "categorical_pipeline = Pipeline(steps=[\n",
    "    ('impute', SimpleImputer(strategy='most_frequent')),\n",
    "    ('one-hot', OneHotEncoder(handle_unknown='ignore',sparse=False))\n",
    "])"
   ]
  },
  {
   "cell_type": "markdown",
   "metadata": {
    "papermill": {
     "duration": 0.037201,
     "end_time": "2021-02-24T16:03:22.973713",
     "exception": false,
     "start_time": "2021-02-24T16:03:22.936512",
     "status": "completed"
    },
    "tags": []
   },
   "source": [
    "[`sklearn.pipeline.Pipeline`](https://scikit-learn.org/stable/modules/generated/sklearn.pipeline.Pipeline.html) class takes a tuple of transformers for its `steps` argument. Each tuple should have this pattern:"
   ]
  },
  {
   "cell_type": "markdown",
   "metadata": {
    "papermill": {
     "duration": 0.037604,
     "end_time": "2021-02-24T16:03:23.047990",
     "exception": false,
     "start_time": "2021-02-24T16:03:23.010386",
     "status": "completed"
    },
    "tags": []
   },
   "source": [
    "```\n",
    "('name_of_transformer', transformer)\n",
    "```"
   ]
  },
  {
   "cell_type": "markdown",
   "metadata": {
    "papermill": {
     "duration": 0.041784,
     "end_time": "2021-02-24T16:03:23.131070",
     "exception": false,
     "start_time": "2021-02-24T16:03:23.089286",
     "status": "completed"
    },
    "tags": []
   },
   "source": [
    "Then, each tuple is called a *step* containing a transformer like `SimpleImputer` and arbitrary name. Each step will be chained and applied to the passed DataFrame in the given order."
   ]
  },
  {
   "cell_type": "markdown",
   "metadata": {
    "papermill": {
     "duration": 0.04252,
     "end_time": "2021-02-24T16:03:23.214652",
     "exception": false,
     "start_time": "2021-02-24T16:03:23.172132",
     "status": "completed"
    },
    "tags": []
   },
   "source": [
    "But, these two pipelines are useless if we don't tell which columns they should be applied to. For that, we will use another transformer - `ColumnTransformer`."
   ]
  },
  {
   "cell_type": "markdown",
   "metadata": {
    "papermill": {
     "duration": 0.037531,
     "end_time": "2021-02-24T16:03:23.295093",
     "exception": false,
     "start_time": "2021-02-24T16:03:23.257562",
     "status": "completed"
    },
    "tags": []
   },
   "source": [
    "### Column Transformer"
   ]
  },
  {
   "cell_type": "markdown",
   "metadata": {
    "papermill": {
     "duration": 0.039139,
     "end_time": "2021-02-24T16:03:23.377695",
     "exception": false,
     "start_time": "2021-02-24T16:03:23.338556",
     "status": "completed"
    },
    "tags": []
   },
   "source": [
    "By default, all `Pipeline` objects have `fit` and `transform` methods which can be used to transform the input array like this:"
   ]
  },
  {
   "cell_type": "code",
   "execution_count": 16,
   "metadata": {
    "execution": {
     "iopub.execute_input": "2021-02-24T16:03:23.464908Z",
     "iopub.status.busy": "2021-02-24T16:03:23.464078Z",
     "iopub.status.idle": "2021-02-24T16:03:23.476942Z",
     "shell.execute_reply": "2021-02-24T16:03:23.476230Z"
    },
    "papermill": {
     "duration": 0.060601,
     "end_time": "2021-02-24T16:03:23.477100",
     "exception": false,
     "start_time": "2021-02-24T16:03:23.416499",
     "status": "completed"
    },
    "tags": []
   },
   "outputs": [
    {
     "data": {
      "text/plain": [
       "array([[0.        , 0.20205479, 0.0425343 , ..., 0.        , 0.36363636,\n",
       "        0.5       ],\n",
       "       [0.94117647, 0.04794521, 0.01110098, ..., 0.        , 0.36363636,\n",
       "        0.        ],\n",
       "       [0.23529412, 0.17465753, 0.03430788, ..., 0.        , 0.45454545,\n",
       "        1.        ],\n",
       "       ...,\n",
       "       [0.        , 0.13356164, 0.0321204 , ..., 0.        , 0.27272727,\n",
       "        0.        ],\n",
       "       [0.17647059, 0.11643836, 0.02964313, ..., 0.        , 0.45454545,\n",
       "        0.25      ],\n",
       "       [0.58823529, 0.10958904, 0.01114305, ..., 0.        , 0.45454545,\n",
       "        0.75      ]])"
      ]
     },
     "execution_count": 16,
     "metadata": {},
     "output_type": "execute_result"
    }
   ],
   "source": [
    "numeric_pipeline.fit_transform(X_train.select_dtypes(include='number'))"
   ]
  },
  {
   "cell_type": "markdown",
   "metadata": {
    "papermill": {
     "duration": 0.036257,
     "end_time": "2021-02-24T16:03:23.549599",
     "exception": false,
     "start_time": "2021-02-24T16:03:23.513342",
     "status": "completed"
    },
    "tags": []
   },
   "source": [
    "Above, we are using the new numeric preprocessor on `X_train` using `fit_transform`. We are specifying the columns with `select_dtypes`. But, using the pipelines in this way means we have to call each pipeline separately on selected columns which is not what we want. What we want is to have a single preprocessor that is able to perform both numeric and categorical transformations in a single line of code like this:"
   ]
  },
  {
   "cell_type": "markdown",
   "metadata": {
    "papermill": {
     "duration": 0.036821,
     "end_time": "2021-02-24T16:03:23.622884",
     "exception": false,
     "start_time": "2021-02-24T16:03:23.586063",
     "status": "completed"
    },
    "tags": []
   },
   "source": [
    "```python\n",
    "full_processor.fit_transform(X_train)\n",
    "```"
   ]
  },
  {
   "cell_type": "markdown",
   "metadata": {
    "papermill": {
     "duration": 0.037924,
     "end_time": "2021-02-24T16:03:23.697210",
     "exception": false,
     "start_time": "2021-02-24T16:03:23.659286",
     "status": "completed"
    },
    "tags": []
   },
   "source": [
    "To achieve this, we will use `ColumnTransformer` class:"
   ]
  },
  {
   "cell_type": "code",
   "execution_count": 17,
   "metadata": {
    "execution": {
     "iopub.execute_input": "2021-02-24T16:03:23.777551Z",
     "iopub.status.busy": "2021-02-24T16:03:23.776821Z",
     "iopub.status.idle": "2021-02-24T16:03:23.789270Z",
     "shell.execute_reply": "2021-02-24T16:03:23.788416Z"
    },
    "papermill": {
     "duration": 0.055058,
     "end_time": "2021-02-24T16:03:23.789428",
     "exception": false,
     "start_time": "2021-02-24T16:03:23.734370",
     "status": "completed"
    },
    "tags": []
   },
   "outputs": [],
   "source": [
    "from sklearn.compose import ColumnTransformer\n",
    "\n",
    "full_processor = ColumnTransformer(\n",
    "        transformers=[('number', numeric_pipeline, numerical_features),\n",
    "                     ('category', categorical_pipeline, categorical_features)]\n",
    ")"
   ]
  },
  {
   "cell_type": "markdown",
   "metadata": {
    "papermill": {
     "duration": 0.037023,
     "end_time": "2021-02-24T16:03:23.935860",
     "exception": false,
     "start_time": "2021-02-24T16:03:23.898837",
     "status": "completed"
    },
    "tags": []
   },
   "source": [
    "Similar to `Pipeline` class, `ColumnTransformer` takes a tuple of transformers. Each tuple should contain an arbitrary step name, the transformer itself and the list of column names that the transformer should be applied to. Here, we are creating a column transformer with 2 steps using both of our numeric and categorical preprocessing pipelines. Now, we can use it to fully transform the `X_train`:"
   ]
  },
  {
   "cell_type": "code",
   "execution_count": 18,
   "metadata": {
    "execution": {
     "iopub.execute_input": "2021-02-24T16:03:24.023204Z",
     "iopub.status.busy": "2021-02-24T16:03:24.022470Z",
     "iopub.status.idle": "2021-02-24T16:03:24.065970Z",
     "shell.execute_reply": "2021-02-24T16:03:24.066540Z"
    },
    "papermill": {
     "duration": 0.094075,
     "end_time": "2021-02-24T16:03:24.066826",
     "exception": false,
     "start_time": "2021-02-24T16:03:23.972751",
     "status": "completed"
    },
    "tags": []
   },
   "outputs": [
    {
     "data": {
      "text/plain": [
       "array([[0.        , 0.20205479, 0.0425343 , ..., 0.        , 1.        ,\n",
       "        0.        ],\n",
       "       [0.94117647, 0.04794521, 0.01110098, ..., 0.        , 1.        ,\n",
       "        0.        ],\n",
       "       [0.23529412, 0.17465753, 0.03430788, ..., 0.        , 1.        ,\n",
       "        0.        ],\n",
       "       ...,\n",
       "       [0.        , 0.13356164, 0.0321204 , ..., 0.        , 1.        ,\n",
       "        0.        ],\n",
       "       [0.17647059, 0.11643836, 0.02964313, ..., 0.        , 0.        ,\n",
       "        0.        ],\n",
       "       [0.58823529, 0.10958904, 0.01114305, ..., 0.        , 1.        ,\n",
       "        0.        ]])"
      ]
     },
     "execution_count": 18,
     "metadata": {},
     "output_type": "execute_result"
    }
   ],
   "source": [
    "full_processor.fit_transform(X_train)"
   ]
  },
  {
   "cell_type": "markdown",
   "metadata": {
    "papermill": {
     "duration": 0.042076,
     "end_time": "2021-02-24T16:03:24.234313",
     "exception": false,
     "start_time": "2021-02-24T16:03:24.192237",
     "status": "completed"
    },
    "tags": []
   },
   "source": [
    "### Final Pipeline With an Estimator"
   ]
  },
  {
   "cell_type": "markdown",
   "metadata": {
    "papermill": {
     "duration": 0.036982,
     "end_time": "2021-02-24T16:03:24.311409",
     "exception": false,
     "start_time": "2021-02-24T16:03:24.274427",
     "status": "completed"
    },
    "tags": []
   },
   "source": [
    "Adding an estimator (model) to a pipeline is as easy as creating a new pipeline which contains the above column transformer and the model itself. Let's import and instantiate `LassoRegression` and add it to a new pipeline with the `full_processor`:"
   ]
  },
  {
   "cell_type": "code",
   "execution_count": 17,
   "metadata": {
    "execution": {
     "iopub.execute_input": "2021-02-24T16:03:24.392483Z",
     "iopub.status.busy": "2021-02-24T16:03:24.391771Z",
     "iopub.status.idle": "2021-02-24T16:03:24.394935Z",
     "shell.execute_reply": "2021-02-24T16:03:24.395446Z"
    },
    "papermill": {
     "duration": 0.047432,
     "end_time": "2021-02-24T16:03:24.395700",
     "exception": false,
     "start_time": "2021-02-24T16:03:24.348268",
     "status": "completed"
    },
    "tags": []
   },
   "outputs": [],
   "source": [
    "from sklearn.linear_model import Lasso\n",
    "from sklearn.metrics import mean_absolute_error\n",
    "\n",
    "lasso = Lasso(alpha=0.1)\n",
    "\n",
    "lasso_pipeline = Pipeline(steps=[\n",
    "    ('preprocess', full_processor),\n",
    "    ('model', lasso)\n",
    "])"
   ]
  },
  {
   "cell_type": "markdown",
   "metadata": {
    "papermill": {
     "duration": 0.036849,
     "end_time": "2021-02-24T16:03:24.547557",
     "exception": false,
     "start_time": "2021-02-24T16:03:24.510708",
     "status": "completed"
    },
    "tags": []
   },
   "source": [
    "That's it! We can now call `lasso_pipeline` just like we call any other model. When we call `.fit`, the pipeline applies all transformations before fitting an estimator:"
   ]
  },
  {
   "cell_type": "code",
   "execution_count": 18,
   "metadata": {
    "execution": {
     "iopub.execute_input": "2021-02-24T16:03:24.626201Z",
     "iopub.status.busy": "2021-02-24T16:03:24.625442Z",
     "iopub.status.idle": "2021-02-24T16:03:24.931698Z",
     "shell.execute_reply": "2021-02-24T16:03:24.932724Z"
    },
    "papermill": {
     "duration": 0.348335,
     "end_time": "2021-02-24T16:03:24.933064",
     "exception": false,
     "start_time": "2021-02-24T16:03:24.584729",
     "status": "completed"
    },
    "tags": []
   },
   "outputs": [],
   "source": [
    "_ = lasso_pipeline.fit(X_train, y_train)"
   ]
  },
  {
   "cell_type": "markdown",
   "metadata": {
    "papermill": {
     "duration": 0.059769,
     "end_time": "2021-02-24T16:03:25.061276",
     "exception": false,
     "start_time": "2021-02-24T16:03:25.001507",
     "status": "completed"
    },
    "tags": []
   },
   "source": [
    "Let's evaluate our base model on the validation set (Remember, we have a separate testing set which we haven't touched so far):"
   ]
  },
  {
   "cell_type": "code",
   "execution_count": 19,
   "metadata": {
    "execution": {
     "iopub.execute_input": "2021-02-24T16:03:25.150355Z",
     "iopub.status.busy": "2021-02-24T16:03:25.149630Z",
     "iopub.status.idle": "2021-02-24T16:03:25.173350Z",
     "shell.execute_reply": "2021-02-24T16:03:25.172632Z"
    },
    "papermill": {
     "duration": 0.073609,
     "end_time": "2021-02-24T16:03:25.173602",
     "exception": false,
     "start_time": "2021-02-24T16:03:25.099993",
     "status": "completed"
    },
    "tags": []
   },
   "outputs": [
    {
     "data": {
      "text/plain": [
       "20699.227383783924"
      ]
     },
     "execution_count": 19,
     "metadata": {},
     "output_type": "execute_result"
    }
   ],
   "source": [
    "preds = lasso_pipeline.predict(X_valid)\n",
    "mean_absolute_error(y_valid, preds)"
   ]
  },
  {
   "cell_type": "markdown",
   "metadata": {
    "papermill": {
     "duration": 0.038875,
     "end_time": "2021-02-24T16:03:25.371282",
     "exception": false,
     "start_time": "2021-02-24T16:03:25.332407",
     "status": "completed"
    },
    "tags": []
   },
   "source": [
    "Great, our base pipeline works. Another great thing about pipelines is that they can be treated as any other model. In other words, we can plug it into anywhere where we would use Scikit-learn estimators. So, we will use the pipeline in a grid search to find the optimal hyperparameters in the next section."
   ]
  },
  {
   "cell_type": "markdown",
   "metadata": {
    "papermill": {
     "duration": 0.039415,
     "end_time": "2021-02-24T16:03:25.449076",
     "exception": false,
     "start_time": "2021-02-24T16:03:25.409661",
     "status": "completed"
    },
    "tags": []
   },
   "source": [
    "### Using Your Pipeline Everywhere"
   ]
  },
  {
   "cell_type": "markdown",
   "metadata": {
    "papermill": {
     "duration": 0.037991,
     "end_time": "2021-02-24T16:03:25.526732",
     "exception": false,
     "start_time": "2021-02-24T16:03:25.488741",
     "status": "completed"
    },
    "tags": []
   },
   "source": [
    "The main hyperparameter for `Lasso` is alpha which can range from 0 to infinity. For simplicity, we will only cross-validate on the values within 0 and 1 with steps of 0.05:"
   ]
  },
  {
   "cell_type": "code",
   "execution_count": 20,
   "metadata": {
    "execution": {
     "iopub.execute_input": "2021-02-24T16:03:25.615332Z",
     "iopub.status.busy": "2021-02-24T16:03:25.614640Z",
     "iopub.status.idle": "2021-02-24T16:04:16.835953Z",
     "shell.execute_reply": "2021-02-24T16:04:16.836843Z"
    },
    "papermill": {
     "duration": 51.272189,
     "end_time": "2021-02-24T16:04:16.837127",
     "exception": false,
     "start_time": "2021-02-24T16:03:25.564938",
     "status": "completed"
    },
    "tags": []
   },
   "outputs": [],
   "source": [
    "from sklearn.model_selection import GridSearchCV\n",
    "\n",
    "param_dict = {'model__alpha': np.arange(0, 1, 0.05)}\n",
    "\n",
    "search = GridSearchCV(lasso_pipeline, param_dict, \n",
    "                      cv=10, \n",
    "                      scoring='neg_mean_absolute_error',\n",
    "                      n_jobs=-1)\n",
    "\n",
    "_ = search.fit(X_train, y_train)"
   ]
  },
  {
   "cell_type": "markdown",
   "metadata": {
    "papermill": {
     "duration": 0.058115,
     "end_time": "2021-02-24T16:04:16.964702",
     "exception": false,
     "start_time": "2021-02-24T16:04:16.906587",
     "status": "completed"
    },
    "tags": []
   },
   "source": [
    "Now, we can get the best score and parameters for `Lasso`:"
   ]
  },
  {
   "cell_type": "code",
   "execution_count": 21,
   "metadata": {
    "execution": {
     "iopub.execute_input": "2021-02-24T16:04:17.047237Z",
     "iopub.status.busy": "2021-02-24T16:04:17.046474Z",
     "iopub.status.idle": "2021-02-24T16:04:17.049460Z",
     "shell.execute_reply": "2021-02-24T16:04:17.050009Z"
    },
    "papermill": {
     "duration": 0.047169,
     "end_time": "2021-02-24T16:04:17.050213",
     "exception": false,
     "start_time": "2021-02-24T16:04:17.003044",
     "status": "completed"
    },
    "tags": []
   },
   "outputs": [
    {
     "name": "stdout",
     "output_type": "stream",
     "text": [
      "Best score: 19890.264374381448\n"
     ]
    }
   ],
   "source": [
    "print('Best score:', abs(search.best_score_))"
   ]
  },
  {
   "cell_type": "code",
   "execution_count": 22,
   "metadata": {
    "execution": {
     "iopub.execute_input": "2021-02-24T16:04:17.138499Z",
     "iopub.status.busy": "2021-02-24T16:04:17.137692Z",
     "iopub.status.idle": "2021-02-24T16:04:17.141343Z",
     "shell.execute_reply": "2021-02-24T16:04:17.140665Z"
    },
    "papermill": {
     "duration": 0.049777,
     "end_time": "2021-02-24T16:04:17.141513",
     "exception": false,
     "start_time": "2021-02-24T16:04:17.091736",
     "status": "completed"
    },
    "tags": []
   },
   "outputs": [
    {
     "name": "stdout",
     "output_type": "stream",
     "text": [
      "Best alpha: {'model__alpha': 0.9500000000000001}\n"
     ]
    }
   ],
   "source": [
    "print('Best alpha:', search.best_params_)"
   ]
  },
  {
   "cell_type": "markdown",
   "metadata": {
    "papermill": {
     "duration": 0.041072,
     "end_time": "2021-02-24T16:04:17.225380",
     "exception": false,
     "start_time": "2021-02-24T16:04:17.184308",
     "status": "completed"
    },
    "tags": []
   },
   "source": [
    "As you can see, best `alpha` is 0.95 which is the very end of our given interval, i. e. \\[0, 1) with a step of 0.05. We need to search again in case the best parameter lies in a bigger interval:"
   ]
  },
  {
   "cell_type": "code",
   "execution_count": 23,
   "metadata": {
    "execution": {
     "iopub.execute_input": "2021-02-24T16:04:17.321240Z",
     "iopub.status.busy": "2021-02-24T16:04:17.317978Z",
     "iopub.status.idle": "2021-02-24T16:05:23.393977Z",
     "shell.execute_reply": "2021-02-24T16:05:23.395663Z"
    },
    "papermill": {
     "duration": 66.128243,
     "end_time": "2021-02-24T16:05:23.396144",
     "exception": false,
     "start_time": "2021-02-24T16:04:17.267901",
     "status": "completed"
    },
    "tags": []
   },
   "outputs": [],
   "source": [
    "param_dict = {'model__alpha': np.arange(1, 200, 5)}\n",
    "\n",
    "search = GridSearchCV(lasso_pipeline, param_dict, \n",
    "                      cv=10, \n",
    "                      scoring='neg_mean_absolute_error',\n",
    "                      n_jobs=-1)\n",
    "\n",
    "_ = search.fit(X_train, y_train)"
   ]
  },
  {
   "cell_type": "code",
   "execution_count": 24,
   "metadata": {
    "execution": {
     "iopub.execute_input": "2021-02-24T16:05:23.544250Z",
     "iopub.status.busy": "2021-02-24T16:05:23.543457Z",
     "iopub.status.idle": "2021-02-24T16:05:23.549915Z",
     "shell.execute_reply": "2021-02-24T16:05:23.548866Z"
    },
    "papermill": {
     "duration": 0.07147,
     "end_time": "2021-02-24T16:05:23.550117",
     "exception": false,
     "start_time": "2021-02-24T16:05:23.478647",
     "status": "completed"
    },
    "tags": []
   },
   "outputs": [
    {
     "name": "stdout",
     "output_type": "stream",
     "text": [
      "Best score: 18768.49506250806\n"
     ]
    }
   ],
   "source": [
    "print('Best score:', abs(search.best_score_))"
   ]
  },
  {
   "cell_type": "code",
   "execution_count": 25,
   "metadata": {
    "execution": {
     "iopub.execute_input": "2021-02-24T16:05:23.644661Z",
     "iopub.status.busy": "2021-02-24T16:05:23.642779Z",
     "iopub.status.idle": "2021-02-24T16:05:23.650144Z",
     "shell.execute_reply": "2021-02-24T16:05:23.649484Z"
    },
    "papermill": {
     "duration": 0.057464,
     "end_time": "2021-02-24T16:05:23.650314",
     "exception": false,
     "start_time": "2021-02-24T16:05:23.592850",
     "status": "completed"
    },
    "tags": []
   },
   "outputs": [
    {
     "name": "stdout",
     "output_type": "stream",
     "text": [
      "Best alpha: {'model__alpha': 106}\n"
     ]
    }
   ],
   "source": [
    "print('Best alpha:', search.best_params_)"
   ]
  },
  {
   "cell_type": "markdown",
   "metadata": {
    "papermill": {
     "duration": 0.041157,
     "end_time": "2021-02-24T16:05:23.737152",
     "exception": false,
     "start_time": "2021-02-24T16:05:23.695995",
     "status": "completed"
    },
    "tags": []
   },
   "source": [
    "With best hyperparameters, we get a significant drop in MAE (which is good). Let's redefine our pipeline with `Lasso(alpha=Best alpha)`:"
   ]
  },
  {
   "cell_type": "code",
   "execution_count": 26,
   "metadata": {
    "execution": {
     "iopub.execute_input": "2021-02-24T16:05:23.834633Z",
     "iopub.status.busy": "2021-02-24T16:05:23.833906Z",
     "iopub.status.idle": "2021-02-24T16:05:23.838286Z",
     "shell.execute_reply": "2021-02-24T16:05:23.838977Z"
    },
    "papermill": {
     "duration": 0.053937,
     "end_time": "2021-02-24T16:05:23.839165",
     "exception": false,
     "start_time": "2021-02-24T16:05:23.785228",
     "status": "completed"
    },
    "tags": []
   },
   "outputs": [],
   "source": [
    "lasso = Lasso(alpha=101)\n",
    "\n",
    "final_lasso_pipe = Pipeline(steps=[\n",
    "    ('preprocess', full_processor),\n",
    "    ('model', lasso)\n",
    "])"
   ]
  },
  {
   "cell_type": "code",
   "execution_count": null,
   "metadata": {},
   "outputs": [],
   "source": []
  }
 ],
 "metadata": {
  "kernelspec": {
   "display_name": "Python 3",
   "language": "python",
   "name": "python3"
  },
  "language_info": {
   "codemirror_mode": {
    "name": "ipython",
    "version": 3
   },
   "file_extension": ".py",
   "mimetype": "text/x-python",
   "name": "python",
   "nbconvert_exporter": "python",
   "pygments_lexer": "ipython3",
   "version": "3.9.15"
  },
  "papermill": {
   "default_parameters": {},
   "duration": 132.984522,
   "end_time": "2021-02-24T16:05:25.218286",
   "environment_variables": {},
   "exception": null,
   "input_path": "__notebook__.ipynb",
   "output_path": "__notebook__.ipynb",
   "parameters": {},
   "start_time": "2021-02-24T16:03:12.233764",
   "version": "2.2.2"
  },
  "vscode": {
   "interpreter": {
    "hash": "2ad80127e814209d9578ab6188c04c59d123574a2b99f4136493746111eb2983"
   }
  }
 },
 "nbformat": 4,
 "nbformat_minor": 4
}
