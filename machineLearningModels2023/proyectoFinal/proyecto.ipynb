{
 "cells": [
  {
   "cell_type": "code",
   "execution_count": 13,
   "metadata": {},
   "outputs": [],
   "source": [
    "import pandas as pd"
   ]
  },
  {
   "cell_type": "code",
   "execution_count": 19,
   "metadata": {},
   "outputs": [],
   "source": [
    "df = pd.read_csv('Spotify_Youtube.csv')"
   ]
  },
  {
   "cell_type": "code",
   "execution_count": 15,
   "metadata": {},
   "outputs": [
    {
     "data": {
      "text/plain": [
       "Index(['Unnamed: 0', 'Artist', 'Url_spotify', 'Track', 'Album', 'Album_type',\n",
       "       'Uri', 'Danceability', 'Energy', 'Key', 'Loudness', 'Speechiness',\n",
       "       'Acousticness', 'Instrumentalness', 'Liveness', 'Valence', 'Tempo',\n",
       "       'Duration_ms', 'Url_youtube', 'Title', 'Channel', 'Views', 'Likes',\n",
       "       'Comments', 'Description', 'Licensed', 'official_video', 'Stream'],\n",
       "      dtype='object')"
      ]
     },
     "execution_count": 15,
     "metadata": {},
     "output_type": "execute_result"
    }
   ],
   "source": [
    "df.columns"
   ]
  },
  {
   "cell_type": "code",
   "execution_count": 16,
   "metadata": {},
   "outputs": [],
   "source": [
    "df = df.drop(columns=[\n",
    "    'Unnamed: 0', \n",
    "    'Artist', \n",
    "    'Url_spotify', \n",
    "    'Track', \n",
    "    'Album', \n",
    "    'Album_type',\n",
    "    'Uri',\n",
    "    'Url_youtube', \n",
    "    'Title', \n",
    "    'Channel', \n",
    "    'Views', \n",
    "    'Likes',\n",
    "    'Comments', \n",
    "    'Description',\n",
    "    'Licensed', \n",
    "    'official_video'])\n"
   ]
  },
  {
   "cell_type": "code",
   "execution_count": 17,
   "metadata": {},
   "outputs": [
    {
     "data": {
      "text/html": [
       "<div>\n",
       "<style scoped>\n",
       "    .dataframe tbody tr th:only-of-type {\n",
       "        vertical-align: middle;\n",
       "    }\n",
       "\n",
       "    .dataframe tbody tr th {\n",
       "        vertical-align: top;\n",
       "    }\n",
       "\n",
       "    .dataframe thead th {\n",
       "        text-align: right;\n",
       "    }\n",
       "</style>\n",
       "<table border=\"1\" class=\"dataframe\">\n",
       "  <thead>\n",
       "    <tr style=\"text-align: right;\">\n",
       "      <th></th>\n",
       "      <th>Danceability</th>\n",
       "      <th>Energy</th>\n",
       "      <th>Key</th>\n",
       "      <th>Loudness</th>\n",
       "      <th>Speechiness</th>\n",
       "      <th>Acousticness</th>\n",
       "      <th>Instrumentalness</th>\n",
       "      <th>Liveness</th>\n",
       "      <th>Valence</th>\n",
       "      <th>Tempo</th>\n",
       "      <th>Duration_ms</th>\n",
       "      <th>Stream</th>\n",
       "    </tr>\n",
       "  </thead>\n",
       "  <tbody>\n",
       "    <tr>\n",
       "      <th>0</th>\n",
       "      <td>0.818</td>\n",
       "      <td>0.705</td>\n",
       "      <td>6.0</td>\n",
       "      <td>-6.679</td>\n",
       "      <td>0.1770</td>\n",
       "      <td>0.008360</td>\n",
       "      <td>0.002330</td>\n",
       "      <td>0.6130</td>\n",
       "      <td>0.772</td>\n",
       "      <td>138.559</td>\n",
       "      <td>222640.0</td>\n",
       "      <td>1.040235e+09</td>\n",
       "    </tr>\n",
       "    <tr>\n",
       "      <th>1</th>\n",
       "      <td>0.676</td>\n",
       "      <td>0.703</td>\n",
       "      <td>8.0</td>\n",
       "      <td>-5.815</td>\n",
       "      <td>0.0302</td>\n",
       "      <td>0.086900</td>\n",
       "      <td>0.000687</td>\n",
       "      <td>0.0463</td>\n",
       "      <td>0.852</td>\n",
       "      <td>92.761</td>\n",
       "      <td>200173.0</td>\n",
       "      <td>3.100837e+08</td>\n",
       "    </tr>\n",
       "    <tr>\n",
       "      <th>2</th>\n",
       "      <td>0.695</td>\n",
       "      <td>0.923</td>\n",
       "      <td>1.0</td>\n",
       "      <td>-3.930</td>\n",
       "      <td>0.0522</td>\n",
       "      <td>0.042500</td>\n",
       "      <td>0.046900</td>\n",
       "      <td>0.1160</td>\n",
       "      <td>0.551</td>\n",
       "      <td>108.014</td>\n",
       "      <td>215150.0</td>\n",
       "      <td>6.306347e+07</td>\n",
       "    </tr>\n",
       "    <tr>\n",
       "      <th>3</th>\n",
       "      <td>0.689</td>\n",
       "      <td>0.739</td>\n",
       "      <td>2.0</td>\n",
       "      <td>-5.810</td>\n",
       "      <td>0.0260</td>\n",
       "      <td>0.000015</td>\n",
       "      <td>0.509000</td>\n",
       "      <td>0.0640</td>\n",
       "      <td>0.578</td>\n",
       "      <td>120.423</td>\n",
       "      <td>233867.0</td>\n",
       "      <td>4.346636e+08</td>\n",
       "    </tr>\n",
       "    <tr>\n",
       "      <th>4</th>\n",
       "      <td>0.663</td>\n",
       "      <td>0.694</td>\n",
       "      <td>10.0</td>\n",
       "      <td>-8.627</td>\n",
       "      <td>0.1710</td>\n",
       "      <td>0.025300</td>\n",
       "      <td>0.000000</td>\n",
       "      <td>0.0698</td>\n",
       "      <td>0.525</td>\n",
       "      <td>167.953</td>\n",
       "      <td>340920.0</td>\n",
       "      <td>6.172597e+08</td>\n",
       "    </tr>\n",
       "  </tbody>\n",
       "</table>\n",
       "</div>"
      ],
      "text/plain": [
       "   Danceability  Energy   Key  Loudness  Speechiness  Acousticness  \\\n",
       "0         0.818   0.705   6.0    -6.679       0.1770      0.008360   \n",
       "1         0.676   0.703   8.0    -5.815       0.0302      0.086900   \n",
       "2         0.695   0.923   1.0    -3.930       0.0522      0.042500   \n",
       "3         0.689   0.739   2.0    -5.810       0.0260      0.000015   \n",
       "4         0.663   0.694  10.0    -8.627       0.1710      0.025300   \n",
       "\n",
       "   Instrumentalness  Liveness  Valence    Tempo  Duration_ms        Stream  \n",
       "0          0.002330    0.6130    0.772  138.559     222640.0  1.040235e+09  \n",
       "1          0.000687    0.0463    0.852   92.761     200173.0  3.100837e+08  \n",
       "2          0.046900    0.1160    0.551  108.014     215150.0  6.306347e+07  \n",
       "3          0.509000    0.0640    0.578  120.423     233867.0  4.346636e+08  \n",
       "4          0.000000    0.0698    0.525  167.953     340920.0  6.172597e+08  "
      ]
     },
     "execution_count": 17,
     "metadata": {},
     "output_type": "execute_result"
    }
   ],
   "source": [
    "df.head()"
   ]
  },
  {
   "cell_type": "code",
   "execution_count": 18,
   "metadata": {},
   "outputs": [
    {
     "data": {
      "text/plain": [
       "(20718, 12)"
      ]
     },
     "execution_count": 18,
     "metadata": {},
     "output_type": "execute_result"
    }
   ],
   "source": [
    "df.shape"
   ]
  }
 ],
 "metadata": {
  "kernelspec": {
   "display_name": "Python 3",
   "language": "python",
   "name": "python3"
  },
  "language_info": {
   "codemirror_mode": {
    "name": "ipython",
    "version": 3
   },
   "file_extension": ".py",
   "mimetype": "text/x-python",
   "name": "python",
   "nbconvert_exporter": "python",
   "pygments_lexer": "ipython3",
   "version": "3.9.15"
  },
  "orig_nbformat": 4
 },
 "nbformat": 4,
 "nbformat_minor": 2
}
