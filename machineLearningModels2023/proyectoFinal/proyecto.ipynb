{
 "cells": [
  {
   "attachments": {},
   "cell_type": "markdown",
   "metadata": {},
   "source": [
    "# Mario Enrique Pisquiy Gomez\n",
    "### Carné 20200399"
   ]
  },
  {
   "attachments": {},
   "cell_type": "markdown",
   "metadata": {},
   "source": [
    "## Importación de librerías"
   ]
  },
  {
   "cell_type": "code",
   "execution_count": 89,
   "metadata": {},
   "outputs": [],
   "source": [
    "from sklearn.model_selection import train_test_split\n",
    "from sklearn.ensemble import RandomForestRegressor\n",
    "from sklearn.neighbors import KNeighborsRegressor\n",
    "from sklearn.linear_model import LinearRegression\n",
    "from sklearn.model_selection import GridSearchCV\n",
    "from matplotlib.ticker import StrMethodFormatter\n",
    "from sklearn.preprocessing import StandardScaler\n",
    "from sklearn.preprocessing import OneHotEncoder\n",
    "from sklearn.tree import DecisionTreeRegressor\n",
    "from sklearn.ensemble import AdaBoostRegressor\n",
    "from sklearn.metrics import mean_squared_error\n",
    "from sklearn.ensemble import StackingRegressor\n",
    "from sklearn.compose import ColumnTransformer\n",
    "from sklearn.ensemble import BaggingRegressor\n",
    "from sklearn.impute import SimpleImputer\n",
    "from sklearn.pipeline import Pipeline\n",
    "from xgboost import XGBRegressor\n",
    "import matplotlib.pyplot as plt\n",
    "from sklearn.svm import SVR\n",
    "import seaborn as sns\n",
    "import pandas as pd\n",
    "import numpy as np\n",
    "%matplotlib inline"
   ]
  },
  {
   "attachments": {},
   "cell_type": "markdown",
   "metadata": {},
   "source": [
    "## Carga de la data"
   ]
  },
  {
   "cell_type": "code",
   "execution_count": 37,
   "metadata": {},
   "outputs": [],
   "source": [
    "df = pd.read_csv('Spotify_Youtube.csv')"
   ]
  },
  {
   "attachments": {},
   "cell_type": "markdown",
   "metadata": {},
   "source": [
    "## Exploración de la data"
   ]
  },
  {
   "cell_type": "code",
   "execution_count": 38,
   "metadata": {},
   "outputs": [
    {
     "data": {
      "text/plain": [
       "Index(['Unnamed: 0', 'Artist', 'Url_spotify', 'Track', 'Album', 'Album_type',\n",
       "       'Uri', 'Danceability', 'Energy', 'Key', 'Loudness', 'Speechiness',\n",
       "       'Acousticness', 'Instrumentalness', 'Liveness', 'Valence', 'Tempo',\n",
       "       'Duration_ms', 'Url_youtube', 'Title', 'Channel', 'Views', 'Likes',\n",
       "       'Comments', 'Description', 'Licensed', 'official_video', 'Stream'],\n",
       "      dtype='object')"
      ]
     },
     "execution_count": 38,
     "metadata": {},
     "output_type": "execute_result"
    }
   ],
   "source": [
    "df.columns"
   ]
  },
  {
   "cell_type": "code",
   "execution_count": 39,
   "metadata": {},
   "outputs": [],
   "source": [
    "df = df.drop(columns=[\n",
    "    'Unnamed: 0', \n",
    "    'Artist', \n",
    "    'Url_spotify', \n",
    "    'Track', \n",
    "    'Album', \n",
    "    'Album_type',\n",
    "    'Uri',\n",
    "    'Url_youtube', \n",
    "    'Title', \n",
    "    'Channel', \n",
    "    'Views', \n",
    "    'Likes',\n",
    "    'Comments', \n",
    "    'Description',\n",
    "    'Licensed', \n",
    "    'official_video'])\n"
   ]
  },
  {
   "cell_type": "code",
   "execution_count": 40,
   "metadata": {},
   "outputs": [
    {
     "data": {
      "text/html": [
       "<div>\n",
       "<style scoped>\n",
       "    .dataframe tbody tr th:only-of-type {\n",
       "        vertical-align: middle;\n",
       "    }\n",
       "\n",
       "    .dataframe tbody tr th {\n",
       "        vertical-align: top;\n",
       "    }\n",
       "\n",
       "    .dataframe thead th {\n",
       "        text-align: right;\n",
       "    }\n",
       "</style>\n",
       "<table border=\"1\" class=\"dataframe\">\n",
       "  <thead>\n",
       "    <tr style=\"text-align: right;\">\n",
       "      <th></th>\n",
       "      <th>Danceability</th>\n",
       "      <th>Energy</th>\n",
       "      <th>Key</th>\n",
       "      <th>Loudness</th>\n",
       "      <th>Speechiness</th>\n",
       "      <th>Acousticness</th>\n",
       "      <th>Instrumentalness</th>\n",
       "      <th>Liveness</th>\n",
       "      <th>Valence</th>\n",
       "      <th>Tempo</th>\n",
       "      <th>Duration_ms</th>\n",
       "      <th>Stream</th>\n",
       "    </tr>\n",
       "  </thead>\n",
       "  <tbody>\n",
       "    <tr>\n",
       "      <th>0</th>\n",
       "      <td>0.818</td>\n",
       "      <td>0.705</td>\n",
       "      <td>6.0</td>\n",
       "      <td>-6.679</td>\n",
       "      <td>0.1770</td>\n",
       "      <td>0.008360</td>\n",
       "      <td>0.002330</td>\n",
       "      <td>0.6130</td>\n",
       "      <td>0.772</td>\n",
       "      <td>138.559</td>\n",
       "      <td>222640.0</td>\n",
       "      <td>1.040235e+09</td>\n",
       "    </tr>\n",
       "    <tr>\n",
       "      <th>1</th>\n",
       "      <td>0.676</td>\n",
       "      <td>0.703</td>\n",
       "      <td>8.0</td>\n",
       "      <td>-5.815</td>\n",
       "      <td>0.0302</td>\n",
       "      <td>0.086900</td>\n",
       "      <td>0.000687</td>\n",
       "      <td>0.0463</td>\n",
       "      <td>0.852</td>\n",
       "      <td>92.761</td>\n",
       "      <td>200173.0</td>\n",
       "      <td>3.100837e+08</td>\n",
       "    </tr>\n",
       "    <tr>\n",
       "      <th>2</th>\n",
       "      <td>0.695</td>\n",
       "      <td>0.923</td>\n",
       "      <td>1.0</td>\n",
       "      <td>-3.930</td>\n",
       "      <td>0.0522</td>\n",
       "      <td>0.042500</td>\n",
       "      <td>0.046900</td>\n",
       "      <td>0.1160</td>\n",
       "      <td>0.551</td>\n",
       "      <td>108.014</td>\n",
       "      <td>215150.0</td>\n",
       "      <td>6.306347e+07</td>\n",
       "    </tr>\n",
       "    <tr>\n",
       "      <th>3</th>\n",
       "      <td>0.689</td>\n",
       "      <td>0.739</td>\n",
       "      <td>2.0</td>\n",
       "      <td>-5.810</td>\n",
       "      <td>0.0260</td>\n",
       "      <td>0.000015</td>\n",
       "      <td>0.509000</td>\n",
       "      <td>0.0640</td>\n",
       "      <td>0.578</td>\n",
       "      <td>120.423</td>\n",
       "      <td>233867.0</td>\n",
       "      <td>4.346636e+08</td>\n",
       "    </tr>\n",
       "    <tr>\n",
       "      <th>4</th>\n",
       "      <td>0.663</td>\n",
       "      <td>0.694</td>\n",
       "      <td>10.0</td>\n",
       "      <td>-8.627</td>\n",
       "      <td>0.1710</td>\n",
       "      <td>0.025300</td>\n",
       "      <td>0.000000</td>\n",
       "      <td>0.0698</td>\n",
       "      <td>0.525</td>\n",
       "      <td>167.953</td>\n",
       "      <td>340920.0</td>\n",
       "      <td>6.172597e+08</td>\n",
       "    </tr>\n",
       "  </tbody>\n",
       "</table>\n",
       "</div>"
      ],
      "text/plain": [
       "   Danceability  Energy   Key  Loudness  Speechiness  Acousticness  \\\n",
       "0         0.818   0.705   6.0    -6.679       0.1770      0.008360   \n",
       "1         0.676   0.703   8.0    -5.815       0.0302      0.086900   \n",
       "2         0.695   0.923   1.0    -3.930       0.0522      0.042500   \n",
       "3         0.689   0.739   2.0    -5.810       0.0260      0.000015   \n",
       "4         0.663   0.694  10.0    -8.627       0.1710      0.025300   \n",
       "\n",
       "   Instrumentalness  Liveness  Valence    Tempo  Duration_ms        Stream  \n",
       "0          0.002330    0.6130    0.772  138.559     222640.0  1.040235e+09  \n",
       "1          0.000687    0.0463    0.852   92.761     200173.0  3.100837e+08  \n",
       "2          0.046900    0.1160    0.551  108.014     215150.0  6.306347e+07  \n",
       "3          0.509000    0.0640    0.578  120.423     233867.0  4.346636e+08  \n",
       "4          0.000000    0.0698    0.525  167.953     340920.0  6.172597e+08  "
      ]
     },
     "execution_count": 40,
     "metadata": {},
     "output_type": "execute_result"
    }
   ],
   "source": [
    "df.head()"
   ]
  },
  {
   "cell_type": "code",
   "execution_count": 41,
   "metadata": {},
   "outputs": [
    {
     "data": {
      "text/plain": [
       "(20718, 12)"
      ]
     },
     "execution_count": 41,
     "metadata": {},
     "output_type": "execute_result"
    }
   ],
   "source": [
    "df.shape"
   ]
  },
  {
   "cell_type": "code",
   "execution_count": 42,
   "metadata": {},
   "outputs": [
    {
     "data": {
      "text/plain": [
       "Danceability        float64\n",
       "Energy              float64\n",
       "Key                 float64\n",
       "Loudness            float64\n",
       "Speechiness         float64\n",
       "Acousticness        float64\n",
       "Instrumentalness    float64\n",
       "Liveness            float64\n",
       "Valence             float64\n",
       "Tempo               float64\n",
       "Duration_ms         float64\n",
       "Stream              float64\n",
       "dtype: object"
      ]
     },
     "execution_count": 42,
     "metadata": {},
     "output_type": "execute_result"
    }
   ],
   "source": [
    "df.dtypes"
   ]
  },
  {
   "cell_type": "code",
   "execution_count": 43,
   "metadata": {},
   "outputs": [
    {
     "data": {
      "text/plain": [
       "Danceability          2\n",
       "Energy                2\n",
       "Key                   2\n",
       "Loudness              2\n",
       "Speechiness           2\n",
       "Acousticness          2\n",
       "Instrumentalness      2\n",
       "Liveness              2\n",
       "Valence               2\n",
       "Tempo                 2\n",
       "Duration_ms           2\n",
       "Stream              576\n",
       "dtype: int64"
      ]
     },
     "execution_count": 43,
     "metadata": {},
     "output_type": "execute_result"
    }
   ],
   "source": [
    "df.isna().sum()"
   ]
  },
  {
   "cell_type": "code",
   "execution_count": 44,
   "metadata": {},
   "outputs": [
    {
     "data": {
      "text/plain": [
       "0.02780191138140747"
      ]
     },
     "execution_count": 44,
     "metadata": {},
     "output_type": "execute_result"
    }
   ],
   "source": [
    "dataNa = df.isna().sum()\n",
    "dataNa[11]/df.shape[0]"
   ]
  },
  {
   "cell_type": "code",
   "execution_count": 45,
   "metadata": {},
   "outputs": [],
   "source": [
    "# Porcentaje de la data que es NA, por ser un 2% del total de las observaciones, por ello decido eliminarla\n",
    "df = df.dropna()"
   ]
  },
  {
   "cell_type": "code",
   "execution_count": 46,
   "metadata": {},
   "outputs": [],
   "source": [
    "#Cambio la columna Stream a int porque el número de Streams debe ser un entero y para poder ver el número completo\n",
    "df['Stream'] = df['Stream'].astype('int')"
   ]
  },
  {
   "cell_type": "code",
   "execution_count": 58,
   "metadata": {},
   "outputs": [
    {
     "data": {
      "text/plain": [
       "array([[<AxesSubplot: title={'center': 'Danceability'}>,\n",
       "        <AxesSubplot: title={'center': 'Energy'}>,\n",
       "        <AxesSubplot: title={'center': 'Key'}>],\n",
       "       [<AxesSubplot: title={'center': 'Loudness'}>,\n",
       "        <AxesSubplot: title={'center': 'Speechiness'}>,\n",
       "        <AxesSubplot: title={'center': 'Acousticness'}>],\n",
       "       [<AxesSubplot: title={'center': 'Instrumentalness'}>,\n",
       "        <AxesSubplot: title={'center': 'Liveness'}>,\n",
       "        <AxesSubplot: title={'center': 'Valence'}>],\n",
       "       [<AxesSubplot: title={'center': 'Tempo'}>,\n",
       "        <AxesSubplot: title={'center': 'Duration_ms'}>,\n",
       "        <AxesSubplot: title={'center': 'Stream'}>]], dtype=object)"
      ]
     },
     "execution_count": 58,
     "metadata": {},
     "output_type": "execute_result"
    },
    {
     "data": {
      "image/png": "[encoded data removed]",
      "text/plain": [
       "<Figure size 640x480 with 12 Axes>"
      ]
     },
     "metadata": {},
     "output_type": "display_data"
    }
   ],
   "source": [
    "df.hist()"
   ]
  },
  {
   "cell_type": "code",
   "execution_count": 66,
   "metadata": {},
   "outputs": [
    {
     "data": {
      "text/plain": [
       "<AxesSubplot: >"
      ]
     },
     "execution_count": 66,
     "metadata": {},
     "output_type": "execute_result"
    },
    {
     "data": {
      "image/png": "[encoded data removed]",
      "text/plain": [
       "<Figure size 1100x900 with 2 Axes>"
      ]
     },
     "metadata": {},
     "output_type": "display_data"
    }
   ],
   "source": [
    "corr = df.corr()\n",
    "\n",
    "mask = np.triu(np.ones_like(corr, dtype=bool))\n",
    "\n",
    "f, ax = plt.subplots(figsize=(11, 9))\n",
    "\n",
    "cmap = sns.diverging_palette(230, 20, as_cmap=True)\n",
    "\n",
    "sns.heatmap(corr, mask=mask, cmap=cmap, vmax=.3, center=0,\n",
    "            square=True, linewidths=.5, cbar_kws={\"shrink\": .5})"
   ]
  },
  {
   "cell_type": "code",
   "execution_count": 67,
   "metadata": {},
   "outputs": [
    {
     "data": {
      "text/plain": [
       "<Figure size 400x400 with 0 Axes>"
      ]
     },
     "metadata": {},
     "output_type": "display_data"
    },
    {
     "data": {
      "image/png": "[encoded data removed]",
      "text/plain": [
       "<Figure size 500x500 with 1 Axes>"
      ]
     },
     "metadata": {},
     "output_type": "display_data"
    }
   ],
   "source": [
    "plt.figure(figsize=(4,4))\n",
    "sns.displot(data = df, x = 'Stream', kind='kde', fill=True)\n",
    "plt.show()"
   ]
  },
  {
   "attachments": {},
   "cell_type": "markdown",
   "metadata": {},
   "source": [
    "## Split Data"
   ]
  },
  {
   "cell_type": "code",
   "execution_count": 68,
   "metadata": {},
   "outputs": [],
   "source": [
    "y = df.Stream\n",
    "df = df.drop(columns=['Stream'])"
   ]
  },
  {
   "cell_type": "code",
   "execution_count": 72,
   "metadata": {},
   "outputs": [],
   "source": [
    "X_train, X_test, y_train, y_test = train_test_split(df, y, test_size=0.30, random_state=100)"
   ]
  },
  {
   "attachments": {},
   "cell_type": "markdown",
   "metadata": {},
   "source": [
    "## Procesamiento de la data"
   ]
  },
  {
   "cell_type": "code",
   "execution_count": 79,
   "metadata": {},
   "outputs": [],
   "source": [
    "num_pipeline = Pipeline([\n",
    "                            ('simple_imputer', SimpleImputer(missing_values=np.nan, strategy='mean')),\n",
    "                            ('std_scaler', StandardScaler())                            \n",
    "                        ])"
   ]
  },
  {
   "cell_type": "code",
   "execution_count": 80,
   "metadata": {},
   "outputs": [],
   "source": [
    "cat_pipeline = Pipeline([\n",
    "                        ('oh_enc', OneHotEncoder(drop='first')),\n",
    "                        ])"
   ]
  },
  {
   "cell_type": "code",
   "execution_count": 83,
   "metadata": {},
   "outputs": [],
   "source": [
    "num_attribs = df.select_dtypes(include='number').columns\n",
    "cat_attribs = df.select_dtypes(exclude='number').columns\n",
    "\n",
    "full_pipeline = ColumnTransformer([\n",
    "        (\"num\", num_pipeline, num_attribs),\n",
    "        (\"cat\", cat_pipeline, cat_attribs),\n",
    "    ])"
   ]
  },
  {
   "attachments": {},
   "cell_type": "markdown",
   "metadata": {},
   "source": [
    "## Modelo"
   ]
  },
  {
   "cell_type": "code",
   "execution_count": 86,
   "metadata": {},
   "outputs": [],
   "source": [
    "predictor=RandomForestRegressor()\n",
    "model_pip = Pipeline([('col_transform', full_pipeline),\n",
    "                      ('model', predictor)])"
   ]
  },
  {
   "cell_type": "code",
   "execution_count": null,
   "metadata": {},
   "outputs": [],
   "source": [
    "model = XGBRegressor"
   ]
  },
  {
   "cell_type": "code",
   "execution_count": 92,
   "metadata": {},
   "outputs": [],
   "source": [
    "params_model = [{'model': [XGBRegressor()],\n",
    "                 'model__n_estimators':[50,100,130,150,170,200],\n",
    "                 'model__max_depth': [1,3,5,7,10],\n",
    "                 'model__eta': [0.001, 0.01, 0.1]}\n",
    "]\n",
    "grid_model = GridSearchCV(model_pip,params_model,cv=5,scoring='neg_mean_absolute_error',n_jobs=-1)"
   ]
  },
  {
   "cell_type": "code",
   "execution_count": 93,
   "metadata": {},
   "outputs": [
    {
     "name": "stdout",
     "output_type": "stream",
     "text": [
      "Mejores modelo: {'model': XGBRegressor(base_score=None, booster=None, callbacks=None,\n",
      "             colsample_bylevel=None, colsample_bynode=None,\n",
      "             colsample_bytree=None, early_stopping_rounds=None,\n",
      "             enable_categorical=False, eta=0.01, eval_metric=None,\n",
      "             feature_types=None, gamma=None, gpu_id=None, grow_policy=None,\n",
      "             importance_type=None, interaction_constraints=None,\n",
      "             learning_rate=None, max_bin=None, max_cat_threshold=None,\n",
      "             max_cat_to_onehot=None, max_delta_step=None, max_depth=10,\n",
      "             max_leaves=None, min_child_weight=None, missing=nan,\n",
      "             monotone_constraints=None, n_estimators=50, n_jobs=None,\n",
      "             num_parallel_tree=None, predictor=None, ...), 'model__eta': 0.01, 'model__max_depth': 10, 'model__n_estimators': 50}\n"
     ]
    }
   ],
   "source": [
    "entrenador = grid_model.fit(X_train,y_train)\n",
    "print('Mejores modelo:', grid_model.best_params_)"
   ]
  },
  {
   "cell_type": "code",
   "execution_count": 94,
   "metadata": {},
   "outputs": [],
   "source": [
    "params_model = [{'model': [AdaBoostRegressor()],\n",
    "                 'model__n_estimators':[50,100,150,200],\n",
    "                 'model__learning_rate': [1,3,5],\n",
    "                 'model__loss': ['linear','square','exponential'],\n",
    "                 'model__random_state': [42]}\n",
    "]\n",
    "grid_model = GridSearchCV(model_pip,params_model,cv=5,scoring='neg_mean_absolute_error',n_jobs=-1)"
   ]
  },
  {
   "cell_type": "code",
   "execution_count": 95,
   "metadata": {},
   "outputs": [
    {
     "name": "stdout",
     "output_type": "stream",
     "text": [
      "Mejores modelo: {'model': AdaBoostRegressor(learning_rate=5, loss='exponential', n_estimators=200,\n",
      "                  random_state=42), 'model__learning_rate': 5, 'model__loss': 'exponential', 'model__n_estimators': 200, 'model__random_state': 42}\n"
     ]
    }
   ],
   "source": [
    "entrenador = grid_model.fit(X_train,y_train)\n",
    "print('Mejores modelo:', grid_model.best_params_)"
   ]
  },
  {
   "cell_type": "code",
   "execution_count": 96,
   "metadata": {},
   "outputs": [],
   "source": [
    "params_model = [{'model': [RandomForestRegressor()],\n",
    "                 'model__n_estimators':[30,50,100,150,200],\n",
    "                 'model__max_depth':[5,10,15,20],\n",
    "                 'model__random_state':[42],\n",
    "                 'model__n_jobs':[-1]}\n",
    "]\n",
    "grid_model = GridSearchCV(model_pip,params_model,cv=5,scoring='neg_mean_absolute_error',n_jobs=-1)"
   ]
  },
  {
   "cell_type": "code",
   "execution_count": 97,
   "metadata": {},
   "outputs": [
    {
     "name": "stdout",
     "output_type": "stream",
     "text": [
      "Mejores modelo: {'model': RandomForestRegressor(max_depth=20, n_estimators=200, n_jobs=-1,\n",
      "                      random_state=42), 'model__max_depth': 20, 'model__n_estimators': 200, 'model__n_jobs': -1, 'model__random_state': 42}\n"
     ]
    }
   ],
   "source": [
    "entrenador = grid_model.fit(X_train,y_train)\n",
    "print('Mejores modelo:', grid_model.best_params_)"
   ]
  },
  {
   "cell_type": "code",
   "execution_count": 98,
   "metadata": {},
   "outputs": [],
   "source": [
    "params_model = [{'model': [XGBRegressor()],\n",
    "                 'model__n_estimators':[50],\n",
    "                 'model__max_depth': [10],\n",
    "                 'model__eta': [0.01]},\n",
    "\n",
    "                {'model': [AdaBoostRegressor()],\n",
    "                 'model__n_estimators':[200],\n",
    "                 'model__learning_rate': [5],\n",
    "                 'model__loss': ['exponential'],\n",
    "                 'model__random_state': [42]},\n",
    "\n",
    "                {'model': [RandomForestRegressor()],\n",
    "                 'model__n_estimators':[200],\n",
    "                 'model__max_depth':[20],\n",
    "                 'model__random_state':[42],\n",
    "                 'model__n_jobs':[-1]}\n",
    "]\n",
    "grid_model = GridSearchCV(model_pip,params_model,cv=5,scoring='neg_mean_absolute_error',n_jobs=-1)"
   ]
  },
  {
   "cell_type": "code",
   "execution_count": 99,
   "metadata": {},
   "outputs": [
    {
     "name": "stdout",
     "output_type": "stream",
     "text": [
      "Mejores modelo: {'model': XGBRegressor(base_score=None, booster=None, callbacks=None,\n",
      "             colsample_bylevel=None, colsample_bynode=None,\n",
      "             colsample_bytree=None, early_stopping_rounds=None,\n",
      "             enable_categorical=False, eta=0.01, eval_metric=None,\n",
      "             feature_types=None, gamma=None, gpu_id=None, grow_policy=None,\n",
      "             importance_type=None, interaction_constraints=None,\n",
      "             learning_rate=None, max_bin=None, max_cat_threshold=None,\n",
      "             max_cat_to_onehot=None, max_delta_step=None, max_depth=10,\n",
      "             max_leaves=None, min_child_weight=None, missing=nan,\n",
      "             monotone_constraints=None, n_estimators=50, n_jobs=None,\n",
      "             num_parallel_tree=None, predictor=None, ...), 'model__eta': 0.01, 'model__max_depth': 10, 'model__n_estimators': 50}\n"
     ]
    }
   ],
   "source": [
    "entrenador = grid_model.fit(X_train,y_train)\n",
    "print('Mejores modelo:', grid_model.best_params_)"
   ]
  }
 ],
 "metadata": {
  "kernelspec": {
   "display_name": "Python 3",
   "language": "python",
   "name": "python3"
  },
  "language_info": {
   "codemirror_mode": {
    "name": "ipython",
    "version": 3
   },
   "file_extension": ".py",
   "mimetype": "text/x-python",
   "name": "python",
   "nbconvert_exporter": "python",
   "pygments_lexer": "ipython3",
   "version": "3.9.15"
  },
  "orig_nbformat": 4
 },
 "nbformat": 4,
 "nbformat_minor": 2
}
