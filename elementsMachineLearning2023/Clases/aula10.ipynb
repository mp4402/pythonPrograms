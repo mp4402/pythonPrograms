{
 "cells": [
  {
   "cell_type": "markdown",
   "id": "57a90ea1-3aff-40af-bc8a-fdc01da029a7",
   "metadata": {},
   "source": [
    "## *Elements of Machine Learning* 2023\n",
    "### <font size=3 color='gray'>Alan Reyes-Figueroa</font>"
   ]
  },
  {
   "cell_type": "markdown",
   "id": "80bdb610-bcc3-41fe-8056-233ed822eaa3",
   "metadata": {},
   "source": [
    "## Escalamiento Multidimensional"
   ]
  },
  {
   "cell_type": "code",
   "execution_count": 1,
   "id": "635f1e2c-f5c2-400d-b45b-fd4aa9bea6b6",
   "metadata": {},
   "outputs": [],
   "source": [
    "import numpy as np\n",
    "import matplotlib.pyplot as plt"
   ]
  },
  {
   "cell_type": "code",
   "execution_count": 2,
   "id": "8d43a626-a3e6-42cd-a773-614686027176",
   "metadata": {},
   "outputs": [],
   "source": [
    "#D = np.array([[0.,16,47,72,77,79], [16,0,37,57,65,66], [47,37,0,40,30,35], [72,57,40,0,31,23], [77,65,30,31,0,10], [79,66,35,23,10,0]])\n",
    "#D"
   ]
  },
  {
   "cell_type": "code",
   "execution_count": 3,
   "id": "5775b24e-2f51-4815-9de4-d6027023fcf3",
   "metadata": {},
   "outputs": [
    {
     "data": {
      "text/plain": [
       "['Boston',\n",
       " 'NY',\n",
       " 'DC',\n",
       " 'Miami',\n",
       " 'Chicago',\n",
       " 'Seattle',\n",
       " 'San Francisco',\n",
       " 'LA',\n",
       " 'Denver']"
      ]
     },
     "execution_count": 3,
     "metadata": {},
     "output_type": "execute_result"
    }
   ],
   "source": [
    "cities = ['Boston', 'NY', 'DC', 'Miami', 'Chicago', 'Seattle', 'San Francisco', 'LA', 'Denver']\n",
    "cities"
   ]
  },
  {
   "cell_type": "code",
   "execution_count": 4,
   "id": "4921ddb3-d05d-4b36-b94b-aaab2ee39945",
   "metadata": {},
   "outputs": [],
   "source": [
    "D2 = np.array([[0., 206, 429, 1504, 963, 2976, 3095, 2979, 1949],\n",
    "               [206, 0, 233, 1308, 802, 2815, 2934, 2786, 1771],\n",
    "               [429, 233, 0, 1075, 671, 2684, 2799, 2631, 1616],\n",
    "               [1504, 1308, 1075, 0, 1329, 3273, 3053, 2687, 2037],\n",
    "               [963, 802, 671, 1329, 0, 2013, 2142, 2054, 996],\n",
    "               [2976, 2815, 2684, 3273, 2013, 0, 808, 1131, 1307],\n",
    "               [3095, 2934, 2799, 3053, 2142, 808, 0, 379, 1235],\n",
    "               [2979, 2786, 2631, 2687, 2054, 1131, 379, 0, 1059],\n",
    "               [1949, 1771, 1616, 2037, 996, 1307, 1235, 1059, 0]])"
   ]
  },
  {
   "cell_type": "code",
   "execution_count": 5,
   "id": "2f6dee8e-de40-4f8f-8ad3-42734d1dc67c",
   "metadata": {},
   "outputs": [
    {
     "name": "stdout",
     "output_type": "stream",
     "text": [
      "[[   0.  206.  429. 1504.  963. 2976. 3095. 2979. 1949.]\n",
      " [ 206.    0.  233. 1308.  802. 2815. 2934. 2786. 1771.]\n",
      " [ 429.  233.    0. 1075.  671. 2684. 2799. 2631. 1616.]\n",
      " [1504. 1308. 1075.    0. 1329. 3273. 3053. 2687. 2037.]\n",
      " [ 963.  802.  671. 1329.    0. 2013. 2142. 2054.  996.]\n",
      " [2976. 2815. 2684. 3273. 2013.    0.  808. 1131. 1307.]\n",
      " [3095. 2934. 2799. 3053. 2142.  808.    0.  379. 1235.]\n",
      " [2979. 2786. 2631. 2687. 2054. 1131.  379.    0. 1059.]\n",
      " [1949. 1771. 1616. 2037.  996. 1307. 1235. 1059.    0.]]\n"
     ]
    }
   ],
   "source": [
    "print(D2)"
   ]
  },
  {
   "cell_type": "code",
   "execution_count": 6,
   "id": "83d018aa-46d3-41e3-b0cf-a2b595a652ff",
   "metadata": {},
   "outputs": [
    {
     "data": {
      "text/plain": [
       "9"
      ]
     },
     "execution_count": 6,
     "metadata": {},
     "output_type": "execute_result"
    }
   ],
   "source": [
    "n = D2.shape[0]\n",
    "n"
   ]
  },
  {
   "cell_type": "code",
   "execution_count": 7,
   "id": "21fb1e06-bd46-4d3c-b1c7-22cf15341143",
   "metadata": {},
   "outputs": [
    {
     "name": "stdout",
     "output_type": "stream",
     "text": [
      "[[ 0.889 -0.111 -0.111 -0.111 -0.111 -0.111 -0.111 -0.111 -0.111]\n",
      " [-0.111  0.889 -0.111 -0.111 -0.111 -0.111 -0.111 -0.111 -0.111]\n",
      " [-0.111 -0.111  0.889 -0.111 -0.111 -0.111 -0.111 -0.111 -0.111]\n",
      " [-0.111 -0.111 -0.111  0.889 -0.111 -0.111 -0.111 -0.111 -0.111]\n",
      " [-0.111 -0.111 -0.111 -0.111  0.889 -0.111 -0.111 -0.111 -0.111]\n",
      " [-0.111 -0.111 -0.111 -0.111 -0.111  0.889 -0.111 -0.111 -0.111]\n",
      " [-0.111 -0.111 -0.111 -0.111 -0.111 -0.111  0.889 -0.111 -0.111]\n",
      " [-0.111 -0.111 -0.111 -0.111 -0.111 -0.111 -0.111  0.889 -0.111]\n",
      " [-0.111 -0.111 -0.111 -0.111 -0.111 -0.111 -0.111 -0.111  0.889]]\n"
     ]
    }
   ],
   "source": [
    "# Construyendo la matriz de proyeccion J\n",
    "\n",
    "J = np.eye(n) - (1./n)*np.ones((n,n))\n",
    "print(np.round(J,3))"
   ]
  },
  {
   "cell_type": "code",
   "execution_count": 8,
   "id": "737a4be3-5928-4b95-8e16-6caf3a6068f0",
   "metadata": {},
   "outputs": [],
   "source": [
    "# Calculando la matriz de Gram\n",
    "G = -0.5* J @ D2 @ J"
   ]
  },
  {
   "cell_type": "code",
   "execution_count": 9,
   "id": "45812461-1147-4d0f-b5dd-e7e847720705",
   "metadata": {},
   "outputs": [
    {
     "name": "stdout",
     "output_type": "stream",
     "text": [
      "[[ 780.    607.78  456.44  148.28  124.56 -546.56 -637.28 -620.33 -312.89]\n",
      " [ 607.78  641.56  485.22  177.06  135.83 -535.28 -626.   -593.06 -293.11]\n",
      " [ 456.44  485.22  561.89  253.72  161.5  -509.61 -598.33 -555.39 -255.44]\n",
      " [ 148.28  177.06  253.72 1020.56   61.83 -574.78 -496.   -354.06 -236.61]\n",
      " [ 124.56  135.83  161.5    61.83  432.11 -239.   -334.72 -331.78  -10.33]\n",
      " [-546.56 -535.28 -509.61 -574.78 -239.   1102.89  667.67  465.11  169.56]\n",
      " [-637.28 -626.   -598.33 -496.   -334.72  667.67 1040.44  809.89  174.33]\n",
      " [-620.33 -593.06 -555.39 -354.06 -331.78  465.11  809.89  958.33  221.28]\n",
      " [-312.89 -293.11 -255.44 -236.61  -10.33  169.56  174.33  221.28  543.22]]\n"
     ]
    }
   ],
   "source": [
    "print(np.round(G,2))"
   ]
  },
  {
   "cell_type": "markdown",
   "id": "a7462eb9-2d95-42c5-ae16-537a81264b5e",
   "metadata": {},
   "source": [
    "## SVD"
   ]
  },
  {
   "cell_type": "code",
   "execution_count": 10,
   "id": "646a98cf-13a8-4298-af01-0ba90c7ea3ec",
   "metadata": {},
   "outputs": [],
   "source": [
    "U, S, V = np.linalg.svd(G)"
   ]
  },
  {
   "cell_type": "code",
   "execution_count": 11,
   "id": "2ed05d52-2957-4fa5-a0d6-bb2d118ee413",
   "metadata": {},
   "outputs": [
    {
     "name": "stdout",
     "output_type": "stream",
     "text": [
      "[[-0.357 -0.313  0.277  0.149 -0.194  0.572 -0.119  0.431  0.333]\n",
      " [-0.344 -0.244  0.205  0.109 -0.099 -0.102 -0.004 -0.798  0.333]\n",
      " [-0.319 -0.104  0.073  0.007  0.045 -0.747  0.193  0.417  0.333]\n",
      " [-0.264  0.81   0.061 -0.354 -0.118  0.136  0.033 -0.03   0.333]\n",
      " [-0.144 -0.08  -0.502 -0.044  0.747  0.167 -0.145 -0.023  0.333]\n",
      " [ 0.402 -0.341  0.014 -0.74  -0.169 -0.039 -0.185 -0.     0.333]\n",
      " [ 0.454  0.034  0.317  0.149  0.259  0.162  0.682 -0.021  0.333]\n",
      " [ 0.41   0.229  0.237  0.425  0.057 -0.174 -0.63   0.03   0.333]\n",
      " [ 0.162  0.008 -0.681  0.298 -0.528  0.025  0.175 -0.005  0.333]]\n",
      "\n",
      "[4213.839  989.786  637.703  537.758  301.607  178.743  148.428   73.134\n",
      "    0.   ]\n",
      "\n",
      "[[-0.357 -0.344 -0.319 -0.264 -0.144  0.402  0.454  0.41   0.162]\n",
      " [-0.313 -0.244 -0.104  0.81  -0.08  -0.341  0.034  0.229  0.008]\n",
      " [ 0.277  0.205  0.073  0.061 -0.502  0.014  0.317  0.237 -0.681]\n",
      " [ 0.149  0.109  0.007 -0.354 -0.044 -0.74   0.149  0.425  0.298]\n",
      " [-0.194 -0.099  0.045 -0.118  0.747 -0.169  0.259  0.057 -0.528]\n",
      " [ 0.572 -0.102 -0.747  0.136  0.167 -0.039  0.162 -0.174  0.025]\n",
      " [-0.119 -0.004  0.193  0.033 -0.145 -0.185  0.682 -0.63   0.175]\n",
      " [ 0.431 -0.798  0.417 -0.03  -0.023 -0.    -0.021  0.03  -0.005]\n",
      " [-0.333 -0.333 -0.333 -0.333 -0.333 -0.333 -0.333 -0.333 -0.333]]\n"
     ]
    }
   ],
   "source": [
    "print(np.round(U, 3))\n",
    "print('')\n",
    "print(np.round(S, 3))\n",
    "print('')\n",
    "print(np.round(V, 3))"
   ]
  },
  {
   "cell_type": "markdown",
   "id": "2164c9af-944f-46a7-9d8d-94ad0f7c0712",
   "metadata": {},
   "source": [
    "#### Proyección a dos componente principales"
   ]
  },
  {
   "cell_type": "code",
   "execution_count": 12,
   "id": "252caf2b-df63-4080-9140-9912d0a46f78",
   "metadata": {},
   "outputs": [],
   "source": [
    "P = D2 @ V.T[:,:2]"
   ]
  },
  {
   "cell_type": "code",
   "execution_count": 13,
   "id": "59e5ec93-9fa0-4d2d-81f0-a57af175c358",
   "metadata": {},
   "outputs": [
    {
     "data": {
      "text/plain": [
       "array([[ 3394.89163104,   835.59023073],\n",
       "       [ 3283.89062364,   699.67550813],\n",
       "       [ 3076.32059143,   422.38127087],\n",
       "       [ 2612.24344052, -1386.56150777],\n",
       "       [ 1600.39017364,   375.48302985],\n",
       "       [-2998.40298536,   891.20920433],\n",
       "       [-3441.39673177,   149.11280449],\n",
       "       [-3068.20969982,  -235.67171771],\n",
       "       [ -981.89393422,   200.00642073]])"
      ]
     },
     "execution_count": 13,
     "metadata": {},
     "output_type": "execute_result"
    }
   ],
   "source": [
    "P"
   ]
  },
  {
   "cell_type": "code",
   "execution_count": 14,
   "id": "3a3ea943-23fa-4e9f-97f0-88935b7c4125",
   "metadata": {},
   "outputs": [
    {
     "data": {
      "image/png": "[encoded data removed]",
      "text/plain": [
       "<Figure size 432x432 with 1 Axes>"
      ]
     },
     "metadata": {
      "needs_background": "light"
     },
     "output_type": "display_data"
    }
   ],
   "source": [
    "plt.figure(figsize=(6,6))\n",
    "plt.plot(P[:,0], P[:,1], 'ko')\n",
    "for i in np.arange(0, P.shape[0]):\n",
    "    plt.annotate(cities[i], (P[i,0], P[i,1]))\n",
    "plt.show()"
   ]
  },
  {
   "cell_type": "code",
   "execution_count": null,
   "id": "6039bf8e-6f47-4e6e-824c-bf936639037e",
   "metadata": {},
   "outputs": [],
   "source": []
  }
 ],
 "metadata": {
  "kernelspec": {
   "display_name": "Python 3",
   "language": "python",
   "name": "python3"
  },
  "language_info": {
   "codemirror_mode": {
    "name": "ipython",
    "version": 3
   },
   "file_extension": ".py",
   "mimetype": "text/x-python",
   "name": "python",
   "nbconvert_exporter": "python",
   "pygments_lexer": "ipython3",
   "version": "3.9.15"
  },
  "vscode": {
   "interpreter": {
    "hash": "2ad80127e814209d9578ab6188c04c59d123574a2b99f4136493746111eb2983"
   }
  }
 },
 "nbformat": 4,
 "nbformat_minor": 5
}
